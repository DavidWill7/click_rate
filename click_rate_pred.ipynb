{
 "cells": [
  {
   "cell_type": "markdown",
   "metadata": {},
   "source": [
    "## Random Resample"
   ]
  },
  {
   "cell_type": "code",
   "execution_count": 1,
   "metadata": {},
   "outputs": [],
   "source": [
    "import numpy as np\n",
    "\n",
    "types_df = {\n",
    "    'id': np.dtype(int), \n",
    "    'click': np.dtype(int),       \n",
    "    'hour': np.dtype(int),       \n",
    "    'C1': np.dtype(int),          \n",
    "    'banner_pos': np.dtype(int),  \n",
    "    'site_id': np.dtype(str),     \n",
    "    'site_domain': np.dtype(str),  \n",
    "    'site_category': np.dtype(str),\n",
    "    'app_id': np.dtype(str),       \n",
    "    'app_domain': np.dtype(str),\n",
    "    'app_category': np.dtype(str), \n",
    "    'device_id': np.dtype(str),    \n",
    "    'device_ip': np.dtype(str),    \n",
    "    'device_model': np.dtype(str),  \n",
    "    'device_type': np.dtype(int),   \n",
    "    'device_conn_type': np.dtype(int),\n",
    "    'C14': np.dtype(int),   \n",
    "    'C15': np.dtype(int),  \n",
    "    'C16': np.dtype(int),   \n",
    "    'C17': np.dtype(int),   \n",
    "    'C18': np.dtype(int),   \n",
    "    'C19': np.dtype(int),   \n",
    "    'C20': np.dtype(int),   \n",
    "    'C21':np.dtype(int)   \n",
    "}"
   ]
  },
  {
   "cell_type": "code",
   "execution_count": 2,
   "metadata": {},
   "outputs": [
    {
     "name": "stderr",
     "output_type": "stream",
     "text": [
      "C:\\Users\\David\\Anaconda3\\lib\\site-packages\\ipykernel_launcher.py:10: FutureWarning: The pandas.datetime class is deprecated and will be removed from pandas in a future version. Import from datetime module instead.\n",
      "  # Remove the CWD from sys.path while we load stuff.\n"
     ]
    },
    {
     "data": {
      "text/html": [
       "<div>\n",
       "<style scoped>\n",
       "    .dataframe tbody tr th:only-of-type {\n",
       "        vertical-align: middle;\n",
       "    }\n",
       "\n",
       "    .dataframe tbody tr th {\n",
       "        vertical-align: top;\n",
       "    }\n",
       "\n",
       "    .dataframe thead th {\n",
       "        text-align: right;\n",
       "    }\n",
       "</style>\n",
       "<table border=\"1\" class=\"dataframe\">\n",
       "  <thead>\n",
       "    <tr style=\"text-align: right;\">\n",
       "      <th></th>\n",
       "      <th>id</th>\n",
       "      <th>click</th>\n",
       "      <th>hour</th>\n",
       "      <th>C1</th>\n",
       "      <th>banner_pos</th>\n",
       "      <th>site_id</th>\n",
       "      <th>site_domain</th>\n",
       "      <th>site_category</th>\n",
       "      <th>app_id</th>\n",
       "      <th>app_domain</th>\n",
       "      <th>...</th>\n",
       "      <th>device_type</th>\n",
       "      <th>device_conn_type</th>\n",
       "      <th>C14</th>\n",
       "      <th>C15</th>\n",
       "      <th>C16</th>\n",
       "      <th>C17</th>\n",
       "      <th>C18</th>\n",
       "      <th>C19</th>\n",
       "      <th>C20</th>\n",
       "      <th>C21</th>\n",
       "    </tr>\n",
       "  </thead>\n",
       "  <tbody>\n",
       "    <tr>\n",
       "      <th>0</th>\n",
       "      <td>871065379</td>\n",
       "      <td>0</td>\n",
       "      <td>2014-10-21</td>\n",
       "      <td>1005</td>\n",
       "      <td>0</td>\n",
       "      <td>1fbe01fe</td>\n",
       "      <td>f3845767</td>\n",
       "      <td>28905ebd</td>\n",
       "      <td>ecad2386</td>\n",
       "      <td>7801e8d9</td>\n",
       "      <td>...</td>\n",
       "      <td>1</td>\n",
       "      <td>0</td>\n",
       "      <td>15704</td>\n",
       "      <td>320</td>\n",
       "      <td>50</td>\n",
       "      <td>1722</td>\n",
       "      <td>0</td>\n",
       "      <td>35</td>\n",
       "      <td>100084</td>\n",
       "      <td>79</td>\n",
       "    </tr>\n",
       "    <tr>\n",
       "      <th>1</th>\n",
       "      <td>-1368576336</td>\n",
       "      <td>0</td>\n",
       "      <td>2014-10-21</td>\n",
       "      <td>1005</td>\n",
       "      <td>1</td>\n",
       "      <td>fe8cc448</td>\n",
       "      <td>9166c161</td>\n",
       "      <td>0569f928</td>\n",
       "      <td>ecad2386</td>\n",
       "      <td>7801e8d9</td>\n",
       "      <td>...</td>\n",
       "      <td>1</td>\n",
       "      <td>0</td>\n",
       "      <td>18993</td>\n",
       "      <td>320</td>\n",
       "      <td>50</td>\n",
       "      <td>2161</td>\n",
       "      <td>0</td>\n",
       "      <td>35</td>\n",
       "      <td>-1</td>\n",
       "      <td>157</td>\n",
       "    </tr>\n",
       "    <tr>\n",
       "      <th>2</th>\n",
       "      <td>-59070594</td>\n",
       "      <td>0</td>\n",
       "      <td>2014-10-21</td>\n",
       "      <td>1005</td>\n",
       "      <td>1</td>\n",
       "      <td>0eb72673</td>\n",
       "      <td>d2f72222</td>\n",
       "      <td>f028772b</td>\n",
       "      <td>ecad2386</td>\n",
       "      <td>7801e8d9</td>\n",
       "      <td>...</td>\n",
       "      <td>1</td>\n",
       "      <td>0</td>\n",
       "      <td>16208</td>\n",
       "      <td>320</td>\n",
       "      <td>50</td>\n",
       "      <td>1800</td>\n",
       "      <td>3</td>\n",
       "      <td>167</td>\n",
       "      <td>100075</td>\n",
       "      <td>23</td>\n",
       "    </tr>\n",
       "    <tr>\n",
       "      <th>3</th>\n",
       "      <td>-1976641901</td>\n",
       "      <td>0</td>\n",
       "      <td>2014-10-21</td>\n",
       "      <td>1005</td>\n",
       "      <td>0</td>\n",
       "      <td>1fbe01fe</td>\n",
       "      <td>f3845767</td>\n",
       "      <td>28905ebd</td>\n",
       "      <td>ecad2386</td>\n",
       "      <td>7801e8d9</td>\n",
       "      <td>...</td>\n",
       "      <td>1</td>\n",
       "      <td>0</td>\n",
       "      <td>15704</td>\n",
       "      <td>320</td>\n",
       "      <td>50</td>\n",
       "      <td>1722</td>\n",
       "      <td>0</td>\n",
       "      <td>35</td>\n",
       "      <td>-1</td>\n",
       "      <td>79</td>\n",
       "    </tr>\n",
       "    <tr>\n",
       "      <th>4</th>\n",
       "      <td>-152979991</td>\n",
       "      <td>0</td>\n",
       "      <td>2014-10-21</td>\n",
       "      <td>1005</td>\n",
       "      <td>0</td>\n",
       "      <td>1fbe01fe</td>\n",
       "      <td>f3845767</td>\n",
       "      <td>28905ebd</td>\n",
       "      <td>ecad2386</td>\n",
       "      <td>7801e8d9</td>\n",
       "      <td>...</td>\n",
       "      <td>1</td>\n",
       "      <td>0</td>\n",
       "      <td>15707</td>\n",
       "      <td>320</td>\n",
       "      <td>50</td>\n",
       "      <td>1722</td>\n",
       "      <td>0</td>\n",
       "      <td>35</td>\n",
       "      <td>-1</td>\n",
       "      <td>79</td>\n",
       "    </tr>\n",
       "  </tbody>\n",
       "</table>\n",
       "<p>5 rows × 24 columns</p>\n",
       "</div>"
      ],
      "text/plain": [
       "           id  click       hour    C1  banner_pos   site_id site_domain  \\\n",
       "0   871065379      0 2014-10-21  1005           0  1fbe01fe    f3845767   \n",
       "1 -1368576336      0 2014-10-21  1005           1  fe8cc448    9166c161   \n",
       "2   -59070594      0 2014-10-21  1005           1  0eb72673    d2f72222   \n",
       "3 -1976641901      0 2014-10-21  1005           0  1fbe01fe    f3845767   \n",
       "4  -152979991      0 2014-10-21  1005           0  1fbe01fe    f3845767   \n",
       "\n",
       "  site_category    app_id app_domain  ... device_type device_conn_type    C14  \\\n",
       "0      28905ebd  ecad2386   7801e8d9  ...           1                0  15704   \n",
       "1      0569f928  ecad2386   7801e8d9  ...           1                0  18993   \n",
       "2      f028772b  ecad2386   7801e8d9  ...           1                0  16208   \n",
       "3      28905ebd  ecad2386   7801e8d9  ...           1                0  15704   \n",
       "4      28905ebd  ecad2386   7801e8d9  ...           1                0  15707   \n",
       "\n",
       "   C15  C16   C17  C18  C19     C20  C21  \n",
       "0  320   50  1722    0   35  100084   79  \n",
       "1  320   50  2161    0   35      -1  157  \n",
       "2  320   50  1800    3  167  100075   23  \n",
       "3  320   50  1722    0   35      -1   79  \n",
       "4  320   50  1722    0   35      -1   79  \n",
       "\n",
       "[5 rows x 24 columns]"
      ]
     },
     "execution_count": 2,
     "metadata": {},
     "output_type": "execute_result"
    }
   ],
   "source": [
    "import random\n",
    "import pandas as pd\n",
    "import matplotlib.pyplot as plt\n",
    "\n",
    "\n",
    "m = 40428967  \n",
    "sample_size= 1200000\n",
    "value = sorted(random.sample(range(1,m),m-sample_size))\n",
    "\n",
    "parser = lambda n :pd.datetime.strptime(n,'%y%m%d%H')\n",
    "\n",
    "\n",
    "df = pd.read_csv('./train.csv',parse_dates=['hour'],date_parser=parser,dtype=types_df,skiprows=value)\n",
    "\n",
    "df.head()"
   ]
  },
  {
   "cell_type": "code",
   "execution_count": 3,
   "metadata": {},
   "outputs": [
    {
     "data": {
      "text/plain": [
       "(1200000, 24)"
      ]
     },
     "execution_count": 3,
     "metadata": {},
     "output_type": "execute_result"
    }
   ],
   "source": [
    "df.shape"
   ]
  },
  {
   "cell_type": "markdown",
   "metadata": {},
   "source": [
    "\n",
    "## EDA\n"
   ]
  },
  {
   "cell_type": "code",
   "execution_count": 4,
   "metadata": {},
   "outputs": [
    {
     "data": {
      "text/plain": [
       "Index(['id', 'click', 'hour', 'C1', 'banner_pos', 'site_id', 'site_domain',\n",
       "       'site_category', 'app_id', 'app_domain', 'app_category', 'device_id',\n",
       "       'device_ip', 'device_model', 'device_type', 'device_conn_type', 'C14',\n",
       "       'C15', 'C16', 'C17', 'C18', 'C19', 'C20', 'C21'],\n",
       "      dtype='object')"
      ]
     },
     "execution_count": 4,
     "metadata": {},
     "output_type": "execute_result"
    }
   ],
   "source": [
    "df.columns"
   ]
  },
  {
   "cell_type": "code",
   "execution_count": 5,
   "metadata": {},
   "outputs": [
    {
     "name": "stdout",
     "output_type": "stream",
     "text": [
      "<class 'pandas.core.frame.DataFrame'>\n",
      "RangeIndex: 1200000 entries, 0 to 1199999\n",
      "Data columns (total 24 columns):\n",
      " #   Column            Non-Null Count    Dtype         \n",
      "---  ------            --------------    -----         \n",
      " 0   id                1200000 non-null  int32         \n",
      " 1   click             1200000 non-null  int32         \n",
      " 2   hour              1200000 non-null  datetime64[ns]\n",
      " 3   C1                1200000 non-null  int32         \n",
      " 4   banner_pos        1200000 non-null  int32         \n",
      " 5   site_id           1200000 non-null  object        \n",
      " 6   site_domain       1200000 non-null  object        \n",
      " 7   site_category     1200000 non-null  object        \n",
      " 8   app_id            1200000 non-null  object        \n",
      " 9   app_domain        1200000 non-null  object        \n",
      " 10  app_category      1200000 non-null  object        \n",
      " 11  device_id         1200000 non-null  object        \n",
      " 12  device_ip         1200000 non-null  object        \n",
      " 13  device_model      1200000 non-null  object        \n",
      " 14  device_type       1200000 non-null  int32         \n",
      " 15  device_conn_type  1200000 non-null  int32         \n",
      " 16  C14               1200000 non-null  int32         \n",
      " 17  C15               1200000 non-null  int32         \n",
      " 18  C16               1200000 non-null  int32         \n",
      " 19  C17               1200000 non-null  int32         \n",
      " 20  C18               1200000 non-null  int32         \n",
      " 21  C19               1200000 non-null  int32         \n",
      " 22  C20               1200000 non-null  int32         \n",
      " 23  C21               1200000 non-null  int32         \n",
      "dtypes: datetime64[ns](1), int32(14), object(9)\n",
      "memory usage: 155.6+ MB\n"
     ]
    }
   ],
   "source": [
    "df.info()"
   ]
  },
  {
   "cell_type": "code",
   "execution_count": 6,
   "metadata": {},
   "outputs": [
    {
     "data": {
      "text/html": [
       "<div>\n",
       "<style scoped>\n",
       "    .dataframe tbody tr th:only-of-type {\n",
       "        vertical-align: middle;\n",
       "    }\n",
       "\n",
       "    .dataframe tbody tr th {\n",
       "        vertical-align: top;\n",
       "    }\n",
       "\n",
       "    .dataframe thead th {\n",
       "        text-align: right;\n",
       "    }\n",
       "</style>\n",
       "<table border=\"1\" class=\"dataframe\">\n",
       "  <thead>\n",
       "    <tr style=\"text-align: right;\">\n",
       "      <th></th>\n",
       "      <th>id</th>\n",
       "      <th>click</th>\n",
       "      <th>C1</th>\n",
       "      <th>banner_pos</th>\n",
       "      <th>device_type</th>\n",
       "      <th>device_conn_type</th>\n",
       "      <th>C14</th>\n",
       "      <th>C15</th>\n",
       "      <th>C16</th>\n",
       "      <th>C17</th>\n",
       "      <th>C18</th>\n",
       "      <th>C19</th>\n",
       "      <th>C20</th>\n",
       "      <th>C21</th>\n",
       "    </tr>\n",
       "  </thead>\n",
       "  <tbody>\n",
       "    <tr>\n",
       "      <th>count</th>\n",
       "      <td>1.200000e+06</td>\n",
       "      <td>1.200000e+06</td>\n",
       "      <td>1.200000e+06</td>\n",
       "      <td>1.200000e+06</td>\n",
       "      <td>1.200000e+06</td>\n",
       "      <td>1.200000e+06</td>\n",
       "      <td>1.200000e+06</td>\n",
       "      <td>1.200000e+06</td>\n",
       "      <td>1.200000e+06</td>\n",
       "      <td>1.200000e+06</td>\n",
       "      <td>1.200000e+06</td>\n",
       "      <td>1.200000e+06</td>\n",
       "      <td>1.200000e+06</td>\n",
       "      <td>1.200000e+06</td>\n",
       "    </tr>\n",
       "    <tr>\n",
       "      <th>mean</th>\n",
       "      <td>-4.263815e+05</td>\n",
       "      <td>1.700950e-01</td>\n",
       "      <td>1.004967e+03</td>\n",
       "      <td>2.883242e-01</td>\n",
       "      <td>1.014976e+00</td>\n",
       "      <td>3.310700e-01</td>\n",
       "      <td>1.884151e+04</td>\n",
       "      <td>3.188552e+02</td>\n",
       "      <td>6.007672e+01</td>\n",
       "      <td>2.112465e+03</td>\n",
       "      <td>1.433467e+00</td>\n",
       "      <td>2.272590e+02</td>\n",
       "      <td>5.320928e+04</td>\n",
       "      <td>8.337543e+01</td>\n",
       "    </tr>\n",
       "    <tr>\n",
       "      <th>std</th>\n",
       "      <td>1.239869e+09</td>\n",
       "      <td>3.757164e-01</td>\n",
       "      <td>1.094535e+00</td>\n",
       "      <td>5.091940e-01</td>\n",
       "      <td>5.265581e-01</td>\n",
       "      <td>8.548235e-01</td>\n",
       "      <td>4.958555e+03</td>\n",
       "      <td>2.098474e+01</td>\n",
       "      <td>4.723214e+01</td>\n",
       "      <td>6.094384e+02</td>\n",
       "      <td>1.326328e+00</td>\n",
       "      <td>3.512472e+02</td>\n",
       "      <td>4.995731e+04</td>\n",
       "      <td>7.025758e+01</td>\n",
       "    </tr>\n",
       "    <tr>\n",
       "      <th>min</th>\n",
       "      <td>-2.147482e+09</td>\n",
       "      <td>0.000000e+00</td>\n",
       "      <td>1.001000e+03</td>\n",
       "      <td>0.000000e+00</td>\n",
       "      <td>0.000000e+00</td>\n",
       "      <td>0.000000e+00</td>\n",
       "      <td>3.750000e+02</td>\n",
       "      <td>1.200000e+02</td>\n",
       "      <td>2.000000e+01</td>\n",
       "      <td>1.120000e+02</td>\n",
       "      <td>0.000000e+00</td>\n",
       "      <td>3.300000e+01</td>\n",
       "      <td>-1.000000e+00</td>\n",
       "      <td>1.000000e+00</td>\n",
       "    </tr>\n",
       "    <tr>\n",
       "      <th>25%</th>\n",
       "      <td>-1.074689e+09</td>\n",
       "      <td>0.000000e+00</td>\n",
       "      <td>1.005000e+03</td>\n",
       "      <td>0.000000e+00</td>\n",
       "      <td>1.000000e+00</td>\n",
       "      <td>0.000000e+00</td>\n",
       "      <td>1.692000e+04</td>\n",
       "      <td>3.200000e+02</td>\n",
       "      <td>5.000000e+01</td>\n",
       "      <td>1.863000e+03</td>\n",
       "      <td>0.000000e+00</td>\n",
       "      <td>3.500000e+01</td>\n",
       "      <td>-1.000000e+00</td>\n",
       "      <td>2.300000e+01</td>\n",
       "    </tr>\n",
       "    <tr>\n",
       "      <th>50%</th>\n",
       "      <td>-6.379045e+05</td>\n",
       "      <td>0.000000e+00</td>\n",
       "      <td>1.005000e+03</td>\n",
       "      <td>0.000000e+00</td>\n",
       "      <td>1.000000e+00</td>\n",
       "      <td>0.000000e+00</td>\n",
       "      <td>2.034600e+04</td>\n",
       "      <td>3.200000e+02</td>\n",
       "      <td>5.000000e+01</td>\n",
       "      <td>2.323000e+03</td>\n",
       "      <td>2.000000e+00</td>\n",
       "      <td>3.900000e+01</td>\n",
       "      <td>1.000480e+05</td>\n",
       "      <td>6.100000e+01</td>\n",
       "    </tr>\n",
       "    <tr>\n",
       "      <th>75%</th>\n",
       "      <td>1.073924e+09</td>\n",
       "      <td>0.000000e+00</td>\n",
       "      <td>1.005000e+03</td>\n",
       "      <td>1.000000e+00</td>\n",
       "      <td>1.000000e+00</td>\n",
       "      <td>0.000000e+00</td>\n",
       "      <td>2.189400e+04</td>\n",
       "      <td>3.200000e+02</td>\n",
       "      <td>5.000000e+01</td>\n",
       "      <td>2.526000e+03</td>\n",
       "      <td>3.000000e+00</td>\n",
       "      <td>1.710000e+02</td>\n",
       "      <td>1.000940e+05</td>\n",
       "      <td>1.010000e+02</td>\n",
       "    </tr>\n",
       "    <tr>\n",
       "      <th>max</th>\n",
       "      <td>2.147481e+09</td>\n",
       "      <td>1.000000e+00</td>\n",
       "      <td>1.012000e+03</td>\n",
       "      <td>7.000000e+00</td>\n",
       "      <td>5.000000e+00</td>\n",
       "      <td>5.000000e+00</td>\n",
       "      <td>2.405200e+04</td>\n",
       "      <td>1.024000e+03</td>\n",
       "      <td>1.024000e+03</td>\n",
       "      <td>2.758000e+03</td>\n",
       "      <td>3.000000e+00</td>\n",
       "      <td>1.839000e+03</td>\n",
       "      <td>1.002480e+05</td>\n",
       "      <td>2.550000e+02</td>\n",
       "    </tr>\n",
       "  </tbody>\n",
       "</table>\n",
       "</div>"
      ],
      "text/plain": [
       "                 id         click            C1    banner_pos   device_type  \\\n",
       "count  1.200000e+06  1.200000e+06  1.200000e+06  1.200000e+06  1.200000e+06   \n",
       "mean  -4.263815e+05  1.700950e-01  1.004967e+03  2.883242e-01  1.014976e+00   \n",
       "std    1.239869e+09  3.757164e-01  1.094535e+00  5.091940e-01  5.265581e-01   \n",
       "min   -2.147482e+09  0.000000e+00  1.001000e+03  0.000000e+00  0.000000e+00   \n",
       "25%   -1.074689e+09  0.000000e+00  1.005000e+03  0.000000e+00  1.000000e+00   \n",
       "50%   -6.379045e+05  0.000000e+00  1.005000e+03  0.000000e+00  1.000000e+00   \n",
       "75%    1.073924e+09  0.000000e+00  1.005000e+03  1.000000e+00  1.000000e+00   \n",
       "max    2.147481e+09  1.000000e+00  1.012000e+03  7.000000e+00  5.000000e+00   \n",
       "\n",
       "       device_conn_type           C14           C15           C16  \\\n",
       "count      1.200000e+06  1.200000e+06  1.200000e+06  1.200000e+06   \n",
       "mean       3.310700e-01  1.884151e+04  3.188552e+02  6.007672e+01   \n",
       "std        8.548235e-01  4.958555e+03  2.098474e+01  4.723214e+01   \n",
       "min        0.000000e+00  3.750000e+02  1.200000e+02  2.000000e+01   \n",
       "25%        0.000000e+00  1.692000e+04  3.200000e+02  5.000000e+01   \n",
       "50%        0.000000e+00  2.034600e+04  3.200000e+02  5.000000e+01   \n",
       "75%        0.000000e+00  2.189400e+04  3.200000e+02  5.000000e+01   \n",
       "max        5.000000e+00  2.405200e+04  1.024000e+03  1.024000e+03   \n",
       "\n",
       "                C17           C18           C19           C20           C21  \n",
       "count  1.200000e+06  1.200000e+06  1.200000e+06  1.200000e+06  1.200000e+06  \n",
       "mean   2.112465e+03  1.433467e+00  2.272590e+02  5.320928e+04  8.337543e+01  \n",
       "std    6.094384e+02  1.326328e+00  3.512472e+02  4.995731e+04  7.025758e+01  \n",
       "min    1.120000e+02  0.000000e+00  3.300000e+01 -1.000000e+00  1.000000e+00  \n",
       "25%    1.863000e+03  0.000000e+00  3.500000e+01 -1.000000e+00  2.300000e+01  \n",
       "50%    2.323000e+03  2.000000e+00  3.900000e+01  1.000480e+05  6.100000e+01  \n",
       "75%    2.526000e+03  3.000000e+00  1.710000e+02  1.000940e+05  1.010000e+02  \n",
       "max    2.758000e+03  3.000000e+00  1.839000e+03  1.002480e+05  2.550000e+02  "
      ]
     },
     "execution_count": 6,
     "metadata": {},
     "output_type": "execute_result"
    }
   ],
   "source": [
    "df.describe()"
   ]
  },
  {
   "cell_type": "code",
   "execution_count": 7,
   "metadata": {},
   "outputs": [
    {
     "data": {
      "text/plain": [
       "id                  0\n",
       "click               0\n",
       "hour                0\n",
       "C1                  0\n",
       "banner_pos          0\n",
       "site_id             0\n",
       "site_domain         0\n",
       "site_category       0\n",
       "app_id              0\n",
       "app_domain          0\n",
       "app_category        0\n",
       "device_id           0\n",
       "device_ip           0\n",
       "device_model        0\n",
       "device_type         0\n",
       "device_conn_type    0\n",
       "C14                 0\n",
       "C15                 0\n",
       "C16                 0\n",
       "C17                 0\n",
       "C18                 0\n",
       "C19                 0\n",
       "C20                 0\n",
       "C21                 0\n",
       "dtype: int64"
      ]
     },
     "execution_count": 7,
     "metadata": {},
     "output_type": "execute_result"
    }
   ],
   "source": [
    "df.isnull().sum()"
   ]
  },
  {
   "cell_type": "code",
   "execution_count": 8,
   "metadata": {},
   "outputs": [
    {
     "name": "stdout",
     "output_type": "stream",
     "text": [
      "0    995886\n",
      "1    204114\n",
      "Name: click, dtype: int64\n"
     ]
    },
    {
     "data": {
      "image/png": "[encoded data removed]",
      "text/plain": [
       "<Figure size 432x288 with 1 Axes>"
      ]
     },
     "metadata": {
      "needs_background": "light"
     },
     "output_type": "display_data"
    }
   ],
   "source": [
    "import seaborn as sns\n",
    "\n",
    "print(df['click'].value_counts())\n",
    "\n",
    "sns.countplot(x='click',data=df)\n",
    "\n",
    "plt.title('click rate')\n",
    "plt.show()"
   ]
  },
  {
   "cell_type": "code",
   "execution_count": 9,
   "metadata": {},
   "outputs": [
    {
     "data": {
      "text/plain": [
       "Text(0.5, 1.0, 'click_num and time')"
      ]
     },
     "execution_count": 9,
     "metadata": {},
     "output_type": "execute_result"
    },
    {
     "data": {
      "image/png": "[encoded data removed]",
      "text/plain": [
       "<Figure size 864x576 with 1 Axes>"
      ]
     },
     "metadata": {
      "needs_background": "light"
     },
     "output_type": "display_data"
    }
   ],
   "source": [
    "df.hour.describe()\n",
    "\n",
    "df.groupby('hour').agg({'click':'sum'}).plot(figsize=(12,8))\n",
    "\n",
    "plt.ylabel('click_num')\n",
    "plt.title('click_num and time')"
   ]
  },
  {
   "cell_type": "code",
   "execution_count": 10,
   "metadata": {},
   "outputs": [
    {
     "data": {
      "text/html": [
       "<div>\n",
       "<style scoped>\n",
       "    .dataframe tbody tr th:only-of-type {\n",
       "        vertical-align: middle;\n",
       "    }\n",
       "\n",
       "    .dataframe tbody tr th {\n",
       "        vertical-align: top;\n",
       "    }\n",
       "\n",
       "    .dataframe thead th {\n",
       "        text-align: right;\n",
       "    }\n",
       "</style>\n",
       "<table border=\"1\" class=\"dataframe\">\n",
       "  <thead>\n",
       "    <tr style=\"text-align: right;\">\n",
       "      <th></th>\n",
       "      <th>id</th>\n",
       "      <th>click</th>\n",
       "      <th>hour</th>\n",
       "      <th>C1</th>\n",
       "      <th>banner_pos</th>\n",
       "      <th>site_id</th>\n",
       "      <th>site_domain</th>\n",
       "      <th>site_category</th>\n",
       "      <th>app_id</th>\n",
       "      <th>app_domain</th>\n",
       "      <th>...</th>\n",
       "      <th>device_conn_type</th>\n",
       "      <th>C14</th>\n",
       "      <th>C15</th>\n",
       "      <th>C16</th>\n",
       "      <th>C17</th>\n",
       "      <th>C18</th>\n",
       "      <th>C19</th>\n",
       "      <th>C20</th>\n",
       "      <th>C21</th>\n",
       "      <th>time</th>\n",
       "    </tr>\n",
       "  </thead>\n",
       "  <tbody>\n",
       "    <tr>\n",
       "      <th>584124</th>\n",
       "      <td>-4688344</td>\n",
       "      <td>0</td>\n",
       "      <td>2014-10-25 19:00:00</td>\n",
       "      <td>1005</td>\n",
       "      <td>0</td>\n",
       "      <td>85f751fd</td>\n",
       "      <td>c4e18dd6</td>\n",
       "      <td>50e219e0</td>\n",
       "      <td>7358e05e</td>\n",
       "      <td>b9528b13</td>\n",
       "      <td>...</td>\n",
       "      <td>0</td>\n",
       "      <td>16615</td>\n",
       "      <td>320</td>\n",
       "      <td>50</td>\n",
       "      <td>1863</td>\n",
       "      <td>3</td>\n",
       "      <td>39</td>\n",
       "      <td>-1</td>\n",
       "      <td>23</td>\n",
       "      <td>19</td>\n",
       "    </tr>\n",
       "    <tr>\n",
       "      <th>138644</th>\n",
       "      <td>-1152168324</td>\n",
       "      <td>0</td>\n",
       "      <td>2014-10-22 04:00:00</td>\n",
       "      <td>1005</td>\n",
       "      <td>0</td>\n",
       "      <td>85f751fd</td>\n",
       "      <td>c4e18dd6</td>\n",
       "      <td>50e219e0</td>\n",
       "      <td>66f5e02e</td>\n",
       "      <td>6f7ca2ba</td>\n",
       "      <td>...</td>\n",
       "      <td>2</td>\n",
       "      <td>21790</td>\n",
       "      <td>320</td>\n",
       "      <td>50</td>\n",
       "      <td>2513</td>\n",
       "      <td>3</td>\n",
       "      <td>35</td>\n",
       "      <td>100034</td>\n",
       "      <td>68</td>\n",
       "      <td>4</td>\n",
       "    </tr>\n",
       "    <tr>\n",
       "      <th>1067254</th>\n",
       "      <td>920315572</td>\n",
       "      <td>0</td>\n",
       "      <td>2014-10-29 20:00:00</td>\n",
       "      <td>1005</td>\n",
       "      <td>0</td>\n",
       "      <td>85f751fd</td>\n",
       "      <td>c4e18dd6</td>\n",
       "      <td>50e219e0</td>\n",
       "      <td>febd1138</td>\n",
       "      <td>82e27996</td>\n",
       "      <td>...</td>\n",
       "      <td>0</td>\n",
       "      <td>21611</td>\n",
       "      <td>320</td>\n",
       "      <td>50</td>\n",
       "      <td>2480</td>\n",
       "      <td>3</td>\n",
       "      <td>297</td>\n",
       "      <td>100111</td>\n",
       "      <td>61</td>\n",
       "      <td>20</td>\n",
       "    </tr>\n",
       "    <tr>\n",
       "      <th>1019809</th>\n",
       "      <td>1383075968</td>\n",
       "      <td>0</td>\n",
       "      <td>2014-10-29 11:00:00</td>\n",
       "      <td>1005</td>\n",
       "      <td>0</td>\n",
       "      <td>85f751fd</td>\n",
       "      <td>c4e18dd6</td>\n",
       "      <td>50e219e0</td>\n",
       "      <td>92f5800b</td>\n",
       "      <td>ae637522</td>\n",
       "      <td>...</td>\n",
       "      <td>3</td>\n",
       "      <td>21189</td>\n",
       "      <td>320</td>\n",
       "      <td>50</td>\n",
       "      <td>2424</td>\n",
       "      <td>1</td>\n",
       "      <td>175</td>\n",
       "      <td>100193</td>\n",
       "      <td>71</td>\n",
       "      <td>11</td>\n",
       "    </tr>\n",
       "    <tr>\n",
       "      <th>420854</th>\n",
       "      <td>1615513026</td>\n",
       "      <td>0</td>\n",
       "      <td>2014-10-24 06:00:00</td>\n",
       "      <td>1005</td>\n",
       "      <td>0</td>\n",
       "      <td>85f751fd</td>\n",
       "      <td>c4e18dd6</td>\n",
       "      <td>50e219e0</td>\n",
       "      <td>98fed791</td>\n",
       "      <td>d9b5648e</td>\n",
       "      <td>...</td>\n",
       "      <td>0</td>\n",
       "      <td>21611</td>\n",
       "      <td>320</td>\n",
       "      <td>50</td>\n",
       "      <td>2480</td>\n",
       "      <td>3</td>\n",
       "      <td>297</td>\n",
       "      <td>100111</td>\n",
       "      <td>61</td>\n",
       "      <td>6</td>\n",
       "    </tr>\n",
       "    <tr>\n",
       "      <th>445196</th>\n",
       "      <td>2075819007</td>\n",
       "      <td>0</td>\n",
       "      <td>2014-10-24 11:00:00</td>\n",
       "      <td>1005</td>\n",
       "      <td>0</td>\n",
       "      <td>d9750ee7</td>\n",
       "      <td>98572c79</td>\n",
       "      <td>f028772b</td>\n",
       "      <td>ecad2386</td>\n",
       "      <td>7801e8d9</td>\n",
       "      <td>...</td>\n",
       "      <td>0</td>\n",
       "      <td>6392</td>\n",
       "      <td>320</td>\n",
       "      <td>50</td>\n",
       "      <td>547</td>\n",
       "      <td>3</td>\n",
       "      <td>47</td>\n",
       "      <td>-1</td>\n",
       "      <td>23</td>\n",
       "      <td>11</td>\n",
       "    </tr>\n",
       "    <tr>\n",
       "      <th>659671</th>\n",
       "      <td>-1017668335</td>\n",
       "      <td>0</td>\n",
       "      <td>2014-10-26 13:00:00</td>\n",
       "      <td>1005</td>\n",
       "      <td>0</td>\n",
       "      <td>1fbe01fe</td>\n",
       "      <td>f3845767</td>\n",
       "      <td>28905ebd</td>\n",
       "      <td>ecad2386</td>\n",
       "      <td>7801e8d9</td>\n",
       "      <td>...</td>\n",
       "      <td>0</td>\n",
       "      <td>15703</td>\n",
       "      <td>320</td>\n",
       "      <td>50</td>\n",
       "      <td>1722</td>\n",
       "      <td>0</td>\n",
       "      <td>35</td>\n",
       "      <td>-1</td>\n",
       "      <td>79</td>\n",
       "      <td>13</td>\n",
       "    </tr>\n",
       "    <tr>\n",
       "      <th>1158629</th>\n",
       "      <td>-192004383</td>\n",
       "      <td>0</td>\n",
       "      <td>2014-10-30 14:00:00</td>\n",
       "      <td>1005</td>\n",
       "      <td>0</td>\n",
       "      <td>f6cba1bd</td>\n",
       "      <td>5c9c05b7</td>\n",
       "      <td>f028772b</td>\n",
       "      <td>ecad2386</td>\n",
       "      <td>7801e8d9</td>\n",
       "      <td>...</td>\n",
       "      <td>0</td>\n",
       "      <td>24035</td>\n",
       "      <td>320</td>\n",
       "      <td>50</td>\n",
       "      <td>2755</td>\n",
       "      <td>0</td>\n",
       "      <td>35</td>\n",
       "      <td>100081</td>\n",
       "      <td>76</td>\n",
       "      <td>14</td>\n",
       "    </tr>\n",
       "    <tr>\n",
       "      <th>458270</th>\n",
       "      <td>-584836112</td>\n",
       "      <td>0</td>\n",
       "      <td>2014-10-24 13:00:00</td>\n",
       "      <td>1005</td>\n",
       "      <td>0</td>\n",
       "      <td>85f751fd</td>\n",
       "      <td>c4e18dd6</td>\n",
       "      <td>50e219e0</td>\n",
       "      <td>92f5800b</td>\n",
       "      <td>ae637522</td>\n",
       "      <td>...</td>\n",
       "      <td>3</td>\n",
       "      <td>21191</td>\n",
       "      <td>320</td>\n",
       "      <td>50</td>\n",
       "      <td>2424</td>\n",
       "      <td>1</td>\n",
       "      <td>161</td>\n",
       "      <td>100193</td>\n",
       "      <td>71</td>\n",
       "      <td>13</td>\n",
       "    </tr>\n",
       "    <tr>\n",
       "      <th>849850</th>\n",
       "      <td>-1629674817</td>\n",
       "      <td>0</td>\n",
       "      <td>2014-10-28 09:00:00</td>\n",
       "      <td>1005</td>\n",
       "      <td>0</td>\n",
       "      <td>85f751fd</td>\n",
       "      <td>c4e18dd6</td>\n",
       "      <td>50e219e0</td>\n",
       "      <td>f53417e1</td>\n",
       "      <td>0e8616ad</td>\n",
       "      <td>...</td>\n",
       "      <td>2</td>\n",
       "      <td>23143</td>\n",
       "      <td>320</td>\n",
       "      <td>50</td>\n",
       "      <td>2665</td>\n",
       "      <td>0</td>\n",
       "      <td>34</td>\n",
       "      <td>-1</td>\n",
       "      <td>221</td>\n",
       "      <td>9</td>\n",
       "    </tr>\n",
       "  </tbody>\n",
       "</table>\n",
       "<p>10 rows × 25 columns</p>\n",
       "</div>"
      ],
      "text/plain": [
       "                 id  click                hour    C1  banner_pos   site_id  \\\n",
       "584124     -4688344      0 2014-10-25 19:00:00  1005           0  85f751fd   \n",
       "138644  -1152168324      0 2014-10-22 04:00:00  1005           0  85f751fd   \n",
       "1067254   920315572      0 2014-10-29 20:00:00  1005           0  85f751fd   \n",
       "1019809  1383075968      0 2014-10-29 11:00:00  1005           0  85f751fd   \n",
       "420854   1615513026      0 2014-10-24 06:00:00  1005           0  85f751fd   \n",
       "445196   2075819007      0 2014-10-24 11:00:00  1005           0  d9750ee7   \n",
       "659671  -1017668335      0 2014-10-26 13:00:00  1005           0  1fbe01fe   \n",
       "1158629  -192004383      0 2014-10-30 14:00:00  1005           0  f6cba1bd   \n",
       "458270   -584836112      0 2014-10-24 13:00:00  1005           0  85f751fd   \n",
       "849850  -1629674817      0 2014-10-28 09:00:00  1005           0  85f751fd   \n",
       "\n",
       "        site_domain site_category    app_id app_domain  ... device_conn_type  \\\n",
       "584124     c4e18dd6      50e219e0  7358e05e   b9528b13  ...                0   \n",
       "138644     c4e18dd6      50e219e0  66f5e02e   6f7ca2ba  ...                2   \n",
       "1067254    c4e18dd6      50e219e0  febd1138   82e27996  ...                0   \n",
       "1019809    c4e18dd6      50e219e0  92f5800b   ae637522  ...                3   \n",
       "420854     c4e18dd6      50e219e0  98fed791   d9b5648e  ...                0   \n",
       "445196     98572c79      f028772b  ecad2386   7801e8d9  ...                0   \n",
       "659671     f3845767      28905ebd  ecad2386   7801e8d9  ...                0   \n",
       "1158629    5c9c05b7      f028772b  ecad2386   7801e8d9  ...                0   \n",
       "458270     c4e18dd6      50e219e0  92f5800b   ae637522  ...                3   \n",
       "849850     c4e18dd6      50e219e0  f53417e1   0e8616ad  ...                2   \n",
       "\n",
       "           C14  C15 C16   C17  C18  C19     C20  C21  time  \n",
       "584124   16615  320  50  1863    3   39      -1   23    19  \n",
       "138644   21790  320  50  2513    3   35  100034   68     4  \n",
       "1067254  21611  320  50  2480    3  297  100111   61    20  \n",
       "1019809  21189  320  50  2424    1  175  100193   71    11  \n",
       "420854   21611  320  50  2480    3  297  100111   61     6  \n",
       "445196    6392  320  50   547    3   47      -1   23    11  \n",
       "659671   15703  320  50  1722    0   35      -1   79    13  \n",
       "1158629  24035  320  50  2755    0   35  100081   76    14  \n",
       "458270   21191  320  50  2424    1  161  100193   71    13  \n",
       "849850   23143  320  50  2665    0   34      -1  221     9  \n",
       "\n",
       "[10 rows x 25 columns]"
      ]
     },
     "execution_count": 10,
     "metadata": {},
     "output_type": "execute_result"
    }
   ],
   "source": [
    "df['time'] = df.hour.apply(lambda x : x.hour)\n",
    "df.sample(10)"
   ]
  },
  {
   "cell_type": "code",
   "execution_count": 11,
   "metadata": {},
   "outputs": [
    {
     "data": {
      "text/plain": [
       "Text(0, 0.5, 'click_num')"
      ]
     },
     "execution_count": 11,
     "metadata": {},
     "output_type": "execute_result"
    },
    {
     "data": {
      "image/png": "[encoded data removed]",
      "text/plain": [
       "<Figure size 864x576 with 1 Axes>"
      ]
     },
     "metadata": {
      "needs_background": "light"
     },
     "output_type": "display_data"
    }
   ],
   "source": [
    "df.groupby('time').agg({'click':'sum'}).plot(figsize=(12,8))\n",
    "\n",
    "plt.title('time and click_num')\n",
    "plt.ylabel('click_num')"
   ]
  },
  {
   "cell_type": "code",
   "execution_count": 12,
   "metadata": {},
   "outputs": [
    {
     "data": {
      "text/plain": [
       "Text(0.5, 1.0, 'Impression and click')"
      ]
     },
     "execution_count": 12,
     "metadata": {},
     "output_type": "execute_result"
    },
    {
     "data": {
      "image/png": "[encoded data removed]",
      "text/plain": [
       "<Figure size 864x576 with 1 Axes>"
      ]
     },
     "metadata": {
      "needs_background": "light"
     },
     "output_type": "display_data"
    }
   ],
   "source": [
    "df.groupby(['time','click']).size().unstack().plot(kind='bar',figsize=(12,8))\n",
    "plt.ylabel('click of num')\n",
    "plt.title('Impression and click')"
   ]
  },
  {
   "cell_type": "code",
   "execution_count": 13,
   "metadata": {},
   "outputs": [
    {
     "data": {
      "text/html": [
       "<div>\n",
       "<style scoped>\n",
       "    .dataframe tbody tr th:only-of-type {\n",
       "        vertical-align: middle;\n",
       "    }\n",
       "\n",
       "    .dataframe tbody tr th {\n",
       "        vertical-align: top;\n",
       "    }\n",
       "\n",
       "    .dataframe thead th {\n",
       "        text-align: right;\n",
       "    }\n",
       "</style>\n",
       "<table border=\"1\" class=\"dataframe\">\n",
       "  <thead>\n",
       "    <tr style=\"text-align: right;\">\n",
       "      <th></th>\n",
       "      <th>time</th>\n",
       "      <th>impression</th>\n",
       "      <th>click</th>\n",
       "      <th>ctr</th>\n",
       "    </tr>\n",
       "  </thead>\n",
       "  <tbody>\n",
       "    <tr>\n",
       "      <th>0</th>\n",
       "      <td>0</td>\n",
       "      <td>25013</td>\n",
       "      <td>4510</td>\n",
       "      <td>18.030624</td>\n",
       "    </tr>\n",
       "    <tr>\n",
       "      <th>1</th>\n",
       "      <td>1</td>\n",
       "      <td>29241</td>\n",
       "      <td>5571</td>\n",
       "      <td>19.052016</td>\n",
       "    </tr>\n",
       "    <tr>\n",
       "      <th>2</th>\n",
       "      <td>2</td>\n",
       "      <td>36126</td>\n",
       "      <td>6329</td>\n",
       "      <td>17.519238</td>\n",
       "    </tr>\n",
       "    <tr>\n",
       "      <th>3</th>\n",
       "      <td>3</td>\n",
       "      <td>41307</td>\n",
       "      <td>7054</td>\n",
       "      <td>17.077009</td>\n",
       "    </tr>\n",
       "    <tr>\n",
       "      <th>4</th>\n",
       "      <td>4</td>\n",
       "      <td>56982</td>\n",
       "      <td>9151</td>\n",
       "      <td>16.059457</td>\n",
       "    </tr>\n",
       "  </tbody>\n",
       "</table>\n",
       "</div>"
      ],
      "text/plain": [
       "   time  impression  click        ctr\n",
       "0     0       25013   4510  18.030624\n",
       "1     1       29241   5571  19.052016\n",
       "2     2       36126   6329  17.519238\n",
       "3     3       41307   7054  17.077009\n",
       "4     4       56982   9151  16.059457"
      ]
     },
     "execution_count": 13,
     "metadata": {},
     "output_type": "execute_result"
    }
   ],
   "source": [
    "df_click_1 = df[df['click'] == 1]\n",
    "df_hour = df[['time','click']].groupby(['time']).count().reset_index()\n",
    "df_hour = df_hour.rename(columns={'click':'impression'})\n",
    "df_hour['click'] = df_click_1[['time','click']].groupby(['time']).count().reset_index()['click']\n",
    "df_hour['ctr'] = df_hour['click'] / df_hour['impression'] * 100\n",
    "\n",
    "df_hour.head()"
   ]
  },
  {
   "cell_type": "code",
   "execution_count": 14,
   "metadata": {},
   "outputs": [
    {
     "data": {
      "text/plain": [
       "Text(0.5, 1.0, 'ctr and time')"
      ]
     },
     "execution_count": 14,
     "metadata": {},
     "output_type": "execute_result"
    },
    {
     "data": {
      "image/png": "[encoded data removed]",
      "text/plain": [
       "<Figure size 432x288 with 1 Axes>"
      ]
     },
     "metadata": {
      "needs_background": "light"
     },
     "output_type": "display_data"
    }
   ],
   "source": [
    "sns.barplot(y='ctr',x='time',data=df_hour)\n",
    "plt.title('ctr and time')"
   ]
  },
  {
   "cell_type": "code",
   "execution_count": 15,
   "metadata": {},
   "outputs": [
    {
     "data": {
      "text/plain": [
       "Text(0, 0.5, 'click of num')"
      ]
     },
     "execution_count": 15,
     "metadata": {},
     "output_type": "execute_result"
    },
    {
     "data": {
      "image/png": "[encoded data removed]",
      "text/plain": [
       "<Figure size 864x576 with 1 Axes>"
      ]
     },
     "metadata": {
      "needs_background": "light"
     },
     "output_type": "display_data"
    }
   ],
   "source": [
    "df['day_of_week'] = df.hour.apply(lambda x : x.weekday())\n",
    "df['day_of_week'] = df['day_of_week'] + 1\n",
    "df.groupby('day_of_week').agg({'click':'sum'}).plot(figsize=(12,8))\n",
    "plt.title('week of click')\n",
    "plt.ylabel('click of num')"
   ]
  },
  {
   "cell_type": "code",
   "execution_count": 16,
   "metadata": {},
   "outputs": [
    {
     "data": {
      "text/plain": [
       "Text(0.5, 1.0, 'Impression and click')"
      ]
     },
     "execution_count": 16,
     "metadata": {},
     "output_type": "execute_result"
    },
    {
     "data": {
      "image/png": "[encoded data removed]",
      "text/plain": [
       "<Figure size 864x576 with 1 Axes>"
      ]
     },
     "metadata": {
      "needs_background": "light"
     },
     "output_type": "display_data"
    }
   ],
   "source": [
    "df.groupby(['day_of_week','click']).size().unstack().plot(kind='bar',figsize=(12,8))\n",
    "plt.ylabel('click of num')\n",
    "plt.title('Impression and click')"
   ]
  },
  {
   "cell_type": "code",
   "execution_count": 17,
   "metadata": {},
   "outputs": [
    {
     "data": {
      "text/plain": [
       "Text(0.5, 1.0, 'week of ctr')"
      ]
     },
     "execution_count": 17,
     "metadata": {},
     "output_type": "execute_result"
    },
    {
     "data": {
      "image/png": "[encoded data removed]",
      "text/plain": [
       "<Figure size 432x288 with 1 Axes>"
      ]
     },
     "metadata": {
      "needs_background": "light"
     },
     "output_type": "display_data"
    }
   ],
   "source": [
    "df_click_1 = df[df['click'] == 1]\n",
    "df_dayweek = df[['day_of_week','click']].groupby('day_of_week').count().reset_index()\n",
    "df_dayweek = df_dayweek.rename(columns={'click':'impression'})\n",
    "df_dayweek['click'] = df_click_1[['day_of_week','click']].groupby('day_of_week').count().reset_index()['click']\n",
    "df_dayweek['ctr'] = df_dayweek['click'] / df_dayweek['impression']*100\n",
    "sns.barplot(x='day_of_week',y='ctr',data=df_dayweek)\n",
    "plt.title('week of ctr')"
   ]
  },
  {
   "cell_type": "code",
   "execution_count": 18,
   "metadata": {},
   "outputs": [
    {
     "data": {
      "text/plain": [
       "1005    0.918587\n",
       "1002    0.055061\n",
       "1010    0.022318\n",
       "1012    0.002802\n",
       "1007    0.000878\n",
       "1001    0.000227\n",
       "1008    0.000128\n",
       "Name: C1, dtype: float64"
      ]
     },
     "execution_count": 18,
     "metadata": {},
     "output_type": "execute_result"
    }
   ],
   "source": [
    "df.C1.value_counts() / len(df)"
   ]
  },
  {
   "cell_type": "code",
   "execution_count": 19,
   "metadata": {},
   "outputs": [
    {
     "name": "stdout",
     "output_type": "stream",
     "text": [
      "C1 values:1001,click_rate:0.03676470588235294\n",
      "C1 values:1002,click_rate:0.2120987392732281\n",
      "C1 values:1005,click_rate:0.16957028188231196\n",
      "C1 values:1007,click_rate:0.04083570750237417\n",
      "C1 values:1008,click_rate:0.14285714285714285\n",
      "C1 values:1010,click_rate:0.09521320289746844\n",
      "C1 values:1012,click_rate:0.16567519333729921\n"
     ]
    }
   ],
   "source": [
    "c1_values = df.C1.unique()\n",
    "c1_values.sort()\n",
    "ctr_list = []\n",
    "for j in c1_values:\n",
    "    ctr = df.loc[np.where((df.C1 == j))].click.mean()\n",
    "    ctr_list.append(ctr)\n",
    "    print('C1 values:{},click_rate:{}'.format(j,ctr))"
   ]
  },
  {
   "cell_type": "code",
   "execution_count": 20,
   "metadata": {},
   "outputs": [
    {
     "data": {
      "text/plain": [
       "Text(0, 0.5, 'click of num')"
      ]
     },
     "execution_count": 20,
     "metadata": {},
     "output_type": "execute_result"
    },
    {
     "data": {
      "image/png": "[encoded data removed]",
      "text/plain": [
       "<Figure size 864x576 with 1 Axes>"
      ]
     },
     "metadata": {
      "needs_background": "light"
     },
     "output_type": "display_data"
    }
   ],
   "source": [
    "df.groupby(['C1','click']).size().unstack().plot(kind='bar',figsize=(12,8))\n",
    "plt.title('C1 of click')\n",
    "plt.ylabel('click of num')"
   ]
  },
  {
   "cell_type": "code",
   "execution_count": 21,
   "metadata": {},
   "outputs": [
    {
     "data": {
      "text/plain": [
       "Text(0.5, 1.0, 'C1 of ctr')"
      ]
     },
     "execution_count": 21,
     "metadata": {},
     "output_type": "execute_result"
    },
    {
     "data": {
      "image/png": "[encoded data removed]",
      "text/plain": [
       "<Figure size 432x288 with 1 Axes>"
      ]
     },
     "metadata": {
      "needs_background": "light"
     },
     "output_type": "display_data"
    }
   ],
   "source": [
    "df_c1 = df[['C1','click']].groupby(['C1']).count().reset_index()\n",
    "df_c1 = df_c1.rename(columns={'click':'impression'})\n",
    "df_c1['click'] = df_click_1[['C1','click']].groupby('C1').count().reset_index()['click']\n",
    "df_c1['ctr'] = df_c1['click'] / df_c1['impression'] * 100\n",
    "sns.barplot(x='C1',y='ctr',data=df_c1)\n",
    "plt.title('C1 of ctr')"
   ]
  },
  {
   "cell_type": "code",
   "execution_count": 22,
   "metadata": {},
   "outputs": [
    {
     "data": {
      "text/plain": [
       "320     0.932858\n",
       "300     0.057728\n",
       "216     0.007416\n",
       "728     0.001787\n",
       "120     0.000068\n",
       "1024    0.000062\n",
       "480     0.000051\n",
       "768     0.000032\n",
       "Name: C15, dtype: float64"
      ]
     },
     "execution_count": 22,
     "metadata": {},
     "output_type": "execute_result"
    }
   ],
   "source": [
    "df.C15.value_counts() / len(df)"
   ]
  },
  {
   "cell_type": "code",
   "execution_count": 23,
   "metadata": {},
   "outputs": [
    {
     "name": "stdout",
     "output_type": "stream",
     "text": [
      "C15 values:120, click rate:0.024390243902439025\n",
      "C15 values:216, click rate:0.1308012136195078\n",
      "C15 values:300, click rate:0.3576285132735698\n",
      "C15 values:320, click rate:0.1589881984476014\n",
      "C15 values:480, click rate:0.3114754098360656\n",
      "C15 values:728, click rate:0.06809701492537314\n",
      "C15 values:768, click rate:0.42105263157894735\n",
      "C15 values:1024, click rate:0.22972972972972974\n"
     ]
    }
   ],
   "source": [
    "c15_value = df.C15.unique()\n",
    "c15_value.sort()\n",
    "\n",
    "ctr_list = []\n",
    "for k in c15_value:\n",
    "    ctr = df.loc[np.where((df.C15 == k))].click.mean()\n",
    "    ctr_list.append(ctr)\n",
    "    print('C15 values:{}, click rate:{}'.format(k,ctr))\n"
   ]
  },
  {
   "cell_type": "code",
   "execution_count": 24,
   "metadata": {},
   "outputs": [
    {
     "data": {
      "text/plain": [
       "Text(0.5, 1.0, 'c15 of click')"
      ]
     },
     "execution_count": 24,
     "metadata": {},
     "output_type": "execute_result"
    },
    {
     "data": {
      "image/png": "[encoded data removed]",
      "text/plain": [
       "<Figure size 864x576 with 1 Axes>"
      ]
     },
     "metadata": {
      "needs_background": "light"
     },
     "output_type": "display_data"
    }
   ],
   "source": [
    "df.groupby(['C15','click']).size().unstack().plot(kind='bar',figsize=(12,8))\n",
    "plt.ylabel('click of num')\n",
    "plt.title('c15 of click')"
   ]
  },
  {
   "cell_type": "code",
   "execution_count": 25,
   "metadata": {},
   "outputs": [
    {
     "data": {
      "text/plain": [
       "<matplotlib.axes._subplots.AxesSubplot at 0x1e61d726bc8>"
      ]
     },
     "execution_count": 25,
     "metadata": {},
     "output_type": "execute_result"
    },
    {
     "data": {
      "image/png": "[encoded data removed]",
      "text/plain": [
       "<Figure size 432x288 with 1 Axes>"
      ]
     },
     "metadata": {
      "needs_background": "light"
     },
     "output_type": "display_data"
    }
   ],
   "source": [
    "df_c15 = df[['C15','click']].groupby('C15').count().reset_index()\n",
    "df_c15 = df_c15.rename(columns={'click':'impression'})\n",
    "df_c15['click'] = df_click_1[['C15','click']].groupby('C15').count().reset_index()['click']\n",
    "df_c15['ctr'] = df_c15['click'] / df_c15['impression'] * 100\n",
    "sns.barplot(x='C15',y='ctr',data=df_c15)"
   ]
  },
  {
   "cell_type": "code",
   "execution_count": 26,
   "metadata": {},
   "outputs": [
    {
     "data": {
      "text/plain": [
       "0    0.720097\n",
       "1    0.278059\n",
       "7    0.001145\n",
       "2    0.000310\n",
       "4    0.000210\n",
       "5    0.000128\n",
       "3    0.000051\n",
       "Name: banner_pos, dtype: float64"
      ]
     },
     "execution_count": 26,
     "metadata": {},
     "output_type": "execute_result"
    }
   ],
   "source": [
    "df.banner_pos.value_counts() / len(df)"
   ]
  },
  {
   "cell_type": "code",
   "execution_count": 27,
   "metadata": {},
   "outputs": [
    {
     "name": "stdout",
     "output_type": "stream",
     "text": [
      "banner_pos:0 , click:0.16462238331151915\n",
      "banner_pos:1 , click:0.18371389782150682\n",
      "banner_pos:2 , click:0.12634408602150538\n",
      "banner_pos:3 , click:0.16393442622950818\n",
      "banner_pos:4 , click:0.1984126984126984\n",
      "banner_pos:5 , click:0.13725490196078433\n",
      "banner_pos:7 , click:0.31513828238719066\n"
     ]
    }
   ],
   "source": [
    "banner_pos = df.banner_pos.unique()\n",
    "banner_pos.sort()\n",
    "ctr_list = []\n",
    "\n",
    "for i in banner_pos:\n",
    "    ctr = df.loc[np.where((df.banner_pos == i))].click.mean()\n",
    "    ctr_list.append(ctr)\n",
    "    print('banner_pos:{} , click:{}'.format(i,ctr))"
   ]
  },
  {
   "cell_type": "code",
   "execution_count": 28,
   "metadata": {},
   "outputs": [
    {
     "data": {
      "text/plain": [
       "Text(0, 0.5, 'click of num')"
      ]
     },
     "execution_count": 28,
     "metadata": {},
     "output_type": "execute_result"
    },
    {
     "data": {
      "image/png": "[encoded data removed]",
      "text/plain": [
       "<Figure size 864x576 with 1 Axes>"
      ]
     },
     "metadata": {
      "needs_background": "light"
     },
     "output_type": "display_data"
    }
   ],
   "source": [
    "df.groupby(['banner_pos','click']).size().unstack().plot(kind='bar',figsize=(12,8))\n",
    "plt.title('banner_pos of click')\n",
    "plt.ylabel('click of num')"
   ]
  },
  {
   "cell_type": "code",
   "execution_count": 29,
   "metadata": {},
   "outputs": [
    {
     "data": {
      "text/plain": [
       "Text(0.5, 1.0, 'banner_pos of ctr')"
      ]
     },
     "execution_count": 29,
     "metadata": {},
     "output_type": "execute_result"
    },
    {
     "data": {
      "image/png": "[encoded data removed]",
      "text/plain": [
       "<Figure size 432x288 with 1 Axes>"
      ]
     },
     "metadata": {
      "needs_background": "light"
     },
     "output_type": "display_data"
    }
   ],
   "source": [
    "df_banner = df[['banner_pos','click']].groupby(['banner_pos']).count().reset_index()\n",
    "df_banner = df_banner.rename(columns={'click':'impression'})\n",
    "df_banner['click'] = df_click_1[['banner_pos','click']].groupby(['banner_pos']).count().reset_index()['click']\n",
    "df_banner['ctr'] = df_banner['click'] / df_banner['impression'] * 100\n",
    "\n",
    "sort_banner = df_banner.sort_values(by='ctr',ascending=False)['banner_pos'].tolist()\n",
    "sns.barplot(x='banner_pos',y='ctr',data=df_banner,order=sort_banner)\n",
    "plt.title('banner_pos of ctr')"
   ]
  },
  {
   "cell_type": "code",
   "execution_count": 30,
   "metadata": {},
   "outputs": [
    {
     "data": {
      "text/plain": [
       "1    0.922619\n",
       "0    0.055061\n",
       "4    0.019238\n",
       "5    0.003080\n",
       "2    0.000002\n",
       "Name: device_type, dtype: float64"
      ]
     },
     "execution_count": 30,
     "metadata": {},
     "output_type": "execute_result"
    }
   ],
   "source": [
    "df.device_type.value_counts() / len(df)"
   ]
  },
  {
   "cell_type": "code",
   "execution_count": 31,
   "metadata": {},
   "outputs": [
    {
     "data": {
      "text/plain": [
       "Text(0.5, 1.0, 'device_type of click')"
      ]
     },
     "execution_count": 31,
     "metadata": {},
     "output_type": "execute_result"
    },
    {
     "data": {
      "image/png": "[encoded data removed]",
      "text/plain": [
       "<Figure size 864x576 with 1 Axes>"
      ]
     },
     "metadata": {
      "needs_background": "light"
     },
     "output_type": "display_data"
    }
   ],
   "source": [
    "df[['device_type','click']].groupby(['device_type','click']).size().unstack().plot(kind='bar',figsize=(12,8))\n",
    "plt.ylabel('click of num')\n",
    "plt.title('device_type of click')"
   ]
  },
  {
   "cell_type": "code",
   "execution_count": 32,
   "metadata": {},
   "outputs": [
    {
     "data": {
      "text/plain": [
       "Text(0.5, 1.0, 'device_type of click')"
      ]
     },
     "execution_count": 32,
     "metadata": {},
     "output_type": "execute_result"
    },
    {
     "data": {
      "image/png": "[encoded data removed]",
      "text/plain": [
       "<Figure size 864x576 with 1 Axes>"
      ]
     },
     "metadata": {
      "needs_background": "light"
     },
     "output_type": "display_data"
    }
   ],
   "source": [
    "df_click_1[df_click_1['device_type'] == 1].groupby(['time','click']).size().unstack().plot(kind='bar',figsize=(12,8))\n",
    "plt.ylabel('click of num')\n",
    "plt.title('device_type of click')"
   ]
  },
  {
   "cell_type": "code",
   "execution_count": 33,
   "metadata": {},
   "outputs": [
    {
     "data": {
      "text/html": [
       "<div>\n",
       "<style scoped>\n",
       "    .dataframe tbody tr th:only-of-type {\n",
       "        vertical-align: middle;\n",
       "    }\n",
       "\n",
       "    .dataframe tbody tr th {\n",
       "        vertical-align: top;\n",
       "    }\n",
       "\n",
       "    .dataframe thead th {\n",
       "        text-align: right;\n",
       "    }\n",
       "</style>\n",
       "<table border=\"1\" class=\"dataframe\">\n",
       "  <thead>\n",
       "    <tr style=\"text-align: right;\">\n",
       "      <th></th>\n",
       "      <th>device_type</th>\n",
       "      <th>click</th>\n",
       "      <th>impression</th>\n",
       "      <th>ctr</th>\n",
       "    </tr>\n",
       "  </thead>\n",
       "  <tbody>\n",
       "    <tr>\n",
       "      <th>0</th>\n",
       "      <td>0</td>\n",
       "      <td>14014</td>\n",
       "      <td>66073</td>\n",
       "      <td>21.209874</td>\n",
       "    </tr>\n",
       "    <tr>\n",
       "      <th>1</th>\n",
       "      <td>1</td>\n",
       "      <td>187550</td>\n",
       "      <td>1107143</td>\n",
       "      <td>16.939998</td>\n",
       "    </tr>\n",
       "    <tr>\n",
       "      <th>2</th>\n",
       "      <td>4</td>\n",
       "      <td>2184</td>\n",
       "      <td>23086</td>\n",
       "      <td>9.460279</td>\n",
       "    </tr>\n",
       "    <tr>\n",
       "      <th>3</th>\n",
       "      <td>5</td>\n",
       "      <td>366</td>\n",
       "      <td>3696</td>\n",
       "      <td>9.902597</td>\n",
       "    </tr>\n",
       "  </tbody>\n",
       "</table>\n",
       "</div>"
      ],
      "text/plain": [
       "   device_type   click  impression        ctr\n",
       "0            0   14014       66073  21.209874\n",
       "1            1  187550     1107143  16.939998\n",
       "2            4    2184       23086   9.460279\n",
       "3            5     366        3696   9.902597"
      ]
     },
     "execution_count": 33,
     "metadata": {},
     "output_type": "execute_result"
    }
   ],
   "source": [
    "device_click = df_click_1.groupby(['device_type']).agg({'click':'sum'}).reset_index()\n",
    "device_impression = df.groupby(['device_type']).agg({'click':'count'}).rename(columns={'click':'impression'}).reset_index()\n",
    "df_merge = pd.merge(left=device_click,right=device_impression,how='inner',on='device_type')\n",
    "df_merge['ctr'] = df_merge['click'] / df_merge['impression'] * 100\n",
    "df_merge"
   ]
  },
  {
   "cell_type": "code",
   "execution_count": 34,
   "metadata": {},
   "outputs": [
    {
     "data": {
      "text/plain": [
       "Text(0.5, 1.0, 'device_type of ctr')"
      ]
     },
     "execution_count": 34,
     "metadata": {},
     "output_type": "execute_result"
    },
    {
     "data": {
      "image/png": "[encoded data removed]",
      "text/plain": [
       "<Figure size 432x288 with 1 Axes>"
      ]
     },
     "metadata": {
      "needs_background": "light"
     },
     "output_type": "display_data"
    }
   ],
   "source": [
    "sns.barplot(x='device_type',y='ctr',data=df_merge)\n",
    "plt.title('device_type of ctr')"
   ]
  },
  {
   "cell_type": "markdown",
   "metadata": {},
   "source": [
    "## Build Model 1(LGB)"
   ]
  },
  {
   "cell_type": "code",
   "execution_count": 35,
   "metadata": {},
   "outputs": [
    {
     "data": {
      "text/html": [
       "<div>\n",
       "<style scoped>\n",
       "    .dataframe tbody tr th:only-of-type {\n",
       "        vertical-align: middle;\n",
       "    }\n",
       "\n",
       "    .dataframe tbody tr th {\n",
       "        vertical-align: top;\n",
       "    }\n",
       "\n",
       "    .dataframe thead th {\n",
       "        text-align: right;\n",
       "    }\n",
       "</style>\n",
       "<table border=\"1\" class=\"dataframe\">\n",
       "  <thead>\n",
       "    <tr style=\"text-align: right;\">\n",
       "      <th></th>\n",
       "      <th>id</th>\n",
       "      <th>click</th>\n",
       "      <th>hour</th>\n",
       "      <th>C1</th>\n",
       "      <th>banner_pos</th>\n",
       "      <th>site_id</th>\n",
       "      <th>site_domain</th>\n",
       "      <th>site_category</th>\n",
       "      <th>app_id</th>\n",
       "      <th>app_domain</th>\n",
       "      <th>...</th>\n",
       "      <th>C14</th>\n",
       "      <th>C15</th>\n",
       "      <th>C16</th>\n",
       "      <th>C17</th>\n",
       "      <th>C18</th>\n",
       "      <th>C19</th>\n",
       "      <th>C20</th>\n",
       "      <th>C21</th>\n",
       "      <th>time</th>\n",
       "      <th>day_of_week</th>\n",
       "    </tr>\n",
       "  </thead>\n",
       "  <tbody>\n",
       "    <tr>\n",
       "      <th>0</th>\n",
       "      <td>871065379</td>\n",
       "      <td>0</td>\n",
       "      <td>2014-10-21</td>\n",
       "      <td>1005</td>\n",
       "      <td>0</td>\n",
       "      <td>1fbe01fe</td>\n",
       "      <td>f3845767</td>\n",
       "      <td>28905ebd</td>\n",
       "      <td>ecad2386</td>\n",
       "      <td>7801e8d9</td>\n",
       "      <td>...</td>\n",
       "      <td>15704</td>\n",
       "      <td>320</td>\n",
       "      <td>50</td>\n",
       "      <td>1722</td>\n",
       "      <td>0</td>\n",
       "      <td>35</td>\n",
       "      <td>100084</td>\n",
       "      <td>79</td>\n",
       "      <td>0</td>\n",
       "      <td>2</td>\n",
       "    </tr>\n",
       "    <tr>\n",
       "      <th>1</th>\n",
       "      <td>-1368576336</td>\n",
       "      <td>0</td>\n",
       "      <td>2014-10-21</td>\n",
       "      <td>1005</td>\n",
       "      <td>1</td>\n",
       "      <td>fe8cc448</td>\n",
       "      <td>9166c161</td>\n",
       "      <td>0569f928</td>\n",
       "      <td>ecad2386</td>\n",
       "      <td>7801e8d9</td>\n",
       "      <td>...</td>\n",
       "      <td>18993</td>\n",
       "      <td>320</td>\n",
       "      <td>50</td>\n",
       "      <td>2161</td>\n",
       "      <td>0</td>\n",
       "      <td>35</td>\n",
       "      <td>-1</td>\n",
       "      <td>157</td>\n",
       "      <td>0</td>\n",
       "      <td>2</td>\n",
       "    </tr>\n",
       "    <tr>\n",
       "      <th>2</th>\n",
       "      <td>-59070594</td>\n",
       "      <td>0</td>\n",
       "      <td>2014-10-21</td>\n",
       "      <td>1005</td>\n",
       "      <td>1</td>\n",
       "      <td>0eb72673</td>\n",
       "      <td>d2f72222</td>\n",
       "      <td>f028772b</td>\n",
       "      <td>ecad2386</td>\n",
       "      <td>7801e8d9</td>\n",
       "      <td>...</td>\n",
       "      <td>16208</td>\n",
       "      <td>320</td>\n",
       "      <td>50</td>\n",
       "      <td>1800</td>\n",
       "      <td>3</td>\n",
       "      <td>167</td>\n",
       "      <td>100075</td>\n",
       "      <td>23</td>\n",
       "      <td>0</td>\n",
       "      <td>2</td>\n",
       "    </tr>\n",
       "    <tr>\n",
       "      <th>3</th>\n",
       "      <td>-1976641901</td>\n",
       "      <td>0</td>\n",
       "      <td>2014-10-21</td>\n",
       "      <td>1005</td>\n",
       "      <td>0</td>\n",
       "      <td>1fbe01fe</td>\n",
       "      <td>f3845767</td>\n",
       "      <td>28905ebd</td>\n",
       "      <td>ecad2386</td>\n",
       "      <td>7801e8d9</td>\n",
       "      <td>...</td>\n",
       "      <td>15704</td>\n",
       "      <td>320</td>\n",
       "      <td>50</td>\n",
       "      <td>1722</td>\n",
       "      <td>0</td>\n",
       "      <td>35</td>\n",
       "      <td>-1</td>\n",
       "      <td>79</td>\n",
       "      <td>0</td>\n",
       "      <td>2</td>\n",
       "    </tr>\n",
       "    <tr>\n",
       "      <th>4</th>\n",
       "      <td>-152979991</td>\n",
       "      <td>0</td>\n",
       "      <td>2014-10-21</td>\n",
       "      <td>1005</td>\n",
       "      <td>0</td>\n",
       "      <td>1fbe01fe</td>\n",
       "      <td>f3845767</td>\n",
       "      <td>28905ebd</td>\n",
       "      <td>ecad2386</td>\n",
       "      <td>7801e8d9</td>\n",
       "      <td>...</td>\n",
       "      <td>15707</td>\n",
       "      <td>320</td>\n",
       "      <td>50</td>\n",
       "      <td>1722</td>\n",
       "      <td>0</td>\n",
       "      <td>35</td>\n",
       "      <td>-1</td>\n",
       "      <td>79</td>\n",
       "      <td>0</td>\n",
       "      <td>2</td>\n",
       "    </tr>\n",
       "  </tbody>\n",
       "</table>\n",
       "<p>5 rows × 26 columns</p>\n",
       "</div>"
      ],
      "text/plain": [
       "           id  click       hour    C1  banner_pos   site_id site_domain  \\\n",
       "0   871065379      0 2014-10-21  1005           0  1fbe01fe    f3845767   \n",
       "1 -1368576336      0 2014-10-21  1005           1  fe8cc448    9166c161   \n",
       "2   -59070594      0 2014-10-21  1005           1  0eb72673    d2f72222   \n",
       "3 -1976641901      0 2014-10-21  1005           0  1fbe01fe    f3845767   \n",
       "4  -152979991      0 2014-10-21  1005           0  1fbe01fe    f3845767   \n",
       "\n",
       "  site_category    app_id app_domain  ...    C14  C15 C16   C17  C18  C19  \\\n",
       "0      28905ebd  ecad2386   7801e8d9  ...  15704  320  50  1722    0   35   \n",
       "1      0569f928  ecad2386   7801e8d9  ...  18993  320  50  2161    0   35   \n",
       "2      f028772b  ecad2386   7801e8d9  ...  16208  320  50  1800    3  167   \n",
       "3      28905ebd  ecad2386   7801e8d9  ...  15704  320  50  1722    0   35   \n",
       "4      28905ebd  ecad2386   7801e8d9  ...  15707  320  50  1722    0   35   \n",
       "\n",
       "      C20  C21  time  day_of_week  \n",
       "0  100084   79     0            2  \n",
       "1      -1  157     0            2  \n",
       "2  100075   23     0            2  \n",
       "3      -1   79     0            2  \n",
       "4      -1   79     0            2  \n",
       "\n",
       "[5 rows x 26 columns]"
      ]
     },
     "execution_count": 35,
     "metadata": {},
     "output_type": "execute_result"
    }
   ],
   "source": [
    "df.head()"
   ]
  },
  {
   "cell_type": "code",
   "execution_count": 36,
   "metadata": {},
   "outputs": [
    {
     "data": {
      "text/html": [
       "<div>\n",
       "<style scoped>\n",
       "    .dataframe tbody tr th:only-of-type {\n",
       "        vertical-align: middle;\n",
       "    }\n",
       "\n",
       "    .dataframe tbody tr th {\n",
       "        vertical-align: top;\n",
       "    }\n",
       "\n",
       "    .dataframe thead th {\n",
       "        text-align: right;\n",
       "    }\n",
       "</style>\n",
       "<table border=\"1\" class=\"dataframe\">\n",
       "  <thead>\n",
       "    <tr style=\"text-align: right;\">\n",
       "      <th></th>\n",
       "      <th>id</th>\n",
       "      <th>click</th>\n",
       "      <th>hour</th>\n",
       "      <th>C1</th>\n",
       "      <th>banner_pos</th>\n",
       "      <th>device_type</th>\n",
       "      <th>device_conn_type</th>\n",
       "      <th>C14</th>\n",
       "      <th>C15</th>\n",
       "      <th>C16</th>\n",
       "      <th>...</th>\n",
       "      <th>day_of_week</th>\n",
       "      <th>site_id_int</th>\n",
       "      <th>site_domain_int</th>\n",
       "      <th>site_category_int</th>\n",
       "      <th>app_id_int</th>\n",
       "      <th>app_domain_int</th>\n",
       "      <th>app_category_int</th>\n",
       "      <th>device_id_int</th>\n",
       "      <th>device_ip_int</th>\n",
       "      <th>device_model_int</th>\n",
       "    </tr>\n",
       "  </thead>\n",
       "  <tbody>\n",
       "    <tr>\n",
       "      <th>0</th>\n",
       "      <td>871065379</td>\n",
       "      <td>0</td>\n",
       "      <td>2014-10-21</td>\n",
       "      <td>1005</td>\n",
       "      <td>0</td>\n",
       "      <td>1</td>\n",
       "      <td>0</td>\n",
       "      <td>15704</td>\n",
       "      <td>320</td>\n",
       "      <td>50</td>\n",
       "      <td>...</td>\n",
       "      <td>2</td>\n",
       "      <td>-7549442696883768289</td>\n",
       "      <td>8945859128122314015</td>\n",
       "      <td>-8025730631660623144</td>\n",
       "      <td>3445915112977584600</td>\n",
       "      <td>-1954159502144851589</td>\n",
       "      <td>6941426943955565896</td>\n",
       "      <td>5801539304155984052</td>\n",
       "      <td>-2914286055196426313</td>\n",
       "      <td>-1909767534354745919</td>\n",
       "    </tr>\n",
       "    <tr>\n",
       "      <th>1</th>\n",
       "      <td>-1368576336</td>\n",
       "      <td>0</td>\n",
       "      <td>2014-10-21</td>\n",
       "      <td>1005</td>\n",
       "      <td>1</td>\n",
       "      <td>1</td>\n",
       "      <td>0</td>\n",
       "      <td>18993</td>\n",
       "      <td>320</td>\n",
       "      <td>50</td>\n",
       "      <td>...</td>\n",
       "      <td>2</td>\n",
       "      <td>2960427083784969724</td>\n",
       "      <td>1384918225132565098</td>\n",
       "      <td>-7428779714675867378</td>\n",
       "      <td>3445915112977584600</td>\n",
       "      <td>-1954159502144851589</td>\n",
       "      <td>6941426943955565896</td>\n",
       "      <td>5801539304155984052</td>\n",
       "      <td>2682004289094939851</td>\n",
       "      <td>-3767406907808041850</td>\n",
       "    </tr>\n",
       "    <tr>\n",
       "      <th>2</th>\n",
       "      <td>-59070594</td>\n",
       "      <td>0</td>\n",
       "      <td>2014-10-21</td>\n",
       "      <td>1005</td>\n",
       "      <td>1</td>\n",
       "      <td>1</td>\n",
       "      <td>0</td>\n",
       "      <td>16208</td>\n",
       "      <td>320</td>\n",
       "      <td>50</td>\n",
       "      <td>...</td>\n",
       "      <td>2</td>\n",
       "      <td>9136739585472739302</td>\n",
       "      <td>-9035857728529529992</td>\n",
       "      <td>-1199179336024497304</td>\n",
       "      <td>3445915112977584600</td>\n",
       "      <td>-1954159502144851589</td>\n",
       "      <td>6941426943955565896</td>\n",
       "      <td>5801539304155984052</td>\n",
       "      <td>-2022182251022548972</td>\n",
       "      <td>9140763846059668281</td>\n",
       "    </tr>\n",
       "    <tr>\n",
       "      <th>3</th>\n",
       "      <td>-1976641901</td>\n",
       "      <td>0</td>\n",
       "      <td>2014-10-21</td>\n",
       "      <td>1005</td>\n",
       "      <td>0</td>\n",
       "      <td>1</td>\n",
       "      <td>0</td>\n",
       "      <td>15704</td>\n",
       "      <td>320</td>\n",
       "      <td>50</td>\n",
       "      <td>...</td>\n",
       "      <td>2</td>\n",
       "      <td>-7549442696883768289</td>\n",
       "      <td>8945859128122314015</td>\n",
       "      <td>-8025730631660623144</td>\n",
       "      <td>3445915112977584600</td>\n",
       "      <td>-1954159502144851589</td>\n",
       "      <td>6941426943955565896</td>\n",
       "      <td>5801539304155984052</td>\n",
       "      <td>-2690061421966385454</td>\n",
       "      <td>-8685132460542728925</td>\n",
       "    </tr>\n",
       "    <tr>\n",
       "      <th>4</th>\n",
       "      <td>-152979991</td>\n",
       "      <td>0</td>\n",
       "      <td>2014-10-21</td>\n",
       "      <td>1005</td>\n",
       "      <td>0</td>\n",
       "      <td>1</td>\n",
       "      <td>0</td>\n",
       "      <td>15707</td>\n",
       "      <td>320</td>\n",
       "      <td>50</td>\n",
       "      <td>...</td>\n",
       "      <td>2</td>\n",
       "      <td>-7549442696883768289</td>\n",
       "      <td>8945859128122314015</td>\n",
       "      <td>-8025730631660623144</td>\n",
       "      <td>3445915112977584600</td>\n",
       "      <td>-1954159502144851589</td>\n",
       "      <td>6941426943955565896</td>\n",
       "      <td>5801539304155984052</td>\n",
       "      <td>235730577157277825</td>\n",
       "      <td>-8796388463822736172</td>\n",
       "    </tr>\n",
       "  </tbody>\n",
       "</table>\n",
       "<p>5 rows × 26 columns</p>\n",
       "</div>"
      ],
      "text/plain": [
       "           id  click       hour    C1  banner_pos  device_type  \\\n",
       "0   871065379      0 2014-10-21  1005           0            1   \n",
       "1 -1368576336      0 2014-10-21  1005           1            1   \n",
       "2   -59070594      0 2014-10-21  1005           1            1   \n",
       "3 -1976641901      0 2014-10-21  1005           0            1   \n",
       "4  -152979991      0 2014-10-21  1005           0            1   \n",
       "\n",
       "   device_conn_type    C14  C15  C16  ...  day_of_week          site_id_int  \\\n",
       "0                 0  15704  320   50  ...            2 -7549442696883768289   \n",
       "1                 0  18993  320   50  ...            2  2960427083784969724   \n",
       "2                 0  16208  320   50  ...            2  9136739585472739302   \n",
       "3                 0  15704  320   50  ...            2 -7549442696883768289   \n",
       "4                 0  15707  320   50  ...            2 -7549442696883768289   \n",
       "\n",
       "       site_domain_int    site_category_int           app_id_int  \\\n",
       "0  8945859128122314015 -8025730631660623144  3445915112977584600   \n",
       "1  1384918225132565098 -7428779714675867378  3445915112977584600   \n",
       "2 -9035857728529529992 -1199179336024497304  3445915112977584600   \n",
       "3  8945859128122314015 -8025730631660623144  3445915112977584600   \n",
       "4  8945859128122314015 -8025730631660623144  3445915112977584600   \n",
       "\n",
       "        app_domain_int     app_category_int        device_id_int  \\\n",
       "0 -1954159502144851589  6941426943955565896  5801539304155984052   \n",
       "1 -1954159502144851589  6941426943955565896  5801539304155984052   \n",
       "2 -1954159502144851589  6941426943955565896  5801539304155984052   \n",
       "3 -1954159502144851589  6941426943955565896  5801539304155984052   \n",
       "4 -1954159502144851589  6941426943955565896  5801539304155984052   \n",
       "\n",
       "         device_ip_int     device_model_int  \n",
       "0 -2914286055196426313 -1909767534354745919  \n",
       "1  2682004289094939851 -3767406907808041850  \n",
       "2 -2022182251022548972  9140763846059668281  \n",
       "3 -2690061421966385454 -8685132460542728925  \n",
       "4   235730577157277825 -8796388463822736172  \n",
       "\n",
       "[5 rows x 26 columns]"
      ]
     },
     "execution_count": 36,
     "metadata": {},
     "output_type": "execute_result"
    }
   ],
   "source": [
    "obj_columns = df.columns\n",
    "obj_list_type = df.dtypes\n",
    "new_col = '_int'\n",
    "\n",
    "for i in range(0,len(obj_columns)):\n",
    "    if obj_list_type[i] == object:\n",
    "        df[obj_columns[i]+new_col] = df[obj_columns[i]].map(lambda a :hash(a))\n",
    "        df.drop([obj_columns[i]],axis=1,inplace=True)\n",
    "df.head()\n",
    "    "
   ]
  },
  {
   "cell_type": "code",
   "execution_count": 37,
   "metadata": {},
   "outputs": [],
   "source": [
    "df = df.drop(['hour'],axis=1)"
   ]
  },
  {
   "cell_type": "code",
   "execution_count": 71,
   "metadata": {},
   "outputs": [
    {
     "ename": "KeyboardInterrupt",
     "evalue": "",
     "output_type": "error",
     "traceback": [
      "\u001b[1;31m---------------------------------------------------------------------------\u001b[0m",
      "\u001b[1;31mKeyboardInterrupt\u001b[0m                         Traceback (most recent call last)",
      "\u001b[1;32m<ipython-input-71-8bea53835c20>\u001b[0m in \u001b[0;36m<module>\u001b[1;34m\u001b[0m\n\u001b[0;32m     48\u001b[0m \u001b[0mgr_gbm\u001b[0m \u001b[1;33m=\u001b[0m \u001b[0mGridSearchCV\u001b[0m\u001b[1;33m(\u001b[0m\u001b[0mgbm\u001b[0m\u001b[1;33m,\u001b[0m\u001b[0mparam_grid\u001b[0m\u001b[1;33m=\u001b[0m\u001b[0mparams\u001b[0m\u001b[1;33m,\u001b[0m\u001b[0mcv\u001b[0m\u001b[1;33m=\u001b[0m\u001b[1;36m4\u001b[0m\u001b[1;33m,\u001b[0m\u001b[0mscoring\u001b[0m\u001b[1;33m=\u001b[0m\u001b[1;34m'neg_mean_squared_error'\u001b[0m\u001b[1;33m)\u001b[0m\u001b[1;33m\u001b[0m\u001b[1;33m\u001b[0m\u001b[0m\n\u001b[0;32m     49\u001b[0m \u001b[1;33m\u001b[0m\u001b[0m\n\u001b[1;32m---> 50\u001b[1;33m \u001b[0mgr_gbm\u001b[0m\u001b[1;33m.\u001b[0m\u001b[0mfit\u001b[0m\u001b[1;33m(\u001b[0m\u001b[0mx_train\u001b[0m\u001b[1;33m,\u001b[0m\u001b[0my_train\u001b[0m\u001b[1;33m)\u001b[0m\u001b[1;33m\u001b[0m\u001b[1;33m\u001b[0m\u001b[0m\n\u001b[0m",
      "\u001b[1;32m~\\Anaconda3\\lib\\site-packages\\sklearn\\utils\\validation.py\u001b[0m in \u001b[0;36minner_f\u001b[1;34m(*args, **kwargs)\u001b[0m\n\u001b[0;32m     71\u001b[0m                           FutureWarning)\n\u001b[0;32m     72\u001b[0m         \u001b[0mkwargs\u001b[0m\u001b[1;33m.\u001b[0m\u001b[0mupdate\u001b[0m\u001b[1;33m(\u001b[0m\u001b[1;33m{\u001b[0m\u001b[0mk\u001b[0m\u001b[1;33m:\u001b[0m \u001b[0marg\u001b[0m \u001b[1;32mfor\u001b[0m \u001b[0mk\u001b[0m\u001b[1;33m,\u001b[0m \u001b[0marg\u001b[0m \u001b[1;32min\u001b[0m \u001b[0mzip\u001b[0m\u001b[1;33m(\u001b[0m\u001b[0msig\u001b[0m\u001b[1;33m.\u001b[0m\u001b[0mparameters\u001b[0m\u001b[1;33m,\u001b[0m \u001b[0margs\u001b[0m\u001b[1;33m)\u001b[0m\u001b[1;33m}\u001b[0m\u001b[1;33m)\u001b[0m\u001b[1;33m\u001b[0m\u001b[1;33m\u001b[0m\u001b[0m\n\u001b[1;32m---> 73\u001b[1;33m         \u001b[1;32mreturn\u001b[0m \u001b[0mf\u001b[0m\u001b[1;33m(\u001b[0m\u001b[1;33m**\u001b[0m\u001b[0mkwargs\u001b[0m\u001b[1;33m)\u001b[0m\u001b[1;33m\u001b[0m\u001b[1;33m\u001b[0m\u001b[0m\n\u001b[0m\u001b[0;32m     74\u001b[0m     \u001b[1;32mreturn\u001b[0m \u001b[0minner_f\u001b[0m\u001b[1;33m\u001b[0m\u001b[1;33m\u001b[0m\u001b[0m\n\u001b[0;32m     75\u001b[0m \u001b[1;33m\u001b[0m\u001b[0m\n",
      "\u001b[1;32m~\\Anaconda3\\lib\\site-packages\\sklearn\\model_selection\\_search.py\u001b[0m in \u001b[0;36mfit\u001b[1;34m(self, X, y, groups, **fit_params)\u001b[0m\n\u001b[0;32m    734\u001b[0m                 \u001b[1;32mreturn\u001b[0m \u001b[0mresults\u001b[0m\u001b[1;33m\u001b[0m\u001b[1;33m\u001b[0m\u001b[0m\n\u001b[0;32m    735\u001b[0m \u001b[1;33m\u001b[0m\u001b[0m\n\u001b[1;32m--> 736\u001b[1;33m             \u001b[0mself\u001b[0m\u001b[1;33m.\u001b[0m\u001b[0m_run_search\u001b[0m\u001b[1;33m(\u001b[0m\u001b[0mevaluate_candidates\u001b[0m\u001b[1;33m)\u001b[0m\u001b[1;33m\u001b[0m\u001b[1;33m\u001b[0m\u001b[0m\n\u001b[0m\u001b[0;32m    737\u001b[0m \u001b[1;33m\u001b[0m\u001b[0m\n\u001b[0;32m    738\u001b[0m         \u001b[1;31m# For multi-metric evaluation, store the best_index_, best_params_ and\u001b[0m\u001b[1;33m\u001b[0m\u001b[1;33m\u001b[0m\u001b[1;33m\u001b[0m\u001b[0m\n",
      "\u001b[1;32m~\\Anaconda3\\lib\\site-packages\\sklearn\\model_selection\\_search.py\u001b[0m in \u001b[0;36m_run_search\u001b[1;34m(self, evaluate_candidates)\u001b[0m\n\u001b[0;32m   1186\u001b[0m     \u001b[1;32mdef\u001b[0m \u001b[0m_run_search\u001b[0m\u001b[1;33m(\u001b[0m\u001b[0mself\u001b[0m\u001b[1;33m,\u001b[0m \u001b[0mevaluate_candidates\u001b[0m\u001b[1;33m)\u001b[0m\u001b[1;33m:\u001b[0m\u001b[1;33m\u001b[0m\u001b[1;33m\u001b[0m\u001b[0m\n\u001b[0;32m   1187\u001b[0m         \u001b[1;34m\"\"\"Search all candidates in param_grid\"\"\"\u001b[0m\u001b[1;33m\u001b[0m\u001b[1;33m\u001b[0m\u001b[0m\n\u001b[1;32m-> 1188\u001b[1;33m         \u001b[0mevaluate_candidates\u001b[0m\u001b[1;33m(\u001b[0m\u001b[0mParameterGrid\u001b[0m\u001b[1;33m(\u001b[0m\u001b[0mself\u001b[0m\u001b[1;33m.\u001b[0m\u001b[0mparam_grid\u001b[0m\u001b[1;33m)\u001b[0m\u001b[1;33m)\u001b[0m\u001b[1;33m\u001b[0m\u001b[1;33m\u001b[0m\u001b[0m\n\u001b[0m\u001b[0;32m   1189\u001b[0m \u001b[1;33m\u001b[0m\u001b[0m\n\u001b[0;32m   1190\u001b[0m \u001b[1;33m\u001b[0m\u001b[0m\n",
      "\u001b[1;32m~\\Anaconda3\\lib\\site-packages\\sklearn\\model_selection\\_search.py\u001b[0m in \u001b[0;36mevaluate_candidates\u001b[1;34m(candidate_params)\u001b[0m\n\u001b[0;32m    713\u001b[0m                                \u001b[1;32mfor\u001b[0m \u001b[0mparameters\u001b[0m\u001b[1;33m,\u001b[0m \u001b[1;33m(\u001b[0m\u001b[0mtrain\u001b[0m\u001b[1;33m,\u001b[0m \u001b[0mtest\u001b[0m\u001b[1;33m)\u001b[0m\u001b[1;33m\u001b[0m\u001b[1;33m\u001b[0m\u001b[0m\n\u001b[0;32m    714\u001b[0m                                in product(candidate_params,\n\u001b[1;32m--> 715\u001b[1;33m                                           cv.split(X, y, groups)))\n\u001b[0m\u001b[0;32m    716\u001b[0m \u001b[1;33m\u001b[0m\u001b[0m\n\u001b[0;32m    717\u001b[0m                 \u001b[1;32mif\u001b[0m \u001b[0mlen\u001b[0m\u001b[1;33m(\u001b[0m\u001b[0mout\u001b[0m\u001b[1;33m)\u001b[0m \u001b[1;33m<\u001b[0m \u001b[1;36m1\u001b[0m\u001b[1;33m:\u001b[0m\u001b[1;33m\u001b[0m\u001b[1;33m\u001b[0m\u001b[0m\n",
      "\u001b[1;32m~\\Anaconda3\\lib\\site-packages\\joblib\\parallel.py\u001b[0m in \u001b[0;36m__call__\u001b[1;34m(self, iterable)\u001b[0m\n\u001b[0;32m   1030\u001b[0m                 \u001b[0mself\u001b[0m\u001b[1;33m.\u001b[0m\u001b[0m_iterating\u001b[0m \u001b[1;33m=\u001b[0m \u001b[0mself\u001b[0m\u001b[1;33m.\u001b[0m\u001b[0m_original_iterator\u001b[0m \u001b[1;32mis\u001b[0m \u001b[1;32mnot\u001b[0m \u001b[1;32mNone\u001b[0m\u001b[1;33m\u001b[0m\u001b[1;33m\u001b[0m\u001b[0m\n\u001b[0;32m   1031\u001b[0m \u001b[1;33m\u001b[0m\u001b[0m\n\u001b[1;32m-> 1032\u001b[1;33m             \u001b[1;32mwhile\u001b[0m \u001b[0mself\u001b[0m\u001b[1;33m.\u001b[0m\u001b[0mdispatch_one_batch\u001b[0m\u001b[1;33m(\u001b[0m\u001b[0miterator\u001b[0m\u001b[1;33m)\u001b[0m\u001b[1;33m:\u001b[0m\u001b[1;33m\u001b[0m\u001b[1;33m\u001b[0m\u001b[0m\n\u001b[0m\u001b[0;32m   1033\u001b[0m                 \u001b[1;32mpass\u001b[0m\u001b[1;33m\u001b[0m\u001b[1;33m\u001b[0m\u001b[0m\n\u001b[0;32m   1034\u001b[0m \u001b[1;33m\u001b[0m\u001b[0m\n",
      "\u001b[1;32m~\\Anaconda3\\lib\\site-packages\\joblib\\parallel.py\u001b[0m in \u001b[0;36mdispatch_one_batch\u001b[1;34m(self, iterator)\u001b[0m\n\u001b[0;32m    845\u001b[0m                 \u001b[1;32mreturn\u001b[0m \u001b[1;32mFalse\u001b[0m\u001b[1;33m\u001b[0m\u001b[1;33m\u001b[0m\u001b[0m\n\u001b[0;32m    846\u001b[0m             \u001b[1;32melse\u001b[0m\u001b[1;33m:\u001b[0m\u001b[1;33m\u001b[0m\u001b[1;33m\u001b[0m\u001b[0m\n\u001b[1;32m--> 847\u001b[1;33m                 \u001b[0mself\u001b[0m\u001b[1;33m.\u001b[0m\u001b[0m_dispatch\u001b[0m\u001b[1;33m(\u001b[0m\u001b[0mtasks\u001b[0m\u001b[1;33m)\u001b[0m\u001b[1;33m\u001b[0m\u001b[1;33m\u001b[0m\u001b[0m\n\u001b[0m\u001b[0;32m    848\u001b[0m                 \u001b[1;32mreturn\u001b[0m \u001b[1;32mTrue\u001b[0m\u001b[1;33m\u001b[0m\u001b[1;33m\u001b[0m\u001b[0m\n\u001b[0;32m    849\u001b[0m \u001b[1;33m\u001b[0m\u001b[0m\n",
      "\u001b[1;32m~\\Anaconda3\\lib\\site-packages\\joblib\\parallel.py\u001b[0m in \u001b[0;36m_dispatch\u001b[1;34m(self, batch)\u001b[0m\n\u001b[0;32m    763\u001b[0m         \u001b[1;32mwith\u001b[0m \u001b[0mself\u001b[0m\u001b[1;33m.\u001b[0m\u001b[0m_lock\u001b[0m\u001b[1;33m:\u001b[0m\u001b[1;33m\u001b[0m\u001b[1;33m\u001b[0m\u001b[0m\n\u001b[0;32m    764\u001b[0m             \u001b[0mjob_idx\u001b[0m \u001b[1;33m=\u001b[0m \u001b[0mlen\u001b[0m\u001b[1;33m(\u001b[0m\u001b[0mself\u001b[0m\u001b[1;33m.\u001b[0m\u001b[0m_jobs\u001b[0m\u001b[1;33m)\u001b[0m\u001b[1;33m\u001b[0m\u001b[1;33m\u001b[0m\u001b[0m\n\u001b[1;32m--> 765\u001b[1;33m             \u001b[0mjob\u001b[0m \u001b[1;33m=\u001b[0m \u001b[0mself\u001b[0m\u001b[1;33m.\u001b[0m\u001b[0m_backend\u001b[0m\u001b[1;33m.\u001b[0m\u001b[0mapply_async\u001b[0m\u001b[1;33m(\u001b[0m\u001b[0mbatch\u001b[0m\u001b[1;33m,\u001b[0m \u001b[0mcallback\u001b[0m\u001b[1;33m=\u001b[0m\u001b[0mcb\u001b[0m\u001b[1;33m)\u001b[0m\u001b[1;33m\u001b[0m\u001b[1;33m\u001b[0m\u001b[0m\n\u001b[0m\u001b[0;32m    766\u001b[0m             \u001b[1;31m# A job can complete so quickly than its callback is\u001b[0m\u001b[1;33m\u001b[0m\u001b[1;33m\u001b[0m\u001b[1;33m\u001b[0m\u001b[0m\n\u001b[0;32m    767\u001b[0m             \u001b[1;31m# called before we get here, causing self._jobs to\u001b[0m\u001b[1;33m\u001b[0m\u001b[1;33m\u001b[0m\u001b[1;33m\u001b[0m\u001b[0m\n",
      "\u001b[1;32m~\\Anaconda3\\lib\\site-packages\\joblib\\_parallel_backends.py\u001b[0m in \u001b[0;36mapply_async\u001b[1;34m(self, func, callback)\u001b[0m\n\u001b[0;32m    206\u001b[0m     \u001b[1;32mdef\u001b[0m \u001b[0mapply_async\u001b[0m\u001b[1;33m(\u001b[0m\u001b[0mself\u001b[0m\u001b[1;33m,\u001b[0m \u001b[0mfunc\u001b[0m\u001b[1;33m,\u001b[0m \u001b[0mcallback\u001b[0m\u001b[1;33m=\u001b[0m\u001b[1;32mNone\u001b[0m\u001b[1;33m)\u001b[0m\u001b[1;33m:\u001b[0m\u001b[1;33m\u001b[0m\u001b[1;33m\u001b[0m\u001b[0m\n\u001b[0;32m    207\u001b[0m         \u001b[1;34m\"\"\"Schedule a func to be run\"\"\"\u001b[0m\u001b[1;33m\u001b[0m\u001b[1;33m\u001b[0m\u001b[0m\n\u001b[1;32m--> 208\u001b[1;33m         \u001b[0mresult\u001b[0m \u001b[1;33m=\u001b[0m \u001b[0mImmediateResult\u001b[0m\u001b[1;33m(\u001b[0m\u001b[0mfunc\u001b[0m\u001b[1;33m)\u001b[0m\u001b[1;33m\u001b[0m\u001b[1;33m\u001b[0m\u001b[0m\n\u001b[0m\u001b[0;32m    209\u001b[0m         \u001b[1;32mif\u001b[0m \u001b[0mcallback\u001b[0m\u001b[1;33m:\u001b[0m\u001b[1;33m\u001b[0m\u001b[1;33m\u001b[0m\u001b[0m\n\u001b[0;32m    210\u001b[0m             \u001b[0mcallback\u001b[0m\u001b[1;33m(\u001b[0m\u001b[0mresult\u001b[0m\u001b[1;33m)\u001b[0m\u001b[1;33m\u001b[0m\u001b[1;33m\u001b[0m\u001b[0m\n",
      "\u001b[1;32m~\\Anaconda3\\lib\\site-packages\\joblib\\_parallel_backends.py\u001b[0m in \u001b[0;36m__init__\u001b[1;34m(self, batch)\u001b[0m\n\u001b[0;32m    570\u001b[0m         \u001b[1;31m# Don't delay the application, to avoid keeping the input\u001b[0m\u001b[1;33m\u001b[0m\u001b[1;33m\u001b[0m\u001b[1;33m\u001b[0m\u001b[0m\n\u001b[0;32m    571\u001b[0m         \u001b[1;31m# arguments in memory\u001b[0m\u001b[1;33m\u001b[0m\u001b[1;33m\u001b[0m\u001b[1;33m\u001b[0m\u001b[0m\n\u001b[1;32m--> 572\u001b[1;33m         \u001b[0mself\u001b[0m\u001b[1;33m.\u001b[0m\u001b[0mresults\u001b[0m \u001b[1;33m=\u001b[0m \u001b[0mbatch\u001b[0m\u001b[1;33m(\u001b[0m\u001b[1;33m)\u001b[0m\u001b[1;33m\u001b[0m\u001b[1;33m\u001b[0m\u001b[0m\n\u001b[0m\u001b[0;32m    573\u001b[0m \u001b[1;33m\u001b[0m\u001b[0m\n\u001b[0;32m    574\u001b[0m     \u001b[1;32mdef\u001b[0m \u001b[0mget\u001b[0m\u001b[1;33m(\u001b[0m\u001b[0mself\u001b[0m\u001b[1;33m)\u001b[0m\u001b[1;33m:\u001b[0m\u001b[1;33m\u001b[0m\u001b[1;33m\u001b[0m\u001b[0m\n",
      "\u001b[1;32m~\\Anaconda3\\lib\\site-packages\\joblib\\parallel.py\u001b[0m in \u001b[0;36m__call__\u001b[1;34m(self)\u001b[0m\n\u001b[0;32m    251\u001b[0m         \u001b[1;32mwith\u001b[0m \u001b[0mparallel_backend\u001b[0m\u001b[1;33m(\u001b[0m\u001b[0mself\u001b[0m\u001b[1;33m.\u001b[0m\u001b[0m_backend\u001b[0m\u001b[1;33m,\u001b[0m \u001b[0mn_jobs\u001b[0m\u001b[1;33m=\u001b[0m\u001b[0mself\u001b[0m\u001b[1;33m.\u001b[0m\u001b[0m_n_jobs\u001b[0m\u001b[1;33m)\u001b[0m\u001b[1;33m:\u001b[0m\u001b[1;33m\u001b[0m\u001b[1;33m\u001b[0m\u001b[0m\n\u001b[0;32m    252\u001b[0m             return [func(*args, **kwargs)\n\u001b[1;32m--> 253\u001b[1;33m                     for func, args, kwargs in self.items]\n\u001b[0m\u001b[0;32m    254\u001b[0m \u001b[1;33m\u001b[0m\u001b[0m\n\u001b[0;32m    255\u001b[0m     \u001b[1;32mdef\u001b[0m \u001b[0m__reduce__\u001b[0m\u001b[1;33m(\u001b[0m\u001b[0mself\u001b[0m\u001b[1;33m)\u001b[0m\u001b[1;33m:\u001b[0m\u001b[1;33m\u001b[0m\u001b[1;33m\u001b[0m\u001b[0m\n",
      "\u001b[1;32m~\\Anaconda3\\lib\\site-packages\\joblib\\parallel.py\u001b[0m in \u001b[0;36m<listcomp>\u001b[1;34m(.0)\u001b[0m\n\u001b[0;32m    251\u001b[0m         \u001b[1;32mwith\u001b[0m \u001b[0mparallel_backend\u001b[0m\u001b[1;33m(\u001b[0m\u001b[0mself\u001b[0m\u001b[1;33m.\u001b[0m\u001b[0m_backend\u001b[0m\u001b[1;33m,\u001b[0m \u001b[0mn_jobs\u001b[0m\u001b[1;33m=\u001b[0m\u001b[0mself\u001b[0m\u001b[1;33m.\u001b[0m\u001b[0m_n_jobs\u001b[0m\u001b[1;33m)\u001b[0m\u001b[1;33m:\u001b[0m\u001b[1;33m\u001b[0m\u001b[1;33m\u001b[0m\u001b[0m\n\u001b[0;32m    252\u001b[0m             return [func(*args, **kwargs)\n\u001b[1;32m--> 253\u001b[1;33m                     for func, args, kwargs in self.items]\n\u001b[0m\u001b[0;32m    254\u001b[0m \u001b[1;33m\u001b[0m\u001b[0m\n\u001b[0;32m    255\u001b[0m     \u001b[1;32mdef\u001b[0m \u001b[0m__reduce__\u001b[0m\u001b[1;33m(\u001b[0m\u001b[0mself\u001b[0m\u001b[1;33m)\u001b[0m\u001b[1;33m:\u001b[0m\u001b[1;33m\u001b[0m\u001b[1;33m\u001b[0m\u001b[0m\n",
      "\u001b[1;32m~\\Anaconda3\\lib\\site-packages\\sklearn\\model_selection\\_validation.py\u001b[0m in \u001b[0;36m_fit_and_score\u001b[1;34m(estimator, X, y, scorer, train, test, verbose, parameters, fit_params, return_train_score, return_parameters, return_n_test_samples, return_times, return_estimator, error_score)\u001b[0m\n\u001b[0;32m    529\u001b[0m             \u001b[0mestimator\u001b[0m\u001b[1;33m.\u001b[0m\u001b[0mfit\u001b[0m\u001b[1;33m(\u001b[0m\u001b[0mX_train\u001b[0m\u001b[1;33m,\u001b[0m \u001b[1;33m**\u001b[0m\u001b[0mfit_params\u001b[0m\u001b[1;33m)\u001b[0m\u001b[1;33m\u001b[0m\u001b[1;33m\u001b[0m\u001b[0m\n\u001b[0;32m    530\u001b[0m         \u001b[1;32melse\u001b[0m\u001b[1;33m:\u001b[0m\u001b[1;33m\u001b[0m\u001b[1;33m\u001b[0m\u001b[0m\n\u001b[1;32m--> 531\u001b[1;33m             \u001b[0mestimator\u001b[0m\u001b[1;33m.\u001b[0m\u001b[0mfit\u001b[0m\u001b[1;33m(\u001b[0m\u001b[0mX_train\u001b[0m\u001b[1;33m,\u001b[0m \u001b[0my_train\u001b[0m\u001b[1;33m,\u001b[0m \u001b[1;33m**\u001b[0m\u001b[0mfit_params\u001b[0m\u001b[1;33m)\u001b[0m\u001b[1;33m\u001b[0m\u001b[1;33m\u001b[0m\u001b[0m\n\u001b[0m\u001b[0;32m    532\u001b[0m \u001b[1;33m\u001b[0m\u001b[0m\n\u001b[0;32m    533\u001b[0m     \u001b[1;32mexcept\u001b[0m \u001b[0mException\u001b[0m \u001b[1;32mas\u001b[0m \u001b[0me\u001b[0m\u001b[1;33m:\u001b[0m\u001b[1;33m\u001b[0m\u001b[1;33m\u001b[0m\u001b[0m\n",
      "\u001b[1;32m~\\Anaconda3\\lib\\site-packages\\lightgbm\\sklearn.py\u001b[0m in \u001b[0;36mfit\u001b[1;34m(self, X, y, sample_weight, init_score, eval_set, eval_names, eval_sample_weight, eval_init_score, eval_metric, early_stopping_rounds, verbose, feature_name, categorical_feature, callbacks)\u001b[0m\n\u001b[0;32m    741\u001b[0m                                        \u001b[0mverbose\u001b[0m\u001b[1;33m=\u001b[0m\u001b[0mverbose\u001b[0m\u001b[1;33m,\u001b[0m \u001b[0mfeature_name\u001b[0m\u001b[1;33m=\u001b[0m\u001b[0mfeature_name\u001b[0m\u001b[1;33m,\u001b[0m\u001b[1;33m\u001b[0m\u001b[1;33m\u001b[0m\u001b[0m\n\u001b[0;32m    742\u001b[0m                                        \u001b[0mcategorical_feature\u001b[0m\u001b[1;33m=\u001b[0m\u001b[0mcategorical_feature\u001b[0m\u001b[1;33m,\u001b[0m\u001b[1;33m\u001b[0m\u001b[1;33m\u001b[0m\u001b[0m\n\u001b[1;32m--> 743\u001b[1;33m                                        callbacks=callbacks)\n\u001b[0m\u001b[0;32m    744\u001b[0m         \u001b[1;32mreturn\u001b[0m \u001b[0mself\u001b[0m\u001b[1;33m\u001b[0m\u001b[1;33m\u001b[0m\u001b[0m\n\u001b[0;32m    745\u001b[0m \u001b[1;33m\u001b[0m\u001b[0m\n",
      "\u001b[1;32m~\\Anaconda3\\lib\\site-packages\\lightgbm\\sklearn.py\u001b[0m in \u001b[0;36mfit\u001b[1;34m(self, X, y, sample_weight, init_score, group, eval_set, eval_names, eval_sample_weight, eval_class_weight, eval_init_score, eval_group, eval_metric, early_stopping_rounds, verbose, feature_name, categorical_feature, callbacks)\u001b[0m\n\u001b[0;32m    598\u001b[0m                               \u001b[0mverbose_eval\u001b[0m\u001b[1;33m=\u001b[0m\u001b[0mverbose\u001b[0m\u001b[1;33m,\u001b[0m \u001b[0mfeature_name\u001b[0m\u001b[1;33m=\u001b[0m\u001b[0mfeature_name\u001b[0m\u001b[1;33m,\u001b[0m\u001b[1;33m\u001b[0m\u001b[1;33m\u001b[0m\u001b[0m\n\u001b[0;32m    599\u001b[0m                               \u001b[0mcategorical_feature\u001b[0m\u001b[1;33m=\u001b[0m\u001b[0mcategorical_feature\u001b[0m\u001b[1;33m,\u001b[0m\u001b[1;33m\u001b[0m\u001b[1;33m\u001b[0m\u001b[0m\n\u001b[1;32m--> 600\u001b[1;33m                               callbacks=callbacks)\n\u001b[0m\u001b[0;32m    601\u001b[0m \u001b[1;33m\u001b[0m\u001b[0m\n\u001b[0;32m    602\u001b[0m         \u001b[1;32mif\u001b[0m \u001b[0mevals_result\u001b[0m\u001b[1;33m:\u001b[0m\u001b[1;33m\u001b[0m\u001b[1;33m\u001b[0m\u001b[0m\n",
      "\u001b[1;32m~\\Anaconda3\\lib\\site-packages\\lightgbm\\engine.py\u001b[0m in \u001b[0;36mtrain\u001b[1;34m(params, train_set, num_boost_round, valid_sets, valid_names, fobj, feval, init_model, feature_name, categorical_feature, early_stopping_rounds, evals_result, verbose_eval, learning_rates, keep_training_booster, callbacks)\u001b[0m\n\u001b[0;32m    226\u001b[0m     \u001b[1;31m# construct booster\u001b[0m\u001b[1;33m\u001b[0m\u001b[1;33m\u001b[0m\u001b[1;33m\u001b[0m\u001b[0m\n\u001b[0;32m    227\u001b[0m     \u001b[1;32mtry\u001b[0m\u001b[1;33m:\u001b[0m\u001b[1;33m\u001b[0m\u001b[1;33m\u001b[0m\u001b[0m\n\u001b[1;32m--> 228\u001b[1;33m         \u001b[0mbooster\u001b[0m \u001b[1;33m=\u001b[0m \u001b[0mBooster\u001b[0m\u001b[1;33m(\u001b[0m\u001b[0mparams\u001b[0m\u001b[1;33m=\u001b[0m\u001b[0mparams\u001b[0m\u001b[1;33m,\u001b[0m \u001b[0mtrain_set\u001b[0m\u001b[1;33m=\u001b[0m\u001b[0mtrain_set\u001b[0m\u001b[1;33m)\u001b[0m\u001b[1;33m\u001b[0m\u001b[1;33m\u001b[0m\u001b[0m\n\u001b[0m\u001b[0;32m    229\u001b[0m         \u001b[1;32mif\u001b[0m \u001b[0mis_valid_contain_train\u001b[0m\u001b[1;33m:\u001b[0m\u001b[1;33m\u001b[0m\u001b[1;33m\u001b[0m\u001b[0m\n\u001b[0;32m    230\u001b[0m             \u001b[0mbooster\u001b[0m\u001b[1;33m.\u001b[0m\u001b[0mset_train_data_name\u001b[0m\u001b[1;33m(\u001b[0m\u001b[0mtrain_data_name\u001b[0m\u001b[1;33m)\u001b[0m\u001b[1;33m\u001b[0m\u001b[1;33m\u001b[0m\u001b[0m\n",
      "\u001b[1;32m~\\Anaconda3\\lib\\site-packages\\lightgbm\\basic.py\u001b[0m in \u001b[0;36m__init__\u001b[1;34m(self, params, train_set, model_file, model_str, silent)\u001b[0m\n\u001b[0;32m   1712\u001b[0m             \u001b[0mself\u001b[0m\u001b[1;33m.\u001b[0m\u001b[0mhandle\u001b[0m \u001b[1;33m=\u001b[0m \u001b[0mctypes\u001b[0m\u001b[1;33m.\u001b[0m\u001b[0mc_void_p\u001b[0m\u001b[1;33m(\u001b[0m\u001b[1;33m)\u001b[0m\u001b[1;33m\u001b[0m\u001b[1;33m\u001b[0m\u001b[0m\n\u001b[0;32m   1713\u001b[0m             _safe_call(_LIB.LGBM_BoosterCreate(\n\u001b[1;32m-> 1714\u001b[1;33m                 \u001b[0mtrain_set\u001b[0m\u001b[1;33m.\u001b[0m\u001b[0mconstruct\u001b[0m\u001b[1;33m(\u001b[0m\u001b[1;33m)\u001b[0m\u001b[1;33m.\u001b[0m\u001b[0mhandle\u001b[0m\u001b[1;33m,\u001b[0m\u001b[1;33m\u001b[0m\u001b[1;33m\u001b[0m\u001b[0m\n\u001b[0m\u001b[0;32m   1715\u001b[0m                 \u001b[0mc_str\u001b[0m\u001b[1;33m(\u001b[0m\u001b[0mparams_str\u001b[0m\u001b[1;33m)\u001b[0m\u001b[1;33m,\u001b[0m\u001b[1;33m\u001b[0m\u001b[1;33m\u001b[0m\u001b[0m\n\u001b[0;32m   1716\u001b[0m                 ctypes.byref(self.handle)))\n",
      "\u001b[1;32m~\\Anaconda3\\lib\\site-packages\\lightgbm\\basic.py\u001b[0m in \u001b[0;36mconstruct\u001b[1;34m(self)\u001b[0m\n\u001b[0;32m   1083\u001b[0m                                 \u001b[0minit_score\u001b[0m\u001b[1;33m=\u001b[0m\u001b[0mself\u001b[0m\u001b[1;33m.\u001b[0m\u001b[0minit_score\u001b[0m\u001b[1;33m,\u001b[0m \u001b[0mpredictor\u001b[0m\u001b[1;33m=\u001b[0m\u001b[0mself\u001b[0m\u001b[1;33m.\u001b[0m\u001b[0m_predictor\u001b[0m\u001b[1;33m,\u001b[0m\u001b[1;33m\u001b[0m\u001b[1;33m\u001b[0m\u001b[0m\n\u001b[0;32m   1084\u001b[0m                                 \u001b[0msilent\u001b[0m\u001b[1;33m=\u001b[0m\u001b[0mself\u001b[0m\u001b[1;33m.\u001b[0m\u001b[0msilent\u001b[0m\u001b[1;33m,\u001b[0m \u001b[0mfeature_name\u001b[0m\u001b[1;33m=\u001b[0m\u001b[0mself\u001b[0m\u001b[1;33m.\u001b[0m\u001b[0mfeature_name\u001b[0m\u001b[1;33m,\u001b[0m\u001b[1;33m\u001b[0m\u001b[1;33m\u001b[0m\u001b[0m\n\u001b[1;32m-> 1085\u001b[1;33m                                 categorical_feature=self.categorical_feature, params=self.params)\n\u001b[0m\u001b[0;32m   1086\u001b[0m             \u001b[1;32mif\u001b[0m \u001b[0mself\u001b[0m\u001b[1;33m.\u001b[0m\u001b[0mfree_raw_data\u001b[0m\u001b[1;33m:\u001b[0m\u001b[1;33m\u001b[0m\u001b[1;33m\u001b[0m\u001b[0m\n\u001b[0;32m   1087\u001b[0m                 \u001b[0mself\u001b[0m\u001b[1;33m.\u001b[0m\u001b[0mdata\u001b[0m \u001b[1;33m=\u001b[0m \u001b[1;32mNone\u001b[0m\u001b[1;33m\u001b[0m\u001b[1;33m\u001b[0m\u001b[0m\n",
      "\u001b[1;32m~\\Anaconda3\\lib\\site-packages\\lightgbm\\basic.py\u001b[0m in \u001b[0;36m_lazy_init\u001b[1;34m(self, data, label, reference, weight, group, init_score, predictor, silent, feature_name, categorical_feature, params)\u001b[0m\n\u001b[0;32m    885\u001b[0m             \u001b[0mself\u001b[0m\u001b[1;33m.\u001b[0m\u001b[0m__init_from_csc\u001b[0m\u001b[1;33m(\u001b[0m\u001b[0mdata\u001b[0m\u001b[1;33m,\u001b[0m \u001b[0mparams_str\u001b[0m\u001b[1;33m,\u001b[0m \u001b[0mref_dataset\u001b[0m\u001b[1;33m)\u001b[0m\u001b[1;33m\u001b[0m\u001b[1;33m\u001b[0m\u001b[0m\n\u001b[0;32m    886\u001b[0m         \u001b[1;32melif\u001b[0m \u001b[0misinstance\u001b[0m\u001b[1;33m(\u001b[0m\u001b[0mdata\u001b[0m\u001b[1;33m,\u001b[0m \u001b[0mnp\u001b[0m\u001b[1;33m.\u001b[0m\u001b[0mndarray\u001b[0m\u001b[1;33m)\u001b[0m\u001b[1;33m:\u001b[0m\u001b[1;33m\u001b[0m\u001b[1;33m\u001b[0m\u001b[0m\n\u001b[1;32m--> 887\u001b[1;33m             \u001b[0mself\u001b[0m\u001b[1;33m.\u001b[0m\u001b[0m__init_from_np2d\u001b[0m\u001b[1;33m(\u001b[0m\u001b[0mdata\u001b[0m\u001b[1;33m,\u001b[0m \u001b[0mparams_str\u001b[0m\u001b[1;33m,\u001b[0m \u001b[0mref_dataset\u001b[0m\u001b[1;33m)\u001b[0m\u001b[1;33m\u001b[0m\u001b[1;33m\u001b[0m\u001b[0m\n\u001b[0m\u001b[0;32m    888\u001b[0m         \u001b[1;32melif\u001b[0m \u001b[0misinstance\u001b[0m\u001b[1;33m(\u001b[0m\u001b[0mdata\u001b[0m\u001b[1;33m,\u001b[0m \u001b[0mlist\u001b[0m\u001b[1;33m)\u001b[0m \u001b[1;32mand\u001b[0m \u001b[0mlen\u001b[0m\u001b[1;33m(\u001b[0m\u001b[0mdata\u001b[0m\u001b[1;33m)\u001b[0m \u001b[1;33m>\u001b[0m \u001b[1;36m0\u001b[0m \u001b[1;32mand\u001b[0m \u001b[0mall\u001b[0m\u001b[1;33m(\u001b[0m\u001b[0misinstance\u001b[0m\u001b[1;33m(\u001b[0m\u001b[0mx\u001b[0m\u001b[1;33m,\u001b[0m \u001b[0mnp\u001b[0m\u001b[1;33m.\u001b[0m\u001b[0mndarray\u001b[0m\u001b[1;33m)\u001b[0m \u001b[1;32mfor\u001b[0m \u001b[0mx\u001b[0m \u001b[1;32min\u001b[0m \u001b[0mdata\u001b[0m\u001b[1;33m)\u001b[0m\u001b[1;33m:\u001b[0m\u001b[1;33m\u001b[0m\u001b[1;33m\u001b[0m\u001b[0m\n\u001b[0;32m    889\u001b[0m             \u001b[0mself\u001b[0m\u001b[1;33m.\u001b[0m\u001b[0m__init_from_list_np2d\u001b[0m\u001b[1;33m(\u001b[0m\u001b[0mdata\u001b[0m\u001b[1;33m,\u001b[0m \u001b[0mparams_str\u001b[0m\u001b[1;33m,\u001b[0m \u001b[0mref_dataset\u001b[0m\u001b[1;33m)\u001b[0m\u001b[1;33m\u001b[0m\u001b[1;33m\u001b[0m\u001b[0m\n",
      "\u001b[1;32m~\\Anaconda3\\lib\\site-packages\\lightgbm\\basic.py\u001b[0m in \u001b[0;36m__init_from_np2d\u001b[1;34m(self, mat, params_str, ref_dataset)\u001b[0m\n\u001b[0;32m    935\u001b[0m             \u001b[0mc_str\u001b[0m\u001b[1;33m(\u001b[0m\u001b[0mparams_str\u001b[0m\u001b[1;33m)\u001b[0m\u001b[1;33m,\u001b[0m\u001b[1;33m\u001b[0m\u001b[1;33m\u001b[0m\u001b[0m\n\u001b[0;32m    936\u001b[0m             \u001b[0mref_dataset\u001b[0m\u001b[1;33m,\u001b[0m\u001b[1;33m\u001b[0m\u001b[1;33m\u001b[0m\u001b[0m\n\u001b[1;32m--> 937\u001b[1;33m             ctypes.byref(self.handle)))\n\u001b[0m\u001b[0;32m    938\u001b[0m         \u001b[1;32mreturn\u001b[0m \u001b[0mself\u001b[0m\u001b[1;33m\u001b[0m\u001b[1;33m\u001b[0m\u001b[0m\n\u001b[0;32m    939\u001b[0m \u001b[1;33m\u001b[0m\u001b[0m\n",
      "\u001b[1;31mKeyboardInterrupt\u001b[0m: "
     ]
    }
   ],
   "source": [
    "from sklearn.model_selection import train_test_split \n",
    "from sklearn.model_selection import GridSearchCV\n",
    "import lightgbm as lgb\n",
    "\n",
    "\n",
    "#df.drop(['hour'],axis=1,inplace=True)\n",
    "\n",
    "\n",
    "x = df.loc[:,df.columns != 'click']\n",
    "y = df.click.values\n",
    "\n",
    "x_train,x_test,y_train,y_test = train_test_split(x,y,test_size=0.2)\n",
    "\n",
    "lgb_t = lgb.Dataset(x_train,y_train)\n",
    "lgb_ev = lgb.Dataset(x_test,y_test)\n",
    "\n",
    "'''\n",
    "params = {\n",
    "    'task': 'train',\n",
    "    'boosting_type': 'gbdt',\n",
    "    'objective': 'binary',\n",
    "    'metric': { 'binary_logloss'},\n",
    "    'num_iterations':100,\n",
    "    'num_leaves': 31,\n",
    "    'max_depth': 10,\n",
    "    'learning_rate': 0.1,\n",
    "    'feature_fraction': 0.7,\n",
    "    'bagging_fraction': 1, \n",
    "    'bagging_freq': 3, \n",
    "    'verbose': 0\n",
    "}\n",
    "'''\n",
    "\n",
    "params = {'max_depth':[5,10,15,20],\n",
    "         'learning_rate':[0.1,0.2,0.3,0.4],\n",
    "         'feature_fraction':[0.5,0.6,0.7,0.8],\n",
    "         'bagging_fraction':[1,2,3,4],\n",
    "         'bagging_freq':[1,2,3,4],\n",
    "         'lambda_l1':[0.1,0.3,0.5,0.7],\n",
    "         'lambda_l2':[0,5,10,15] \n",
    "         }\n",
    "\n",
    "\n",
    "\n",
    "\n",
    "gbm = lgb.LGBMRegressor(boosting_type='gbdt',learning_rate=0.1,device = 'gpu')\n",
    "\n",
    "gr_gbm = GridSearchCV(gbm,param_grid=params,cv=4,scoring='neg_mean_squared_error')\n",
    "\n",
    "gr_gbm.fit(x_train,y_train)\n"
   ]
  },
  {
   "cell_type": "code",
   "execution_count": 46,
   "metadata": {},
   "outputs": [
    {
     "data": {
      "text/plain": [
       "{'bagging_fraction': 1,\n",
       " 'bagging_freq': 1,\n",
       " 'feature_fraction': 0.5,\n",
       " 'lambda_l1': 0.3,\n",
       " 'learning_rate': 0.3,\n",
       " 'max_depth': 15}"
      ]
     },
     "execution_count": 46,
     "metadata": {},
     "output_type": "execute_result"
    }
   ],
   "source": [
    "gr_gbm.best_params_"
   ]
  },
  {
   "cell_type": "code",
   "execution_count": 52,
   "metadata": {},
   "outputs": [
    {
     "name": "stdout",
     "output_type": "stream",
     "text": [
      "[0.20055276 0.22309785 0.16940594 ... 0.05135325 0.08781837 0.28653978]\n"
     ]
    }
   ],
   "source": [
    "pred = gr_gbm.predict(x_test)\n",
    "print(pred)\n"
   ]
  },
  {
   "cell_type": "code",
   "execution_count": 49,
   "metadata": {},
   "outputs": [
    {
     "name": "stdout",
     "output_type": "stream",
     "text": [
      "mse: 0.12574521362698055\n"
     ]
    }
   ],
   "source": [
    "from sklearn.metrics import mean_squared_error\n",
    "\n",
    "print('mse:',mean_squared_error(y_test,pred))"
   ]
  },
  {
   "cell_type": "code",
   "execution_count": null,
   "metadata": {},
   "outputs": [],
   "source": []
  },
  {
   "cell_type": "markdown",
   "metadata": {},
   "source": [
    "## Build Model 2(XGB)"
   ]
  },
  {
   "cell_type": "code",
   "execution_count": 41,
   "metadata": {},
   "outputs": [
    {
     "name": "stdout",
     "output_type": "stream",
     "text": [
      "[15:48:31] WARNING: C:\\Users\\Administrator\\workspace\\xgboost-win64_release_1.1.0\\src\\learner.cc:480: \n",
      "Parameters: { silent } might not be used.\n",
      "\n",
      "  This may not be accurate due to some parameters are only used in language bindings but\n",
      "  passed down to XGBoost core.  Or some parameters are not used but slip through this\n",
      "  verification. Please open an issue if you find above cases.\n",
      "\n",
      "\n",
      "[0]\teval-logloss:0.57236\ttrain-logloss:0.57191\n",
      "Multiple eval metrics have been passed: 'train-logloss' will be used for early stopping.\n",
      "\n",
      "Will train until train-logloss hasn't improved in 500 rounds.\n",
      "[1]\teval-logloss:0.50780\ttrain-logloss:0.50733\n",
      "[2]\teval-logloss:0.47093\ttrain-logloss:0.47032\n",
      "[3]\teval-logloss:0.44928\ttrain-logloss:0.44861\n",
      "[4]\teval-logloss:0.43600\ttrain-logloss:0.43533\n",
      "[5]\teval-logloss:0.42812\ttrain-logloss:0.42724\n",
      "[6]\teval-logloss:0.42211\ttrain-logloss:0.42131\n",
      "[7]\teval-logloss:0.41899\ttrain-logloss:0.41827\n",
      "[8]\teval-logloss:0.41700\ttrain-logloss:0.41622\n",
      "[9]\teval-logloss:0.41568\ttrain-logloss:0.41496\n",
      "[10]\teval-logloss:0.41415\ttrain-logloss:0.41353\n",
      "[11]\teval-logloss:0.41296\ttrain-logloss:0.41238\n",
      "[12]\teval-logloss:0.41202\ttrain-logloss:0.41151\n",
      "[13]\teval-logloss:0.41123\ttrain-logloss:0.41067\n",
      "[14]\teval-logloss:0.41083\ttrain-logloss:0.41032\n",
      "[15]\teval-logloss:0.41015\ttrain-logloss:0.40964\n",
      "[16]\teval-logloss:0.40958\ttrain-logloss:0.40919\n",
      "[17]\teval-logloss:0.40899\ttrain-logloss:0.40864\n",
      "[18]\teval-logloss:0.40859\ttrain-logloss:0.40835\n",
      "[19]\teval-logloss:0.40788\ttrain-logloss:0.40775\n",
      "[20]\teval-logloss:0.40750\ttrain-logloss:0.40741\n",
      "[21]\teval-logloss:0.40724\ttrain-logloss:0.40716\n",
      "[22]\teval-logloss:0.40691\ttrain-logloss:0.40689\n",
      "[23]\teval-logloss:0.40649\ttrain-logloss:0.40656\n",
      "[24]\teval-logloss:0.40617\ttrain-logloss:0.40631\n",
      "[25]\teval-logloss:0.40568\ttrain-logloss:0.40586\n",
      "[26]\teval-logloss:0.40534\ttrain-logloss:0.40552\n",
      "[27]\teval-logloss:0.40504\ttrain-logloss:0.40527\n",
      "[28]\teval-logloss:0.40474\ttrain-logloss:0.40506\n",
      "[29]\teval-logloss:0.40453\ttrain-logloss:0.40491\n",
      "[30]\teval-logloss:0.40428\ttrain-logloss:0.40475\n",
      "[31]\teval-logloss:0.40412\ttrain-logloss:0.40466\n",
      "[32]\teval-logloss:0.40389\ttrain-logloss:0.40444\n",
      "[33]\teval-logloss:0.40363\ttrain-logloss:0.40426\n",
      "[34]\teval-logloss:0.40343\ttrain-logloss:0.40413\n",
      "[35]\teval-logloss:0.40330\ttrain-logloss:0.40406\n",
      "[36]\teval-logloss:0.40301\ttrain-logloss:0.40381\n",
      "[37]\teval-logloss:0.40294\ttrain-logloss:0.40378\n",
      "[38]\teval-logloss:0.40275\ttrain-logloss:0.40367\n",
      "[39]\teval-logloss:0.40256\ttrain-logloss:0.40355\n",
      "[40]\teval-logloss:0.40227\ttrain-logloss:0.40340\n",
      "[41]\teval-logloss:0.40214\ttrain-logloss:0.40333\n",
      "[42]\teval-logloss:0.40197\ttrain-logloss:0.40326\n",
      "[43]\teval-logloss:0.40183\ttrain-logloss:0.40321\n",
      "[44]\teval-logloss:0.40159\ttrain-logloss:0.40305\n",
      "[45]\teval-logloss:0.40115\ttrain-logloss:0.40272\n",
      "[46]\teval-logloss:0.40097\ttrain-logloss:0.40263\n",
      "[47]\teval-logloss:0.40089\ttrain-logloss:0.40261\n",
      "[48]\teval-logloss:0.40076\ttrain-logloss:0.40253\n",
      "[49]\teval-logloss:0.40065\ttrain-logloss:0.40249\n",
      "[50]\teval-logloss:0.40054\ttrain-logloss:0.40243\n",
      "[51]\teval-logloss:0.40031\ttrain-logloss:0.40229\n",
      "[52]\teval-logloss:0.40014\ttrain-logloss:0.40221\n",
      "[53]\teval-logloss:0.39984\ttrain-logloss:0.40197\n",
      "[54]\teval-logloss:0.39955\ttrain-logloss:0.40176\n",
      "[55]\teval-logloss:0.39949\ttrain-logloss:0.40174\n",
      "[56]\teval-logloss:0.39939\ttrain-logloss:0.40171\n",
      "[57]\teval-logloss:0.39920\ttrain-logloss:0.40162\n",
      "[58]\teval-logloss:0.39901\ttrain-logloss:0.40147\n",
      "[59]\teval-logloss:0.39896\ttrain-logloss:0.40144\n",
      "[60]\teval-logloss:0.39877\ttrain-logloss:0.40132\n",
      "[61]\teval-logloss:0.39869\ttrain-logloss:0.40132\n",
      "[62]\teval-logloss:0.39857\ttrain-logloss:0.40126\n",
      "[63]\teval-logloss:0.39850\ttrain-logloss:0.40125\n",
      "[64]\teval-logloss:0.39829\ttrain-logloss:0.40111\n",
      "[65]\teval-logloss:0.39819\ttrain-logloss:0.40105\n",
      "[66]\teval-logloss:0.39816\ttrain-logloss:0.40104\n",
      "[67]\teval-logloss:0.39803\ttrain-logloss:0.40103\n",
      "[68]\teval-logloss:0.39784\ttrain-logloss:0.40091\n",
      "[69]\teval-logloss:0.39766\ttrain-logloss:0.40078\n",
      "[70]\teval-logloss:0.39752\ttrain-logloss:0.40067\n",
      "[71]\teval-logloss:0.39737\ttrain-logloss:0.40063\n",
      "[72]\teval-logloss:0.39724\ttrain-logloss:0.40058\n",
      "[73]\teval-logloss:0.39711\ttrain-logloss:0.40050\n",
      "[74]\teval-logloss:0.39696\ttrain-logloss:0.40042\n",
      "[75]\teval-logloss:0.39688\ttrain-logloss:0.40041\n",
      "[76]\teval-logloss:0.39676\ttrain-logloss:0.40031\n",
      "[77]\teval-logloss:0.39649\ttrain-logloss:0.40014\n",
      "[78]\teval-logloss:0.39641\ttrain-logloss:0.40011\n",
      "[79]\teval-logloss:0.39629\ttrain-logloss:0.40010\n",
      "[80]\teval-logloss:0.39627\ttrain-logloss:0.40010\n",
      "[81]\teval-logloss:0.39622\ttrain-logloss:0.40010\n",
      "[82]\teval-logloss:0.39607\ttrain-logloss:0.40000\n",
      "[83]\teval-logloss:0.39589\ttrain-logloss:0.39992\n",
      "[84]\teval-logloss:0.39573\ttrain-logloss:0.39986\n",
      "[85]\teval-logloss:0.39561\ttrain-logloss:0.39980\n",
      "[86]\teval-logloss:0.39546\ttrain-logloss:0.39975\n",
      "[87]\teval-logloss:0.39533\ttrain-logloss:0.39969\n",
      "[88]\teval-logloss:0.39525\ttrain-logloss:0.39968\n",
      "[89]\teval-logloss:0.39522\ttrain-logloss:0.39967\n",
      "[90]\teval-logloss:0.39517\ttrain-logloss:0.39967\n",
      "[91]\teval-logloss:0.39509\ttrain-logloss:0.39968\n",
      "[92]\teval-logloss:0.39504\ttrain-logloss:0.39967\n",
      "[93]\teval-logloss:0.39500\ttrain-logloss:0.39968\n",
      "[94]\teval-logloss:0.39499\ttrain-logloss:0.39967\n",
      "[95]\teval-logloss:0.39494\ttrain-logloss:0.39967\n",
      "[96]\teval-logloss:0.39483\ttrain-logloss:0.39965\n",
      "[97]\teval-logloss:0.39478\ttrain-logloss:0.39965\n",
      "[98]\teval-logloss:0.39474\ttrain-logloss:0.39964\n",
      "[99]\teval-logloss:0.39470\ttrain-logloss:0.39964\n",
      "[100]\teval-logloss:0.39458\ttrain-logloss:0.39958\n",
      "[101]\teval-logloss:0.39447\ttrain-logloss:0.39952\n",
      "[102]\teval-logloss:0.39441\ttrain-logloss:0.39953\n",
      "[103]\teval-logloss:0.39431\ttrain-logloss:0.39949\n",
      "[104]\teval-logloss:0.39422\ttrain-logloss:0.39943\n",
      "[105]\teval-logloss:0.39410\ttrain-logloss:0.39938\n",
      "[106]\teval-logloss:0.39400\ttrain-logloss:0.39938\n",
      "[107]\teval-logloss:0.39393\ttrain-logloss:0.39935\n",
      "[108]\teval-logloss:0.39389\ttrain-logloss:0.39932\n",
      "[109]\teval-logloss:0.39382\ttrain-logloss:0.39933\n",
      "[110]\teval-logloss:0.39372\ttrain-logloss:0.39936\n",
      "[111]\teval-logloss:0.39364\ttrain-logloss:0.39934\n",
      "[112]\teval-logloss:0.39349\ttrain-logloss:0.39928\n",
      "[113]\teval-logloss:0.39342\ttrain-logloss:0.39927\n",
      "[114]\teval-logloss:0.39330\ttrain-logloss:0.39925\n",
      "[115]\teval-logloss:0.39322\ttrain-logloss:0.39924\n",
      "[116]\teval-logloss:0.39315\ttrain-logloss:0.39924\n",
      "[117]\teval-logloss:0.39310\ttrain-logloss:0.39926\n",
      "[118]\teval-logloss:0.39304\ttrain-logloss:0.39925\n",
      "[119]\teval-logloss:0.39298\ttrain-logloss:0.39924\n",
      "[120]\teval-logloss:0.39286\ttrain-logloss:0.39917\n",
      "[121]\teval-logloss:0.39280\ttrain-logloss:0.39917\n",
      "[122]\teval-logloss:0.39273\ttrain-logloss:0.39917\n",
      "[123]\teval-logloss:0.39270\ttrain-logloss:0.39918\n",
      "[124]\teval-logloss:0.39259\ttrain-logloss:0.39915\n",
      "[125]\teval-logloss:0.39252\ttrain-logloss:0.39917\n",
      "[126]\teval-logloss:0.39246\ttrain-logloss:0.39917\n",
      "[127]\teval-logloss:0.39241\ttrain-logloss:0.39919\n",
      "[128]\teval-logloss:0.39240\ttrain-logloss:0.39918\n",
      "[129]\teval-logloss:0.39238\ttrain-logloss:0.39918\n",
      "[130]\teval-logloss:0.39230\ttrain-logloss:0.39918\n",
      "[131]\teval-logloss:0.39218\ttrain-logloss:0.39913\n",
      "[132]\teval-logloss:0.39205\ttrain-logloss:0.39907\n",
      "[133]\teval-logloss:0.39204\ttrain-logloss:0.39907\n",
      "[134]\teval-logloss:0.39196\ttrain-logloss:0.39907\n",
      "[135]\teval-logloss:0.39187\ttrain-logloss:0.39908\n",
      "[136]\teval-logloss:0.39181\ttrain-logloss:0.39906\n",
      "[137]\teval-logloss:0.39177\ttrain-logloss:0.39907\n",
      "[138]\teval-logloss:0.39175\ttrain-logloss:0.39907\n",
      "[139]\teval-logloss:0.39175\ttrain-logloss:0.39908\n",
      "[140]\teval-logloss:0.39169\ttrain-logloss:0.39908\n",
      "[141]\teval-logloss:0.39169\ttrain-logloss:0.39908\n",
      "[142]\teval-logloss:0.39156\ttrain-logloss:0.39902\n",
      "[143]\teval-logloss:0.39146\ttrain-logloss:0.39903\n",
      "[144]\teval-logloss:0.39133\ttrain-logloss:0.39898\n",
      "[145]\teval-logloss:0.39123\ttrain-logloss:0.39895\n",
      "[146]\teval-logloss:0.39110\ttrain-logloss:0.39891\n",
      "[147]\teval-logloss:0.39107\ttrain-logloss:0.39893\n",
      "[148]\teval-logloss:0.39106\ttrain-logloss:0.39893\n",
      "[149]\teval-logloss:0.39105\ttrain-logloss:0.39893\n",
      "[150]\teval-logloss:0.39096\ttrain-logloss:0.39894\n",
      "[151]\teval-logloss:0.39090\ttrain-logloss:0.39891\n",
      "[152]\teval-logloss:0.39089\ttrain-logloss:0.39891\n",
      "[153]\teval-logloss:0.39087\ttrain-logloss:0.39890\n",
      "[154]\teval-logloss:0.39075\ttrain-logloss:0.39883\n",
      "[155]\teval-logloss:0.39069\ttrain-logloss:0.39884\n",
      "[156]\teval-logloss:0.39060\ttrain-logloss:0.39880\n",
      "[157]\teval-logloss:0.39053\ttrain-logloss:0.39881\n",
      "[158]\teval-logloss:0.39046\ttrain-logloss:0.39880\n"
     ]
    },
    {
     "name": "stdout",
     "output_type": "stream",
     "text": [
      "[159]\teval-logloss:0.39039\ttrain-logloss:0.39881\n",
      "[160]\teval-logloss:0.39036\ttrain-logloss:0.39883\n",
      "[161]\teval-logloss:0.39033\ttrain-logloss:0.39881\n",
      "[162]\teval-logloss:0.39023\ttrain-logloss:0.39880\n",
      "[163]\teval-logloss:0.39011\ttrain-logloss:0.39875\n",
      "[164]\teval-logloss:0.39001\ttrain-logloss:0.39875\n",
      "[165]\teval-logloss:0.38993\ttrain-logloss:0.39875\n",
      "[166]\teval-logloss:0.38988\ttrain-logloss:0.39874\n",
      "[167]\teval-logloss:0.38984\ttrain-logloss:0.39875\n",
      "[168]\teval-logloss:0.38980\ttrain-logloss:0.39871\n",
      "[169]\teval-logloss:0.38976\ttrain-logloss:0.39871\n",
      "[170]\teval-logloss:0.38972\ttrain-logloss:0.39871\n",
      "[171]\teval-logloss:0.38966\ttrain-logloss:0.39871\n",
      "[172]\teval-logloss:0.38961\ttrain-logloss:0.39870\n",
      "[173]\teval-logloss:0.38956\ttrain-logloss:0.39870\n",
      "[174]\teval-logloss:0.38952\ttrain-logloss:0.39871\n",
      "[175]\teval-logloss:0.38948\ttrain-logloss:0.39872\n",
      "[176]\teval-logloss:0.38939\ttrain-logloss:0.39875\n",
      "[177]\teval-logloss:0.38935\ttrain-logloss:0.39874\n",
      "[178]\teval-logloss:0.38932\ttrain-logloss:0.39874\n",
      "[179]\teval-logloss:0.38926\ttrain-logloss:0.39875\n",
      "[180]\teval-logloss:0.38916\ttrain-logloss:0.39875\n",
      "[181]\teval-logloss:0.38905\ttrain-logloss:0.39875\n",
      "[182]\teval-logloss:0.38895\ttrain-logloss:0.39873\n",
      "[183]\teval-logloss:0.38887\ttrain-logloss:0.39875\n",
      "[184]\teval-logloss:0.38877\ttrain-logloss:0.39873\n",
      "[185]\teval-logloss:0.38862\ttrain-logloss:0.39865\n",
      "[186]\teval-logloss:0.38848\ttrain-logloss:0.39862\n",
      "[187]\teval-logloss:0.38841\ttrain-logloss:0.39864\n",
      "[188]\teval-logloss:0.38838\ttrain-logloss:0.39864\n",
      "[189]\teval-logloss:0.38831\ttrain-logloss:0.39864\n",
      "[190]\teval-logloss:0.38823\ttrain-logloss:0.39863\n",
      "[191]\teval-logloss:0.38815\ttrain-logloss:0.39861\n",
      "[192]\teval-logloss:0.38811\ttrain-logloss:0.39862\n",
      "[193]\teval-logloss:0.38807\ttrain-logloss:0.39861\n",
      "[194]\teval-logloss:0.38804\ttrain-logloss:0.39861\n",
      "[195]\teval-logloss:0.38801\ttrain-logloss:0.39862\n",
      "[196]\teval-logloss:0.38794\ttrain-logloss:0.39859\n",
      "[197]\teval-logloss:0.38781\ttrain-logloss:0.39850\n",
      "[198]\teval-logloss:0.38778\ttrain-logloss:0.39850\n",
      "[199]\teval-logloss:0.38772\ttrain-logloss:0.39850\n",
      "[200]\teval-logloss:0.38769\ttrain-logloss:0.39850\n",
      "[201]\teval-logloss:0.38765\ttrain-logloss:0.39850\n",
      "[202]\teval-logloss:0.38764\ttrain-logloss:0.39850\n",
      "[203]\teval-logloss:0.38761\ttrain-logloss:0.39850\n",
      "[204]\teval-logloss:0.38753\ttrain-logloss:0.39848\n",
      "[205]\teval-logloss:0.38746\ttrain-logloss:0.39846\n",
      "[206]\teval-logloss:0.38740\ttrain-logloss:0.39845\n",
      "[207]\teval-logloss:0.38733\ttrain-logloss:0.39842\n",
      "[208]\teval-logloss:0.38723\ttrain-logloss:0.39842\n",
      "[209]\teval-logloss:0.38718\ttrain-logloss:0.39842\n",
      "[210]\teval-logloss:0.38714\ttrain-logloss:0.39843\n",
      "[211]\teval-logloss:0.38707\ttrain-logloss:0.39843\n",
      "[212]\teval-logloss:0.38701\ttrain-logloss:0.39845\n",
      "[213]\teval-logloss:0.38697\ttrain-logloss:0.39845\n",
      "[214]\teval-logloss:0.38691\ttrain-logloss:0.39846\n",
      "[215]\teval-logloss:0.38685\ttrain-logloss:0.39845\n",
      "[216]\teval-logloss:0.38678\ttrain-logloss:0.39844\n",
      "[217]\teval-logloss:0.38672\ttrain-logloss:0.39846\n",
      "[218]\teval-logloss:0.38668\ttrain-logloss:0.39845\n",
      "[219]\teval-logloss:0.38664\ttrain-logloss:0.39846\n",
      "[220]\teval-logloss:0.38656\ttrain-logloss:0.39845\n",
      "[221]\teval-logloss:0.38647\ttrain-logloss:0.39841\n",
      "[222]\teval-logloss:0.38645\ttrain-logloss:0.39841\n",
      "[223]\teval-logloss:0.38636\ttrain-logloss:0.39838\n",
      "[224]\teval-logloss:0.38626\ttrain-logloss:0.39834\n",
      "[225]\teval-logloss:0.38618\ttrain-logloss:0.39836\n",
      "[226]\teval-logloss:0.38612\ttrain-logloss:0.39834\n",
      "[227]\teval-logloss:0.38607\ttrain-logloss:0.39833\n",
      "[228]\teval-logloss:0.38604\ttrain-logloss:0.39833\n",
      "[229]\teval-logloss:0.38595\ttrain-logloss:0.39833\n",
      "[230]\teval-logloss:0.38587\ttrain-logloss:0.39832\n",
      "[231]\teval-logloss:0.38580\ttrain-logloss:0.39832\n",
      "[232]\teval-logloss:0.38571\ttrain-logloss:0.39831\n",
      "[233]\teval-logloss:0.38566\ttrain-logloss:0.39832\n",
      "[234]\teval-logloss:0.38557\ttrain-logloss:0.39829\n",
      "[235]\teval-logloss:0.38547\ttrain-logloss:0.39831\n",
      "[236]\teval-logloss:0.38542\ttrain-logloss:0.39833\n",
      "[237]\teval-logloss:0.38532\ttrain-logloss:0.39831\n",
      "[238]\teval-logloss:0.38529\ttrain-logloss:0.39831\n",
      "[239]\teval-logloss:0.38527\ttrain-logloss:0.39832\n",
      "[240]\teval-logloss:0.38519\ttrain-logloss:0.39833\n",
      "[241]\teval-logloss:0.38516\ttrain-logloss:0.39834\n",
      "[242]\teval-logloss:0.38511\ttrain-logloss:0.39834\n",
      "[243]\teval-logloss:0.38504\ttrain-logloss:0.39828\n",
      "[244]\teval-logloss:0.38503\ttrain-logloss:0.39828\n",
      "[245]\teval-logloss:0.38500\ttrain-logloss:0.39829\n",
      "[246]\teval-logloss:0.38499\ttrain-logloss:0.39829\n",
      "[247]\teval-logloss:0.38486\ttrain-logloss:0.39823\n",
      "[248]\teval-logloss:0.38483\ttrain-logloss:0.39822\n",
      "[249]\teval-logloss:0.38476\ttrain-logloss:0.39824\n",
      "[250]\teval-logloss:0.38473\ttrain-logloss:0.39825\n",
      "[251]\teval-logloss:0.38464\ttrain-logloss:0.39825\n",
      "[252]\teval-logloss:0.38459\ttrain-logloss:0.39827\n",
      "[253]\teval-logloss:0.38457\ttrain-logloss:0.39827\n",
      "[254]\teval-logloss:0.38455\ttrain-logloss:0.39827\n",
      "[255]\teval-logloss:0.38453\ttrain-logloss:0.39826\n",
      "[256]\teval-logloss:0.38448\ttrain-logloss:0.39827\n",
      "[257]\teval-logloss:0.38439\ttrain-logloss:0.39825\n",
      "[258]\teval-logloss:0.38434\ttrain-logloss:0.39824\n",
      "[259]\teval-logloss:0.38424\ttrain-logloss:0.39823\n",
      "[260]\teval-logloss:0.38419\ttrain-logloss:0.39825\n",
      "[261]\teval-logloss:0.38414\ttrain-logloss:0.39826\n",
      "[262]\teval-logloss:0.38409\ttrain-logloss:0.39830\n",
      "[263]\teval-logloss:0.38403\ttrain-logloss:0.39830\n",
      "[264]\teval-logloss:0.38397\ttrain-logloss:0.39830\n",
      "[265]\teval-logloss:0.38393\ttrain-logloss:0.39830\n",
      "[266]\teval-logloss:0.38382\ttrain-logloss:0.39830\n",
      "[267]\teval-logloss:0.38376\ttrain-logloss:0.39829\n",
      "[268]\teval-logloss:0.38366\ttrain-logloss:0.39828\n",
      "[269]\teval-logloss:0.38358\ttrain-logloss:0.39828\n",
      "[270]\teval-logloss:0.38351\ttrain-logloss:0.39825\n",
      "[271]\teval-logloss:0.38345\ttrain-logloss:0.39821\n",
      "[272]\teval-logloss:0.38338\ttrain-logloss:0.39823\n",
      "[273]\teval-logloss:0.38329\ttrain-logloss:0.39821\n",
      "[274]\teval-logloss:0.38322\ttrain-logloss:0.39821\n",
      "[275]\teval-logloss:0.38316\ttrain-logloss:0.39821\n",
      "[276]\teval-logloss:0.38309\ttrain-logloss:0.39820\n",
      "[277]\teval-logloss:0.38302\ttrain-logloss:0.39820\n",
      "[278]\teval-logloss:0.38298\ttrain-logloss:0.39820\n",
      "[279]\teval-logloss:0.38295\ttrain-logloss:0.39822\n",
      "[280]\teval-logloss:0.38291\ttrain-logloss:0.39821\n",
      "[281]\teval-logloss:0.38282\ttrain-logloss:0.39822\n",
      "[282]\teval-logloss:0.38275\ttrain-logloss:0.39823\n",
      "[283]\teval-logloss:0.38267\ttrain-logloss:0.39820\n",
      "[284]\teval-logloss:0.38263\ttrain-logloss:0.39820\n",
      "[285]\teval-logloss:0.38259\ttrain-logloss:0.39820\n",
      "[286]\teval-logloss:0.38253\ttrain-logloss:0.39821\n",
      "[287]\teval-logloss:0.38248\ttrain-logloss:0.39821\n",
      "[288]\teval-logloss:0.38245\ttrain-logloss:0.39821\n",
      "[289]\teval-logloss:0.38243\ttrain-logloss:0.39821\n",
      "[290]\teval-logloss:0.38239\ttrain-logloss:0.39822\n",
      "[291]\teval-logloss:0.38239\ttrain-logloss:0.39822\n",
      "[292]\teval-logloss:0.38233\ttrain-logloss:0.39825\n",
      "[293]\teval-logloss:0.38226\ttrain-logloss:0.39825\n",
      "[294]\teval-logloss:0.38219\ttrain-logloss:0.39822\n",
      "[295]\teval-logloss:0.38216\ttrain-logloss:0.39825\n",
      "[296]\teval-logloss:0.38208\ttrain-logloss:0.39824\n",
      "[297]\teval-logloss:0.38203\ttrain-logloss:0.39825\n",
      "[298]\teval-logloss:0.38199\ttrain-logloss:0.39826\n",
      "[299]\teval-logloss:0.38196\ttrain-logloss:0.39827\n",
      "[300]\teval-logloss:0.38194\ttrain-logloss:0.39827\n",
      "[301]\teval-logloss:0.38190\ttrain-logloss:0.39826\n",
      "[302]\teval-logloss:0.38184\ttrain-logloss:0.39826\n",
      "[303]\teval-logloss:0.38178\ttrain-logloss:0.39828\n",
      "[304]\teval-logloss:0.38173\ttrain-logloss:0.39825\n",
      "[305]\teval-logloss:0.38167\ttrain-logloss:0.39825\n",
      "[306]\teval-logloss:0.38162\ttrain-logloss:0.39825\n",
      "[307]\teval-logloss:0.38156\ttrain-logloss:0.39825\n",
      "[308]\teval-logloss:0.38151\ttrain-logloss:0.39824\n",
      "[309]\teval-logloss:0.38148\ttrain-logloss:0.39823\n",
      "[310]\teval-logloss:0.38145\ttrain-logloss:0.39824\n",
      "[311]\teval-logloss:0.38142\ttrain-logloss:0.39825\n",
      "[312]\teval-logloss:0.38139\ttrain-logloss:0.39825\n",
      "[313]\teval-logloss:0.38138\ttrain-logloss:0.39825\n",
      "[314]\teval-logloss:0.38135\ttrain-logloss:0.39827\n",
      "[315]\teval-logloss:0.38129\ttrain-logloss:0.39825\n",
      "[316]\teval-logloss:0.38127\ttrain-logloss:0.39825\n",
      "[317]\teval-logloss:0.38122\ttrain-logloss:0.39827\n",
      "[318]\teval-logloss:0.38119\ttrain-logloss:0.39827\n",
      "[319]\teval-logloss:0.38113\ttrain-logloss:0.39828\n",
      "[320]\teval-logloss:0.38107\ttrain-logloss:0.39828\n",
      "[321]\teval-logloss:0.38101\ttrain-logloss:0.39826\n",
      "[322]\teval-logloss:0.38098\ttrain-logloss:0.39828\n",
      "[323]\teval-logloss:0.38095\ttrain-logloss:0.39828\n",
      "[324]\teval-logloss:0.38092\ttrain-logloss:0.39829\n",
      "[325]\teval-logloss:0.38084\ttrain-logloss:0.39831\n",
      "[326]\teval-logloss:0.38080\ttrain-logloss:0.39830\n"
     ]
    },
    {
     "name": "stdout",
     "output_type": "stream",
     "text": [
      "[327]\teval-logloss:0.38075\ttrain-logloss:0.39831\n",
      "[328]\teval-logloss:0.38070\ttrain-logloss:0.39830\n",
      "[329]\teval-logloss:0.38063\ttrain-logloss:0.39832\n",
      "[330]\teval-logloss:0.38057\ttrain-logloss:0.39832\n",
      "[331]\teval-logloss:0.38052\ttrain-logloss:0.39833\n",
      "[332]\teval-logloss:0.38045\ttrain-logloss:0.39833\n",
      "[333]\teval-logloss:0.38044\ttrain-logloss:0.39833\n",
      "[334]\teval-logloss:0.38040\ttrain-logloss:0.39833\n",
      "[335]\teval-logloss:0.38034\ttrain-logloss:0.39834\n",
      "[336]\teval-logloss:0.38028\ttrain-logloss:0.39833\n",
      "[337]\teval-logloss:0.38022\ttrain-logloss:0.39833\n",
      "[338]\teval-logloss:0.38014\ttrain-logloss:0.39833\n",
      "[339]\teval-logloss:0.38005\ttrain-logloss:0.39833\n",
      "[340]\teval-logloss:0.38000\ttrain-logloss:0.39834\n",
      "[341]\teval-logloss:0.37994\ttrain-logloss:0.39834\n",
      "[342]\teval-logloss:0.37990\ttrain-logloss:0.39835\n",
      "[343]\teval-logloss:0.37984\ttrain-logloss:0.39835\n",
      "[344]\teval-logloss:0.37977\ttrain-logloss:0.39833\n",
      "[345]\teval-logloss:0.37971\ttrain-logloss:0.39833\n",
      "[346]\teval-logloss:0.37967\ttrain-logloss:0.39833\n",
      "[347]\teval-logloss:0.37960\ttrain-logloss:0.39831\n",
      "[348]\teval-logloss:0.37953\ttrain-logloss:0.39832\n",
      "[349]\teval-logloss:0.37947\ttrain-logloss:0.39832\n",
      "[350]\teval-logloss:0.37942\ttrain-logloss:0.39833\n",
      "[351]\teval-logloss:0.37936\ttrain-logloss:0.39833\n",
      "[352]\teval-logloss:0.37932\ttrain-logloss:0.39835\n",
      "[353]\teval-logloss:0.37929\ttrain-logloss:0.39836\n",
      "[354]\teval-logloss:0.37925\ttrain-logloss:0.39837\n",
      "[355]\teval-logloss:0.37918\ttrain-logloss:0.39838\n",
      "[356]\teval-logloss:0.37913\ttrain-logloss:0.39839\n",
      "[357]\teval-logloss:0.37908\ttrain-logloss:0.39839\n",
      "[358]\teval-logloss:0.37904\ttrain-logloss:0.39839\n",
      "[359]\teval-logloss:0.37900\ttrain-logloss:0.39839\n",
      "[360]\teval-logloss:0.37895\ttrain-logloss:0.39840\n",
      "[361]\teval-logloss:0.37894\ttrain-logloss:0.39841\n",
      "[362]\teval-logloss:0.37888\ttrain-logloss:0.39839\n",
      "[363]\teval-logloss:0.37886\ttrain-logloss:0.39838\n",
      "[364]\teval-logloss:0.37885\ttrain-logloss:0.39838\n",
      "[365]\teval-logloss:0.37883\ttrain-logloss:0.39840\n",
      "[366]\teval-logloss:0.37881\ttrain-logloss:0.39840\n",
      "[367]\teval-logloss:0.37875\ttrain-logloss:0.39841\n",
      "[368]\teval-logloss:0.37870\ttrain-logloss:0.39842\n",
      "[369]\teval-logloss:0.37863\ttrain-logloss:0.39842\n",
      "[370]\teval-logloss:0.37855\ttrain-logloss:0.39842\n",
      "[371]\teval-logloss:0.37849\ttrain-logloss:0.39843\n",
      "[372]\teval-logloss:0.37843\ttrain-logloss:0.39844\n",
      "[373]\teval-logloss:0.37839\ttrain-logloss:0.39845\n",
      "[374]\teval-logloss:0.37837\ttrain-logloss:0.39846\n",
      "[375]\teval-logloss:0.37834\ttrain-logloss:0.39846\n",
      "[376]\teval-logloss:0.37829\ttrain-logloss:0.39847\n",
      "[377]\teval-logloss:0.37823\ttrain-logloss:0.39848\n",
      "[378]\teval-logloss:0.37817\ttrain-logloss:0.39849\n",
      "[379]\teval-logloss:0.37816\ttrain-logloss:0.39850\n",
      "[380]\teval-logloss:0.37816\ttrain-logloss:0.39850\n",
      "[381]\teval-logloss:0.37813\ttrain-logloss:0.39851\n",
      "[382]\teval-logloss:0.37810\ttrain-logloss:0.39850\n",
      "[383]\teval-logloss:0.37804\ttrain-logloss:0.39850\n",
      "[384]\teval-logloss:0.37800\ttrain-logloss:0.39850\n",
      "[385]\teval-logloss:0.37790\ttrain-logloss:0.39850\n",
      "[386]\teval-logloss:0.37781\ttrain-logloss:0.39851\n",
      "[387]\teval-logloss:0.37774\ttrain-logloss:0.39849\n",
      "[388]\teval-logloss:0.37771\ttrain-logloss:0.39849\n",
      "[389]\teval-logloss:0.37765\ttrain-logloss:0.39851\n",
      "[390]\teval-logloss:0.37762\ttrain-logloss:0.39851\n",
      "[391]\teval-logloss:0.37757\ttrain-logloss:0.39851\n",
      "[392]\teval-logloss:0.37750\ttrain-logloss:0.39852\n",
      "[393]\teval-logloss:0.37742\ttrain-logloss:0.39853\n",
      "[394]\teval-logloss:0.37736\ttrain-logloss:0.39852\n",
      "[395]\teval-logloss:0.37735\ttrain-logloss:0.39852\n",
      "[396]\teval-logloss:0.37728\ttrain-logloss:0.39852\n",
      "[397]\teval-logloss:0.37719\ttrain-logloss:0.39852\n",
      "[398]\teval-logloss:0.37715\ttrain-logloss:0.39853\n",
      "[399]\teval-logloss:0.37709\ttrain-logloss:0.39854\n",
      "[400]\teval-logloss:0.37707\ttrain-logloss:0.39855\n",
      "[401]\teval-logloss:0.37704\ttrain-logloss:0.39856\n",
      "[402]\teval-logloss:0.37702\ttrain-logloss:0.39856\n",
      "[403]\teval-logloss:0.37696\ttrain-logloss:0.39857\n",
      "[404]\teval-logloss:0.37689\ttrain-logloss:0.39856\n",
      "[405]\teval-logloss:0.37686\ttrain-logloss:0.39857\n",
      "[406]\teval-logloss:0.37685\ttrain-logloss:0.39858\n",
      "[407]\teval-logloss:0.37679\ttrain-logloss:0.39860\n",
      "[408]\teval-logloss:0.37676\ttrain-logloss:0.39861\n",
      "[409]\teval-logloss:0.37674\ttrain-logloss:0.39861\n",
      "[410]\teval-logloss:0.37672\ttrain-logloss:0.39863\n",
      "[411]\teval-logloss:0.37667\ttrain-logloss:0.39866\n",
      "[412]\teval-logloss:0.37661\ttrain-logloss:0.39867\n",
      "[413]\teval-logloss:0.37656\ttrain-logloss:0.39866\n",
      "[414]\teval-logloss:0.37654\ttrain-logloss:0.39866\n",
      "[415]\teval-logloss:0.37648\ttrain-logloss:0.39866\n",
      "[416]\teval-logloss:0.37645\ttrain-logloss:0.39866\n",
      "[417]\teval-logloss:0.37642\ttrain-logloss:0.39865\n",
      "[418]\teval-logloss:0.37639\ttrain-logloss:0.39866\n",
      "[419]\teval-logloss:0.37634\ttrain-logloss:0.39867\n",
      "[420]\teval-logloss:0.37632\ttrain-logloss:0.39867\n",
      "[421]\teval-logloss:0.37630\ttrain-logloss:0.39866\n",
      "[422]\teval-logloss:0.37628\ttrain-logloss:0.39868\n",
      "[423]\teval-logloss:0.37623\ttrain-logloss:0.39867\n",
      "[424]\teval-logloss:0.37621\ttrain-logloss:0.39868\n",
      "[425]\teval-logloss:0.37620\ttrain-logloss:0.39869\n",
      "[426]\teval-logloss:0.37618\ttrain-logloss:0.39869\n",
      "[427]\teval-logloss:0.37615\ttrain-logloss:0.39870\n",
      "[428]\teval-logloss:0.37608\ttrain-logloss:0.39870\n",
      "[429]\teval-logloss:0.37601\ttrain-logloss:0.39871\n",
      "[430]\teval-logloss:0.37595\ttrain-logloss:0.39869\n",
      "[431]\teval-logloss:0.37588\ttrain-logloss:0.39870\n",
      "[432]\teval-logloss:0.37581\ttrain-logloss:0.39869\n",
      "[433]\teval-logloss:0.37575\ttrain-logloss:0.39871\n",
      "[434]\teval-logloss:0.37570\ttrain-logloss:0.39870\n",
      "[435]\teval-logloss:0.37568\ttrain-logloss:0.39870\n",
      "[436]\teval-logloss:0.37563\ttrain-logloss:0.39870\n",
      "[437]\teval-logloss:0.37559\ttrain-logloss:0.39872\n",
      "[438]\teval-logloss:0.37552\ttrain-logloss:0.39873\n"
     ]
    },
    {
     "ename": "KeyboardInterrupt",
     "evalue": "",
     "output_type": "error",
     "traceback": [
      "\u001b[1;31m---------------------------------------------------------------------------\u001b[0m",
      "\u001b[1;31mKeyboardInterrupt\u001b[0m                         Traceback (most recent call last)",
      "\u001b[1;32m<ipython-input-41-d5ce22865659>\u001b[0m in \u001b[0;36m<module>\u001b[1;34m\u001b[0m\n\u001b[0;32m     17\u001b[0m \u001b[1;33m\u001b[0m\u001b[0m\n\u001b[0;32m     18\u001b[0m \u001b[1;33m\u001b[0m\u001b[0m\n\u001b[1;32m---> 19\u001b[1;33m \u001b[0mxgboost\u001b[0m \u001b[1;33m=\u001b[0m \u001b[0mxgb\u001b[0m\u001b[1;33m.\u001b[0m\u001b[0mtrain\u001b[0m\u001b[1;33m(\u001b[0m\u001b[0mparams\u001b[0m\u001b[1;33m,\u001b[0m\u001b[0mxtrain\u001b[0m\u001b[1;33m,\u001b[0m\u001b[0mnum_boost_round\u001b[0m\u001b[1;33m=\u001b[0m\u001b[1;36m4000\u001b[0m\u001b[1;33m,\u001b[0m\u001b[0mevals\u001b[0m\u001b[1;33m=\u001b[0m\u001b[0meval_list\u001b[0m\u001b[1;33m,\u001b[0m\u001b[0mearly_stopping_rounds\u001b[0m\u001b[1;33m=\u001b[0m\u001b[1;36m500\u001b[0m\u001b[1;33m,\u001b[0m\u001b[0mverbose_eval\u001b[0m\u001b[1;33m=\u001b[0m\u001b[1;32mTrue\u001b[0m\u001b[1;33m)\u001b[0m\u001b[1;33m\u001b[0m\u001b[1;33m\u001b[0m\u001b[0m\n\u001b[0m",
      "\u001b[1;32m~\\Anaconda3\\lib\\site-packages\\xgboost\\training.py\u001b[0m in \u001b[0;36mtrain\u001b[1;34m(params, dtrain, num_boost_round, evals, obj, feval, maximize, early_stopping_rounds, evals_result, verbose_eval, xgb_model, callbacks)\u001b[0m\n\u001b[0;32m    210\u001b[0m                            \u001b[0mevals\u001b[0m\u001b[1;33m=\u001b[0m\u001b[0mevals\u001b[0m\u001b[1;33m,\u001b[0m\u001b[1;33m\u001b[0m\u001b[1;33m\u001b[0m\u001b[0m\n\u001b[0;32m    211\u001b[0m                            \u001b[0mobj\u001b[0m\u001b[1;33m=\u001b[0m\u001b[0mobj\u001b[0m\u001b[1;33m,\u001b[0m \u001b[0mfeval\u001b[0m\u001b[1;33m=\u001b[0m\u001b[0mfeval\u001b[0m\u001b[1;33m,\u001b[0m\u001b[1;33m\u001b[0m\u001b[1;33m\u001b[0m\u001b[0m\n\u001b[1;32m--> 212\u001b[1;33m                            xgb_model=xgb_model, callbacks=callbacks)\n\u001b[0m\u001b[0;32m    213\u001b[0m \u001b[1;33m\u001b[0m\u001b[0m\n\u001b[0;32m    214\u001b[0m \u001b[1;33m\u001b[0m\u001b[0m\n",
      "\u001b[1;32m~\\Anaconda3\\lib\\site-packages\\xgboost\\training.py\u001b[0m in \u001b[0;36m_train_internal\u001b[1;34m(params, dtrain, num_boost_round, evals, obj, feval, xgb_model, callbacks)\u001b[0m\n\u001b[0;32m     83\u001b[0m         \u001b[1;31m# check evaluation result.\u001b[0m\u001b[1;33m\u001b[0m\u001b[1;33m\u001b[0m\u001b[1;33m\u001b[0m\u001b[0m\n\u001b[0;32m     84\u001b[0m         \u001b[1;32mif\u001b[0m \u001b[0mevals\u001b[0m\u001b[1;33m:\u001b[0m\u001b[1;33m\u001b[0m\u001b[1;33m\u001b[0m\u001b[0m\n\u001b[1;32m---> 85\u001b[1;33m             \u001b[0mbst_eval_set\u001b[0m \u001b[1;33m=\u001b[0m \u001b[0mbst\u001b[0m\u001b[1;33m.\u001b[0m\u001b[0meval_set\u001b[0m\u001b[1;33m(\u001b[0m\u001b[0mevals\u001b[0m\u001b[1;33m,\u001b[0m \u001b[0mi\u001b[0m\u001b[1;33m,\u001b[0m \u001b[0mfeval\u001b[0m\u001b[1;33m)\u001b[0m\u001b[1;33m\u001b[0m\u001b[1;33m\u001b[0m\u001b[0m\n\u001b[0m\u001b[0;32m     86\u001b[0m             \u001b[1;32mif\u001b[0m \u001b[0misinstance\u001b[0m\u001b[1;33m(\u001b[0m\u001b[0mbst_eval_set\u001b[0m\u001b[1;33m,\u001b[0m \u001b[0mSTRING_TYPES\u001b[0m\u001b[1;33m)\u001b[0m\u001b[1;33m:\u001b[0m\u001b[1;33m\u001b[0m\u001b[1;33m\u001b[0m\u001b[0m\n\u001b[0;32m     87\u001b[0m                 \u001b[0mmsg\u001b[0m \u001b[1;33m=\u001b[0m \u001b[0mbst_eval_set\u001b[0m\u001b[1;33m\u001b[0m\u001b[1;33m\u001b[0m\u001b[0m\n",
      "\u001b[1;32m~\\Anaconda3\\lib\\site-packages\\xgboost\\core.py\u001b[0m in \u001b[0;36meval_set\u001b[1;34m(self, evals, iteration, feval)\u001b[0m\n\u001b[0;32m   1433\u001b[0m                                               \u001b[0mdmats\u001b[0m\u001b[1;33m,\u001b[0m \u001b[0mevnames\u001b[0m\u001b[1;33m,\u001b[0m\u001b[1;33m\u001b[0m\u001b[1;33m\u001b[0m\u001b[0m\n\u001b[0;32m   1434\u001b[0m                                               \u001b[0mc_bst_ulong\u001b[0m\u001b[1;33m(\u001b[0m\u001b[0mlen\u001b[0m\u001b[1;33m(\u001b[0m\u001b[0mevals\u001b[0m\u001b[1;33m)\u001b[0m\u001b[1;33m)\u001b[0m\u001b[1;33m,\u001b[0m\u001b[1;33m\u001b[0m\u001b[1;33m\u001b[0m\u001b[0m\n\u001b[1;32m-> 1435\u001b[1;33m                                               ctypes.byref(msg)))\n\u001b[0m\u001b[0;32m   1436\u001b[0m         \u001b[0mres\u001b[0m \u001b[1;33m=\u001b[0m \u001b[0mmsg\u001b[0m\u001b[1;33m.\u001b[0m\u001b[0mvalue\u001b[0m\u001b[1;33m.\u001b[0m\u001b[0mdecode\u001b[0m\u001b[1;33m(\u001b[0m\u001b[1;33m)\u001b[0m\u001b[1;33m\u001b[0m\u001b[1;33m\u001b[0m\u001b[0m\n\u001b[0;32m   1437\u001b[0m         \u001b[1;32mif\u001b[0m \u001b[0mfeval\u001b[0m \u001b[1;32mis\u001b[0m \u001b[1;32mnot\u001b[0m \u001b[1;32mNone\u001b[0m\u001b[1;33m:\u001b[0m\u001b[1;33m\u001b[0m\u001b[1;33m\u001b[0m\u001b[0m\n",
      "\u001b[1;31mKeyboardInterrupt\u001b[0m: "
     ]
    }
   ],
   "source": [
    "import xgboost as xgb\n",
    "\n",
    "x_train,x_test,y_train,y_test = train_test_split(x,y,test_size=0.2)\n",
    "\n",
    "\n",
    "\n",
    "params = {\n",
    "        \"objective\": \"binary:logistic\",\n",
    "        \"booster\" : \"gbtree\",\n",
    "        \"eval_metric\": \"logloss\",        \n",
    "        \"silent\": 1,\n",
    "}\n",
    "\n",
    "xtrain  = xgb.DMatrix(x_train,y_train)\n",
    "xtest = xgb.DMatrix(x_test,y_test)\n",
    "eval_list = [(xtrain,'eval'),(xtest,'train')]\n",
    "\n",
    "\n",
    "xgboost = xgb.train(params,xtrain,num_boost_round=4000,evals=eval_list,early_stopping_rounds=500,verbose_eval=True)"
   ]
  },
  {
   "cell_type": "code",
   "execution_count": null,
   "metadata": {},
   "outputs": [],
   "source": [
    "dtest = xgb.DMatrix(x_test)\n",
    "pred = xgboost.predict(dtest)\n",
    "pred"
   ]
  },
  {
   "cell_type": "code",
   "execution_count": null,
   "metadata": {},
   "outputs": [],
   "source": [
    "print('mae:',mean_squared_error(y_test,pred))"
   ]
  },
  {
   "cell_type": "markdown",
   "metadata": {},
   "source": [
    "## Build Model 3(LR)"
   ]
  },
  {
   "cell_type": "code",
   "execution_count": null,
   "metadata": {},
   "outputs": [],
   "source": [
    "from sklearn.linear_model import LinearRegression\n",
    "\n",
    "lr = LinearRegression(normalize=True)\n",
    "\n",
    "lr.fit(x_train,y_train)\n",
    "\n",
    "pred = lr.predict(x_test)\n",
    "\n",
    "print('mae:',mean_squared_error(y_test,pred))"
   ]
  },
  {
   "cell_type": "markdown",
   "metadata": {},
   "source": [
    "## Test Parser"
   ]
  },
  {
   "cell_type": "code",
   "execution_count": 54,
   "metadata": {},
   "outputs": [
    {
     "name": "stderr",
     "output_type": "stream",
     "text": [
      "C:\\Users\\David\\Anaconda3\\lib\\site-packages\\ipykernel_launcher.py:1: FutureWarning: The pandas.datetime class is deprecated and will be removed from pandas in a future version. Import from datetime module instead.\n",
      "  \"\"\"Entry point for launching an IPython kernel.\n"
     ]
    }
   ],
   "source": [
    "parser = lambda a : pd.datetime.strptime(a,'%y%m%d%H')\n",
    "test_df = pd.read_csv('./test.csv',parse_dates=['hour'],date_parser = parser)"
   ]
  },
  {
   "cell_type": "code",
   "execution_count": 55,
   "metadata": {},
   "outputs": [],
   "source": [
    "test_df['time'] = test_df.hour.apply(lambda a : a.hour)"
   ]
  },
  {
   "cell_type": "code",
   "execution_count": 56,
   "metadata": {},
   "outputs": [],
   "source": [
    "test_df['day_of_week'] = test_df.hour.apply(lambda x : x.weekday())\n",
    "test_df['day_of_week'] = test_df['day_of_week'] + 1"
   ]
  },
  {
   "cell_type": "code",
   "execution_count": 57,
   "metadata": {},
   "outputs": [
    {
     "data": {
      "text/html": [
       "<div>\n",
       "<style scoped>\n",
       "    .dataframe tbody tr th:only-of-type {\n",
       "        vertical-align: middle;\n",
       "    }\n",
       "\n",
       "    .dataframe tbody tr th {\n",
       "        vertical-align: top;\n",
       "    }\n",
       "\n",
       "    .dataframe thead th {\n",
       "        text-align: right;\n",
       "    }\n",
       "</style>\n",
       "<table border=\"1\" class=\"dataframe\">\n",
       "  <thead>\n",
       "    <tr style=\"text-align: right;\">\n",
       "      <th></th>\n",
       "      <th>id</th>\n",
       "      <th>hour</th>\n",
       "      <th>C1</th>\n",
       "      <th>banner_pos</th>\n",
       "      <th>site_id</th>\n",
       "      <th>site_domain</th>\n",
       "      <th>site_category</th>\n",
       "      <th>app_id</th>\n",
       "      <th>app_domain</th>\n",
       "      <th>app_category</th>\n",
       "      <th>...</th>\n",
       "      <th>C14</th>\n",
       "      <th>C15</th>\n",
       "      <th>C16</th>\n",
       "      <th>C17</th>\n",
       "      <th>C18</th>\n",
       "      <th>C19</th>\n",
       "      <th>C20</th>\n",
       "      <th>C21</th>\n",
       "      <th>time</th>\n",
       "      <th>day_of_week</th>\n",
       "    </tr>\n",
       "  </thead>\n",
       "  <tbody>\n",
       "    <tr>\n",
       "      <th>0</th>\n",
       "      <td>1.000017e+19</td>\n",
       "      <td>2014-10-31</td>\n",
       "      <td>1005</td>\n",
       "      <td>0</td>\n",
       "      <td>235ba823</td>\n",
       "      <td>f6ebf28e</td>\n",
       "      <td>f028772b</td>\n",
       "      <td>ecad2386</td>\n",
       "      <td>7801e8d9</td>\n",
       "      <td>07d7df22</td>\n",
       "      <td>...</td>\n",
       "      <td>8330</td>\n",
       "      <td>320</td>\n",
       "      <td>50</td>\n",
       "      <td>761</td>\n",
       "      <td>3</td>\n",
       "      <td>175</td>\n",
       "      <td>100075</td>\n",
       "      <td>23</td>\n",
       "      <td>0</td>\n",
       "      <td>5</td>\n",
       "    </tr>\n",
       "    <tr>\n",
       "      <th>1</th>\n",
       "      <td>1.000018e+19</td>\n",
       "      <td>2014-10-31</td>\n",
       "      <td>1005</td>\n",
       "      <td>0</td>\n",
       "      <td>1fbe01fe</td>\n",
       "      <td>f3845767</td>\n",
       "      <td>28905ebd</td>\n",
       "      <td>ecad2386</td>\n",
       "      <td>7801e8d9</td>\n",
       "      <td>07d7df22</td>\n",
       "      <td>...</td>\n",
       "      <td>22676</td>\n",
       "      <td>320</td>\n",
       "      <td>50</td>\n",
       "      <td>2616</td>\n",
       "      <td>0</td>\n",
       "      <td>35</td>\n",
       "      <td>100083</td>\n",
       "      <td>51</td>\n",
       "      <td>0</td>\n",
       "      <td>5</td>\n",
       "    </tr>\n",
       "    <tr>\n",
       "      <th>2</th>\n",
       "      <td>1.000055e+19</td>\n",
       "      <td>2014-10-31</td>\n",
       "      <td>1005</td>\n",
       "      <td>0</td>\n",
       "      <td>1fbe01fe</td>\n",
       "      <td>f3845767</td>\n",
       "      <td>28905ebd</td>\n",
       "      <td>ecad2386</td>\n",
       "      <td>7801e8d9</td>\n",
       "      <td>07d7df22</td>\n",
       "      <td>...</td>\n",
       "      <td>22676</td>\n",
       "      <td>320</td>\n",
       "      <td>50</td>\n",
       "      <td>2616</td>\n",
       "      <td>0</td>\n",
       "      <td>35</td>\n",
       "      <td>100083</td>\n",
       "      <td>51</td>\n",
       "      <td>0</td>\n",
       "      <td>5</td>\n",
       "    </tr>\n",
       "    <tr>\n",
       "      <th>3</th>\n",
       "      <td>1.000109e+19</td>\n",
       "      <td>2014-10-31</td>\n",
       "      <td>1005</td>\n",
       "      <td>0</td>\n",
       "      <td>85f751fd</td>\n",
       "      <td>c4e18dd6</td>\n",
       "      <td>50e219e0</td>\n",
       "      <td>51cedd4e</td>\n",
       "      <td>aefc06bd</td>\n",
       "      <td>0f2161f8</td>\n",
       "      <td>...</td>\n",
       "      <td>18648</td>\n",
       "      <td>320</td>\n",
       "      <td>50</td>\n",
       "      <td>1092</td>\n",
       "      <td>3</td>\n",
       "      <td>809</td>\n",
       "      <td>100156</td>\n",
       "      <td>61</td>\n",
       "      <td>0</td>\n",
       "      <td>5</td>\n",
       "    </tr>\n",
       "    <tr>\n",
       "      <th>4</th>\n",
       "      <td>1.000138e+19</td>\n",
       "      <td>2014-10-31</td>\n",
       "      <td>1005</td>\n",
       "      <td>0</td>\n",
       "      <td>85f751fd</td>\n",
       "      <td>c4e18dd6</td>\n",
       "      <td>50e219e0</td>\n",
       "      <td>9c13b419</td>\n",
       "      <td>2347f47a</td>\n",
       "      <td>f95efa07</td>\n",
       "      <td>...</td>\n",
       "      <td>23160</td>\n",
       "      <td>320</td>\n",
       "      <td>50</td>\n",
       "      <td>2667</td>\n",
       "      <td>0</td>\n",
       "      <td>47</td>\n",
       "      <td>-1</td>\n",
       "      <td>221</td>\n",
       "      <td>0</td>\n",
       "      <td>5</td>\n",
       "    </tr>\n",
       "  </tbody>\n",
       "</table>\n",
       "<p>5 rows × 25 columns</p>\n",
       "</div>"
      ],
      "text/plain": [
       "             id       hour    C1  banner_pos   site_id site_domain  \\\n",
       "0  1.000017e+19 2014-10-31  1005           0  235ba823    f6ebf28e   \n",
       "1  1.000018e+19 2014-10-31  1005           0  1fbe01fe    f3845767   \n",
       "2  1.000055e+19 2014-10-31  1005           0  1fbe01fe    f3845767   \n",
       "3  1.000109e+19 2014-10-31  1005           0  85f751fd    c4e18dd6   \n",
       "4  1.000138e+19 2014-10-31  1005           0  85f751fd    c4e18dd6   \n",
       "\n",
       "  site_category    app_id app_domain app_category  ...    C14  C15 C16   C17  \\\n",
       "0      f028772b  ecad2386   7801e8d9     07d7df22  ...   8330  320  50   761   \n",
       "1      28905ebd  ecad2386   7801e8d9     07d7df22  ...  22676  320  50  2616   \n",
       "2      28905ebd  ecad2386   7801e8d9     07d7df22  ...  22676  320  50  2616   \n",
       "3      50e219e0  51cedd4e   aefc06bd     0f2161f8  ...  18648  320  50  1092   \n",
       "4      50e219e0  9c13b419   2347f47a     f95efa07  ...  23160  320  50  2667   \n",
       "\n",
       "   C18  C19     C20  C21  time  day_of_week  \n",
       "0    3  175  100075   23     0            5  \n",
       "1    0   35  100083   51     0            5  \n",
       "2    0   35  100083   51     0            5  \n",
       "3    3  809  100156   61     0            5  \n",
       "4    0   47      -1  221     0            5  \n",
       "\n",
       "[5 rows x 25 columns]"
      ]
     },
     "execution_count": 57,
     "metadata": {},
     "output_type": "execute_result"
    }
   ],
   "source": [
    "test_df.head()"
   ]
  },
  {
   "cell_type": "code",
   "execution_count": 58,
   "metadata": {},
   "outputs": [],
   "source": [
    "\n",
    "test_columns = test_df.columns\n",
    "test_dtypes = test_df.dtypes\n",
    "new_type = '_int'\n",
    "\n",
    "for i in range(0,len(test_columns)):\n",
    "    if test_dtypes[i] == object:\n",
    "        test_df[test_columns[i]+new_type] = test_df[test_columns[i]].map(lambda a : hash(a))\n",
    "        test_df.drop([test_columns[i]],axis=1,inplace=True)\n",
    "        "
   ]
  },
  {
   "cell_type": "code",
   "execution_count": 59,
   "metadata": {},
   "outputs": [],
   "source": [
    "test_df = test_df.drop(['hour'],axis=1)"
   ]
  },
  {
   "cell_type": "code",
   "execution_count": 60,
   "metadata": {},
   "outputs": [
    {
     "data": {
      "text/plain": [
       "Index(['id', 'C1', 'banner_pos', 'device_type', 'device_conn_type', 'C14',\n",
       "       'C15', 'C16', 'C17', 'C18', 'C19', 'C20', 'C21', 'time', 'day_of_week',\n",
       "       'site_id_int', 'site_domain_int', 'site_category_int', 'app_id_int',\n",
       "       'app_domain_int', 'app_category_int', 'device_id_int', 'device_ip_int',\n",
       "       'device_model_int'],\n",
       "      dtype='object')"
      ]
     },
     "execution_count": 60,
     "metadata": {},
     "output_type": "execute_result"
    }
   ],
   "source": [
    "test_df.columns"
   ]
  },
  {
   "cell_type": "code",
   "execution_count": null,
   "metadata": {},
   "outputs": [],
   "source": [
    "#test_df = test_df.drop(['time'],axis=1)\n",
    "dtest = xgb.DMatrix(test_df)\n",
    "test_pred = xgboost.predict(dtest)\n"
   ]
  },
  {
   "cell_type": "code",
   "execution_count": 62,
   "metadata": {},
   "outputs": [
    {
     "data": {
      "text/plain": [
       "array([0.13841614, 0.21219883, 0.22265467, ..., 0.36219056, 0.03071302,\n",
       "       0.10750346])"
      ]
     },
     "execution_count": 62,
     "metadata": {},
     "output_type": "execute_result"
    }
   ],
   "source": [
    "gr_gbm_pred = gr_gbm.predict(test_df)\n",
    "gr_gbm_pred"
   ]
  },
  {
   "cell_type": "code",
   "execution_count": 63,
   "metadata": {},
   "outputs": [],
   "source": [
    "submit_df = pd.read_csv('./sampleSubmission.csv')\n",
    "submit_df['click'] = gr_gbm_pred\n",
    "submit_df.to_csv('./submit_4.csv',index=False)"
   ]
  },
  {
   "cell_type": "code",
   "execution_count": null,
   "metadata": {},
   "outputs": [],
   "source": [
    "#dtest = lgb.Dataset(test_df)\n",
    "test1_pred = gbm.predict(test_df)"
   ]
  },
  {
   "cell_type": "code",
   "execution_count": null,
   "metadata": {},
   "outputs": [],
   "source": [
    "submit_df['click'] = test1_pred\n",
    "submit_df.to_csv('./submit_2.csv',index=False)"
   ]
  },
  {
   "cell_type": "code",
   "execution_count": null,
   "metadata": {},
   "outputs": [],
   "source": [
    "from mlxtend.regressor import StackingRegressor\n",
    "from sklearn.linear_model import Ridge\n",
    "from sklearn.svm import SVR\n",
    "from sklearn.ensemble import RandomForestRegressor\n",
    "from sklearn.model_selection import GridSearchCV\n",
    "\n",
    "lr = LinearRegression(normalize=True)\n",
    "svr = SVR(kernel='rbf')\n",
    "ridge = Ridge(random_state=1)\n",
    "\n",
    "sr = StackingRegressor(regressors=[lr,svr],meta_regressor=ridge)\n",
    "\n",
    "params = {'svr__C': [0.1, 1.0, 10.0],'svr__gamma': [0.1, 1.0, 10.0]}\n",
    "\n",
    "sr_gr = GridSearchCV(estimator=sr,param_grid=params)\n",
    "sr_gr.fit(x,y)"
   ]
  },
  {
   "cell_type": "code",
   "execution_count": null,
   "metadata": {},
   "outputs": [],
   "source": [
    "sr_pred = sr.predict(test_df)"
   ]
  },
  {
   "cell_type": "code",
   "execution_count": null,
   "metadata": {},
   "outputs": [],
   "source": [
    "submit_df['click'] = sr_pred"
   ]
  },
  {
   "cell_type": "code",
   "execution_count": null,
   "metadata": {},
   "outputs": [],
   "source": [
    "submit_df.to_csv('./submit_3.csv',index=False)"
   ]
  }
 ],
 "metadata": {
  "kernelspec": {
   "display_name": "Python 3",
   "language": "python",
   "name": "python3"
  },
  "language_info": {
   "codemirror_mode": {
    "name": "ipython",
    "version": 3
   },
   "file_extension": ".py",
   "mimetype": "text/x-python",
   "name": "python",
   "nbconvert_exporter": "python",
   "pygments_lexer": "ipython3",
   "version": "3.7.7"
  }
 },
 "nbformat": 4,
 "nbformat_minor": 4
}
