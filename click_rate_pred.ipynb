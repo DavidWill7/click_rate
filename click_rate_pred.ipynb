{
 "cells": [
  {
   "cell_type": "markdown",
   "metadata": {},
   "source": [
    "## Random Resample"
   ]
  },
  {
   "cell_type": "code",
   "execution_count": 1,
   "metadata": {},
   "outputs": [],
   "source": [
    "import numpy as np\n",
    "\n",
    "types_df = {\n",
    "    'id': np.dtype(int), \n",
    "    'click': np.dtype(int),       \n",
    "    'hour': np.dtype(int),       \n",
    "    'C1': np.dtype(int),          \n",
    "    'banner_pos': np.dtype(int),  \n",
    "    'site_id': np.dtype(str),     \n",
    "    'site_domain': np.dtype(str),  \n",
    "    'site_category': np.dtype(str),\n",
    "    'app_id': np.dtype(str),       \n",
    "    'app_domain': np.dtype(str),\n",
    "    'app_category': np.dtype(str), \n",
    "    'device_id': np.dtype(str),    \n",
    "    'device_ip': np.dtype(str),    \n",
    "    'device_model': np.dtype(str),  \n",
    "    'device_type': np.dtype(int),   \n",
    "    'device_conn_type': np.dtype(int),\n",
    "    'C14': np.dtype(int),   \n",
    "    'C15': np.dtype(int),  \n",
    "    'C16': np.dtype(int),   \n",
    "    'C17': np.dtype(int),   \n",
    "    'C18': np.dtype(int),   \n",
    "    'C19': np.dtype(int),   \n",
    "    'C20': np.dtype(int),   \n",
    "    'C21':np.dtype(int)   \n",
    "}"
   ]
  },
  {
   "cell_type": "code",
   "execution_count": 2,
   "metadata": {},
   "outputs": [
    {
     "name": "stderr",
     "output_type": "stream",
     "text": [
      "C:\\Users\\David\\Anaconda3\\lib\\site-packages\\ipykernel_launcher.py:10: FutureWarning: The pandas.datetime class is deprecated and will be removed from pandas in a future version. Import from datetime module instead.\n",
      "  # Remove the CWD from sys.path while we load stuff.\n"
     ]
    },
    {
     "data": {
      "text/html": [
       "<div>\n",
       "<style scoped>\n",
       "    .dataframe tbody tr th:only-of-type {\n",
       "        vertical-align: middle;\n",
       "    }\n",
       "\n",
       "    .dataframe tbody tr th {\n",
       "        vertical-align: top;\n",
       "    }\n",
       "\n",
       "    .dataframe thead th {\n",
       "        text-align: right;\n",
       "    }\n",
       "</style>\n",
       "<table border=\"1\" class=\"dataframe\">\n",
       "  <thead>\n",
       "    <tr style=\"text-align: right;\">\n",
       "      <th></th>\n",
       "      <th>id</th>\n",
       "      <th>click</th>\n",
       "      <th>hour</th>\n",
       "      <th>C1</th>\n",
       "      <th>banner_pos</th>\n",
       "      <th>site_id</th>\n",
       "      <th>site_domain</th>\n",
       "      <th>site_category</th>\n",
       "      <th>app_id</th>\n",
       "      <th>app_domain</th>\n",
       "      <th>...</th>\n",
       "      <th>device_type</th>\n",
       "      <th>device_conn_type</th>\n",
       "      <th>C14</th>\n",
       "      <th>C15</th>\n",
       "      <th>C16</th>\n",
       "      <th>C17</th>\n",
       "      <th>C18</th>\n",
       "      <th>C19</th>\n",
       "      <th>C20</th>\n",
       "      <th>C21</th>\n",
       "    </tr>\n",
       "  </thead>\n",
       "  <tbody>\n",
       "    <tr>\n",
       "      <th>0</th>\n",
       "      <td>-1808458043</td>\n",
       "      <td>0</td>\n",
       "      <td>2014-10-21</td>\n",
       "      <td>1005</td>\n",
       "      <td>0</td>\n",
       "      <td>543a539e</td>\n",
       "      <td>c7ca3108</td>\n",
       "      <td>3e814130</td>\n",
       "      <td>ecad2386</td>\n",
       "      <td>7801e8d9</td>\n",
       "      <td>...</td>\n",
       "      <td>1</td>\n",
       "      <td>0</td>\n",
       "      <td>20352</td>\n",
       "      <td>320</td>\n",
       "      <td>50</td>\n",
       "      <td>2333</td>\n",
       "      <td>0</td>\n",
       "      <td>39</td>\n",
       "      <td>-1</td>\n",
       "      <td>157</td>\n",
       "    </tr>\n",
       "    <tr>\n",
       "      <th>1</th>\n",
       "      <td>1467854271</td>\n",
       "      <td>0</td>\n",
       "      <td>2014-10-21</td>\n",
       "      <td>1005</td>\n",
       "      <td>0</td>\n",
       "      <td>1fbe01fe</td>\n",
       "      <td>f3845767</td>\n",
       "      <td>28905ebd</td>\n",
       "      <td>ecad2386</td>\n",
       "      <td>7801e8d9</td>\n",
       "      <td>...</td>\n",
       "      <td>1</td>\n",
       "      <td>0</td>\n",
       "      <td>15699</td>\n",
       "      <td>320</td>\n",
       "      <td>50</td>\n",
       "      <td>1722</td>\n",
       "      <td>0</td>\n",
       "      <td>35</td>\n",
       "      <td>-1</td>\n",
       "      <td>79</td>\n",
       "    </tr>\n",
       "    <tr>\n",
       "      <th>2</th>\n",
       "      <td>39309467</td>\n",
       "      <td>0</td>\n",
       "      <td>2014-10-21</td>\n",
       "      <td>1005</td>\n",
       "      <td>0</td>\n",
       "      <td>1fbe01fe</td>\n",
       "      <td>f3845767</td>\n",
       "      <td>28905ebd</td>\n",
       "      <td>ecad2386</td>\n",
       "      <td>7801e8d9</td>\n",
       "      <td>...</td>\n",
       "      <td>1</td>\n",
       "      <td>0</td>\n",
       "      <td>15705</td>\n",
       "      <td>320</td>\n",
       "      <td>50</td>\n",
       "      <td>1722</td>\n",
       "      <td>0</td>\n",
       "      <td>35</td>\n",
       "      <td>100084</td>\n",
       "      <td>79</td>\n",
       "    </tr>\n",
       "    <tr>\n",
       "      <th>3</th>\n",
       "      <td>-1036648431</td>\n",
       "      <td>1</td>\n",
       "      <td>2014-10-21</td>\n",
       "      <td>1005</td>\n",
       "      <td>1</td>\n",
       "      <td>e151e245</td>\n",
       "      <td>7e091613</td>\n",
       "      <td>f028772b</td>\n",
       "      <td>ecad2386</td>\n",
       "      <td>7801e8d9</td>\n",
       "      <td>...</td>\n",
       "      <td>1</td>\n",
       "      <td>0</td>\n",
       "      <td>20362</td>\n",
       "      <td>320</td>\n",
       "      <td>50</td>\n",
       "      <td>2333</td>\n",
       "      <td>0</td>\n",
       "      <td>39</td>\n",
       "      <td>-1</td>\n",
       "      <td>157</td>\n",
       "    </tr>\n",
       "    <tr>\n",
       "      <th>4</th>\n",
       "      <td>1948241392</td>\n",
       "      <td>1</td>\n",
       "      <td>2014-10-21</td>\n",
       "      <td>1002</td>\n",
       "      <td>0</td>\n",
       "      <td>84c7ba46</td>\n",
       "      <td>c4e18dd6</td>\n",
       "      <td>50e219e0</td>\n",
       "      <td>ecad2386</td>\n",
       "      <td>7801e8d9</td>\n",
       "      <td>...</td>\n",
       "      <td>0</td>\n",
       "      <td>0</td>\n",
       "      <td>21300</td>\n",
       "      <td>320</td>\n",
       "      <td>50</td>\n",
       "      <td>2446</td>\n",
       "      <td>3</td>\n",
       "      <td>171</td>\n",
       "      <td>100228</td>\n",
       "      <td>156</td>\n",
       "    </tr>\n",
       "  </tbody>\n",
       "</table>\n",
       "<p>5 rows × 24 columns</p>\n",
       "</div>"
      ],
      "text/plain": [
       "           id  click       hour    C1  banner_pos   site_id site_domain  \\\n",
       "0 -1808458043      0 2014-10-21  1005           0  543a539e    c7ca3108   \n",
       "1  1467854271      0 2014-10-21  1005           0  1fbe01fe    f3845767   \n",
       "2    39309467      0 2014-10-21  1005           0  1fbe01fe    f3845767   \n",
       "3 -1036648431      1 2014-10-21  1005           1  e151e245    7e091613   \n",
       "4  1948241392      1 2014-10-21  1002           0  84c7ba46    c4e18dd6   \n",
       "\n",
       "  site_category    app_id app_domain  ... device_type device_conn_type    C14  \\\n",
       "0      3e814130  ecad2386   7801e8d9  ...           1                0  20352   \n",
       "1      28905ebd  ecad2386   7801e8d9  ...           1                0  15699   \n",
       "2      28905ebd  ecad2386   7801e8d9  ...           1                0  15705   \n",
       "3      f028772b  ecad2386   7801e8d9  ...           1                0  20362   \n",
       "4      50e219e0  ecad2386   7801e8d9  ...           0                0  21300   \n",
       "\n",
       "   C15  C16   C17  C18  C19     C20  C21  \n",
       "0  320   50  2333    0   39      -1  157  \n",
       "1  320   50  1722    0   35      -1   79  \n",
       "2  320   50  1722    0   35  100084   79  \n",
       "3  320   50  2333    0   39      -1  157  \n",
       "4  320   50  2446    3  171  100228  156  \n",
       "\n",
       "[5 rows x 24 columns]"
      ]
     },
     "execution_count": 2,
     "metadata": {},
     "output_type": "execute_result"
    }
   ],
   "source": [
    "import random\n",
    "import pandas as pd\n",
    "import matplotlib.pyplot as plt\n",
    "\n",
    "\n",
    "m = 40428967  \n",
    "sample_size= 1200000\n",
    "value = sorted(random.sample(range(1,m),m-sample_size))\n",
    "\n",
    "parser = lambda n :pd.datetime.strptime(n,'%y%m%d%H')\n",
    "\n",
    "\n",
    "df = pd.read_csv('./train.csv',parse_dates=['hour'],date_parser=parser,dtype=types_df,skiprows=value)\n",
    "\n",
    "df.head()"
   ]
  },
  {
   "cell_type": "code",
   "execution_count": 4,
   "metadata": {},
   "outputs": [
    {
     "data": {
      "text/plain": [
       "(1200000, 24)"
      ]
     },
     "execution_count": 4,
     "metadata": {},
     "output_type": "execute_result"
    }
   ],
   "source": [
    "df.shape"
   ]
  },
  {
   "cell_type": "markdown",
   "metadata": {},
   "source": [
    "\n",
    "## EDA\n"
   ]
  },
  {
   "cell_type": "code",
   "execution_count": 5,
   "metadata": {},
   "outputs": [
    {
     "data": {
      "text/plain": [
       "Index(['id', 'click', 'hour', 'C1', 'banner_pos', 'site_id', 'site_domain',\n",
       "       'site_category', 'app_id', 'app_domain', 'app_category', 'device_id',\n",
       "       'device_ip', 'device_model', 'device_type', 'device_conn_type', 'C14',\n",
       "       'C15', 'C16', 'C17', 'C18', 'C19', 'C20', 'C21'],\n",
       "      dtype='object')"
      ]
     },
     "execution_count": 5,
     "metadata": {},
     "output_type": "execute_result"
    }
   ],
   "source": [
    "df.columns"
   ]
  },
  {
   "cell_type": "code",
   "execution_count": 6,
   "metadata": {},
   "outputs": [
    {
     "name": "stdout",
     "output_type": "stream",
     "text": [
      "<class 'pandas.core.frame.DataFrame'>\n",
      "RangeIndex: 1200000 entries, 0 to 1199999\n",
      "Data columns (total 24 columns):\n",
      " #   Column            Non-Null Count    Dtype         \n",
      "---  ------            --------------    -----         \n",
      " 0   id                1200000 non-null  int32         \n",
      " 1   click             1200000 non-null  int32         \n",
      " 2   hour              1200000 non-null  datetime64[ns]\n",
      " 3   C1                1200000 non-null  int32         \n",
      " 4   banner_pos        1200000 non-null  int32         \n",
      " 5   site_id           1200000 non-null  object        \n",
      " 6   site_domain       1200000 non-null  object        \n",
      " 7   site_category     1200000 non-null  object        \n",
      " 8   app_id            1200000 non-null  object        \n",
      " 9   app_domain        1200000 non-null  object        \n",
      " 10  app_category      1200000 non-null  object        \n",
      " 11  device_id         1200000 non-null  object        \n",
      " 12  device_ip         1200000 non-null  object        \n",
      " 13  device_model      1200000 non-null  object        \n",
      " 14  device_type       1200000 non-null  int32         \n",
      " 15  device_conn_type  1200000 non-null  int32         \n",
      " 16  C14               1200000 non-null  int32         \n",
      " 17  C15               1200000 non-null  int32         \n",
      " 18  C16               1200000 non-null  int32         \n",
      " 19  C17               1200000 non-null  int32         \n",
      " 20  C18               1200000 non-null  int32         \n",
      " 21  C19               1200000 non-null  int32         \n",
      " 22  C20               1200000 non-null  int32         \n",
      " 23  C21               1200000 non-null  int32         \n",
      "dtypes: datetime64[ns](1), int32(14), object(9)\n",
      "memory usage: 155.6+ MB\n"
     ]
    }
   ],
   "source": [
    "df.info()"
   ]
  },
  {
   "cell_type": "code",
   "execution_count": 7,
   "metadata": {},
   "outputs": [
    {
     "data": {
      "text/html": [
       "<div>\n",
       "<style scoped>\n",
       "    .dataframe tbody tr th:only-of-type {\n",
       "        vertical-align: middle;\n",
       "    }\n",
       "\n",
       "    .dataframe tbody tr th {\n",
       "        vertical-align: top;\n",
       "    }\n",
       "\n",
       "    .dataframe thead th {\n",
       "        text-align: right;\n",
       "    }\n",
       "</style>\n",
       "<table border=\"1\" class=\"dataframe\">\n",
       "  <thead>\n",
       "    <tr style=\"text-align: right;\">\n",
       "      <th></th>\n",
       "      <th>id</th>\n",
       "      <th>click</th>\n",
       "      <th>C1</th>\n",
       "      <th>banner_pos</th>\n",
       "      <th>device_type</th>\n",
       "      <th>device_conn_type</th>\n",
       "      <th>C14</th>\n",
       "      <th>C15</th>\n",
       "      <th>C16</th>\n",
       "      <th>C17</th>\n",
       "      <th>C18</th>\n",
       "      <th>C19</th>\n",
       "      <th>C20</th>\n",
       "      <th>C21</th>\n",
       "    </tr>\n",
       "  </thead>\n",
       "  <tbody>\n",
       "    <tr>\n",
       "      <th>count</th>\n",
       "      <td>1.200000e+06</td>\n",
       "      <td>1.200000e+06</td>\n",
       "      <td>1.200000e+06</td>\n",
       "      <td>1.200000e+06</td>\n",
       "      <td>1.200000e+06</td>\n",
       "      <td>1.200000e+06</td>\n",
       "      <td>1.200000e+06</td>\n",
       "      <td>1.200000e+06</td>\n",
       "      <td>1.200000e+06</td>\n",
       "      <td>1.200000e+06</td>\n",
       "      <td>1.200000e+06</td>\n",
       "      <td>1.200000e+06</td>\n",
       "      <td>1.200000e+06</td>\n",
       "      <td>1.200000e+06</td>\n",
       "    </tr>\n",
       "    <tr>\n",
       "      <th>mean</th>\n",
       "      <td>1.296034e+06</td>\n",
       "      <td>1.703450e-01</td>\n",
       "      <td>1.004967e+03</td>\n",
       "      <td>2.878008e-01</td>\n",
       "      <td>1.015247e+00</td>\n",
       "      <td>3.307458e-01</td>\n",
       "      <td>1.884169e+04</td>\n",
       "      <td>3.188848e+02</td>\n",
       "      <td>6.014064e+01</td>\n",
       "      <td>2.112600e+03</td>\n",
       "      <td>1.432992e+00</td>\n",
       "      <td>2.271950e+02</td>\n",
       "      <td>5.313234e+04</td>\n",
       "      <td>8.343064e+01</td>\n",
       "    </tr>\n",
       "    <tr>\n",
       "      <th>std</th>\n",
       "      <td>1.239939e+09</td>\n",
       "      <td>3.759358e-01</td>\n",
       "      <td>1.094170e+00</td>\n",
       "      <td>5.050430e-01</td>\n",
       "      <td>5.277541e-01</td>\n",
       "      <td>8.541820e-01</td>\n",
       "      <td>4.959054e+03</td>\n",
       "      <td>2.131548e+01</td>\n",
       "      <td>4.735919e+01</td>\n",
       "      <td>6.094253e+02</td>\n",
       "      <td>1.326169e+00</td>\n",
       "      <td>3.512091e+02</td>\n",
       "      <td>4.996209e+04</td>\n",
       "      <td>7.034052e+01</td>\n",
       "    </tr>\n",
       "    <tr>\n",
       "      <th>min</th>\n",
       "      <td>-2.147484e+09</td>\n",
       "      <td>0.000000e+00</td>\n",
       "      <td>1.001000e+03</td>\n",
       "      <td>0.000000e+00</td>\n",
       "      <td>0.000000e+00</td>\n",
       "      <td>0.000000e+00</td>\n",
       "      <td>3.750000e+02</td>\n",
       "      <td>1.200000e+02</td>\n",
       "      <td>2.000000e+01</td>\n",
       "      <td>1.120000e+02</td>\n",
       "      <td>0.000000e+00</td>\n",
       "      <td>3.300000e+01</td>\n",
       "      <td>-1.000000e+00</td>\n",
       "      <td>1.000000e+00</td>\n",
       "    </tr>\n",
       "    <tr>\n",
       "      <th>25%</th>\n",
       "      <td>-1.071986e+09</td>\n",
       "      <td>0.000000e+00</td>\n",
       "      <td>1.005000e+03</td>\n",
       "      <td>0.000000e+00</td>\n",
       "      <td>1.000000e+00</td>\n",
       "      <td>0.000000e+00</td>\n",
       "      <td>1.692000e+04</td>\n",
       "      <td>3.200000e+02</td>\n",
       "      <td>5.000000e+01</td>\n",
       "      <td>1.863000e+03</td>\n",
       "      <td>0.000000e+00</td>\n",
       "      <td>3.500000e+01</td>\n",
       "      <td>-1.000000e+00</td>\n",
       "      <td>2.300000e+01</td>\n",
       "    </tr>\n",
       "    <tr>\n",
       "      <th>50%</th>\n",
       "      <td>6.112205e+05</td>\n",
       "      <td>0.000000e+00</td>\n",
       "      <td>1.005000e+03</td>\n",
       "      <td>0.000000e+00</td>\n",
       "      <td>1.000000e+00</td>\n",
       "      <td>0.000000e+00</td>\n",
       "      <td>2.034600e+04</td>\n",
       "      <td>3.200000e+02</td>\n",
       "      <td>5.000000e+01</td>\n",
       "      <td>2.323000e+03</td>\n",
       "      <td>2.000000e+00</td>\n",
       "      <td>3.900000e+01</td>\n",
       "      <td>1.000460e+05</td>\n",
       "      <td>6.100000e+01</td>\n",
       "    </tr>\n",
       "    <tr>\n",
       "      <th>75%</th>\n",
       "      <td>1.073550e+09</td>\n",
       "      <td>0.000000e+00</td>\n",
       "      <td>1.005000e+03</td>\n",
       "      <td>1.000000e+00</td>\n",
       "      <td>1.000000e+00</td>\n",
       "      <td>0.000000e+00</td>\n",
       "      <td>2.189400e+04</td>\n",
       "      <td>3.200000e+02</td>\n",
       "      <td>5.000000e+01</td>\n",
       "      <td>2.526000e+03</td>\n",
       "      <td>3.000000e+00</td>\n",
       "      <td>1.710000e+02</td>\n",
       "      <td>1.000870e+05</td>\n",
       "      <td>1.010000e+02</td>\n",
       "    </tr>\n",
       "    <tr>\n",
       "      <th>max</th>\n",
       "      <td>2.147484e+09</td>\n",
       "      <td>1.000000e+00</td>\n",
       "      <td>1.012000e+03</td>\n",
       "      <td>7.000000e+00</td>\n",
       "      <td>5.000000e+00</td>\n",
       "      <td>5.000000e+00</td>\n",
       "      <td>2.405200e+04</td>\n",
       "      <td>1.024000e+03</td>\n",
       "      <td>1.024000e+03</td>\n",
       "      <td>2.758000e+03</td>\n",
       "      <td>3.000000e+00</td>\n",
       "      <td>1.839000e+03</td>\n",
       "      <td>1.002480e+05</td>\n",
       "      <td>2.550000e+02</td>\n",
       "    </tr>\n",
       "  </tbody>\n",
       "</table>\n",
       "</div>"
      ],
      "text/plain": [
       "                 id         click            C1    banner_pos   device_type  \\\n",
       "count  1.200000e+06  1.200000e+06  1.200000e+06  1.200000e+06  1.200000e+06   \n",
       "mean   1.296034e+06  1.703450e-01  1.004967e+03  2.878008e-01  1.015247e+00   \n",
       "std    1.239939e+09  3.759358e-01  1.094170e+00  5.050430e-01  5.277541e-01   \n",
       "min   -2.147484e+09  0.000000e+00  1.001000e+03  0.000000e+00  0.000000e+00   \n",
       "25%   -1.071986e+09  0.000000e+00  1.005000e+03  0.000000e+00  1.000000e+00   \n",
       "50%    6.112205e+05  0.000000e+00  1.005000e+03  0.000000e+00  1.000000e+00   \n",
       "75%    1.073550e+09  0.000000e+00  1.005000e+03  1.000000e+00  1.000000e+00   \n",
       "max    2.147484e+09  1.000000e+00  1.012000e+03  7.000000e+00  5.000000e+00   \n",
       "\n",
       "       device_conn_type           C14           C15           C16  \\\n",
       "count      1.200000e+06  1.200000e+06  1.200000e+06  1.200000e+06   \n",
       "mean       3.307458e-01  1.884169e+04  3.188848e+02  6.014064e+01   \n",
       "std        8.541820e-01  4.959054e+03  2.131548e+01  4.735919e+01   \n",
       "min        0.000000e+00  3.750000e+02  1.200000e+02  2.000000e+01   \n",
       "25%        0.000000e+00  1.692000e+04  3.200000e+02  5.000000e+01   \n",
       "50%        0.000000e+00  2.034600e+04  3.200000e+02  5.000000e+01   \n",
       "75%        0.000000e+00  2.189400e+04  3.200000e+02  5.000000e+01   \n",
       "max        5.000000e+00  2.405200e+04  1.024000e+03  1.024000e+03   \n",
       "\n",
       "                C17           C18           C19           C20           C21  \n",
       "count  1.200000e+06  1.200000e+06  1.200000e+06  1.200000e+06  1.200000e+06  \n",
       "mean   2.112600e+03  1.432992e+00  2.271950e+02  5.313234e+04  8.343064e+01  \n",
       "std    6.094253e+02  1.326169e+00  3.512091e+02  4.996209e+04  7.034052e+01  \n",
       "min    1.120000e+02  0.000000e+00  3.300000e+01 -1.000000e+00  1.000000e+00  \n",
       "25%    1.863000e+03  0.000000e+00  3.500000e+01 -1.000000e+00  2.300000e+01  \n",
       "50%    2.323000e+03  2.000000e+00  3.900000e+01  1.000460e+05  6.100000e+01  \n",
       "75%    2.526000e+03  3.000000e+00  1.710000e+02  1.000870e+05  1.010000e+02  \n",
       "max    2.758000e+03  3.000000e+00  1.839000e+03  1.002480e+05  2.550000e+02  "
      ]
     },
     "execution_count": 7,
     "metadata": {},
     "output_type": "execute_result"
    }
   ],
   "source": [
    "df.describe()"
   ]
  },
  {
   "cell_type": "code",
   "execution_count": 8,
   "metadata": {},
   "outputs": [
    {
     "data": {
      "text/plain": [
       "id                  0\n",
       "click               0\n",
       "hour                0\n",
       "C1                  0\n",
       "banner_pos          0\n",
       "site_id             0\n",
       "site_domain         0\n",
       "site_category       0\n",
       "app_id              0\n",
       "app_domain          0\n",
       "app_category        0\n",
       "device_id           0\n",
       "device_ip           0\n",
       "device_model        0\n",
       "device_type         0\n",
       "device_conn_type    0\n",
       "C14                 0\n",
       "C15                 0\n",
       "C16                 0\n",
       "C17                 0\n",
       "C18                 0\n",
       "C19                 0\n",
       "C20                 0\n",
       "C21                 0\n",
       "dtype: int64"
      ]
     },
     "execution_count": 8,
     "metadata": {},
     "output_type": "execute_result"
    }
   ],
   "source": [
    "df.isnull().sum()"
   ]
  },
  {
   "cell_type": "code",
   "execution_count": 9,
   "metadata": {},
   "outputs": [
    {
     "name": "stdout",
     "output_type": "stream",
     "text": [
      "0    995586\n",
      "1    204414\n",
      "Name: click, dtype: int64\n"
     ]
    },
    {
     "data": {
      "image/png": "[encoded data removed]",
      "text/plain": [
       "<Figure size 432x288 with 1 Axes>"
      ]
     },
     "metadata": {
      "needs_background": "light"
     },
     "output_type": "display_data"
    }
   ],
   "source": [
    "import seaborn as sns\n",
    "\n",
    "print(df['click'].value_counts())\n",
    "\n",
    "sns.countplot(x='click',data=df)\n",
    "\n",
    "plt.title('click rate')\n",
    "plt.show()"
   ]
  },
  {
   "cell_type": "code",
   "execution_count": 10,
   "metadata": {},
   "outputs": [
    {
     "data": {
      "text/plain": [
       "Text(0.5, 1.0, 'click_num and time')"
      ]
     },
     "execution_count": 10,
     "metadata": {},
     "output_type": "execute_result"
    },
    {
     "data": {
      "image/png": "[encoded data removed]",
      "text/plain": [
       "<Figure size 864x576 with 1 Axes>"
      ]
     },
     "metadata": {
      "needs_background": "light"
     },
     "output_type": "display_data"
    }
   ],
   "source": [
    "df.hour.describe()\n",
    "\n",
    "df.groupby('hour').agg({'click':'sum'}).plot(figsize=(12,8))\n",
    "\n",
    "plt.ylabel('click_num')\n",
    "plt.title('click_num and time')"
   ]
  },
  {
   "cell_type": "markdown",
   "metadata": {},
   "source": [
    "## Features Engineering"
   ]
  },
  {
   "cell_type": "code",
   "execution_count": 11,
   "metadata": {},
   "outputs": [
    {
     "data": {
      "text/html": [
       "<div>\n",
       "<style scoped>\n",
       "    .dataframe tbody tr th:only-of-type {\n",
       "        vertical-align: middle;\n",
       "    }\n",
       "\n",
       "    .dataframe tbody tr th {\n",
       "        vertical-align: top;\n",
       "    }\n",
       "\n",
       "    .dataframe thead th {\n",
       "        text-align: right;\n",
       "    }\n",
       "</style>\n",
       "<table border=\"1\" class=\"dataframe\">\n",
       "  <thead>\n",
       "    <tr style=\"text-align: right;\">\n",
       "      <th></th>\n",
       "      <th>id</th>\n",
       "      <th>click</th>\n",
       "      <th>hour</th>\n",
       "      <th>C1</th>\n",
       "      <th>banner_pos</th>\n",
       "      <th>site_id</th>\n",
       "      <th>site_domain</th>\n",
       "      <th>site_category</th>\n",
       "      <th>app_id</th>\n",
       "      <th>app_domain</th>\n",
       "      <th>...</th>\n",
       "      <th>device_conn_type</th>\n",
       "      <th>C14</th>\n",
       "      <th>C15</th>\n",
       "      <th>C16</th>\n",
       "      <th>C17</th>\n",
       "      <th>C18</th>\n",
       "      <th>C19</th>\n",
       "      <th>C20</th>\n",
       "      <th>C21</th>\n",
       "      <th>time</th>\n",
       "    </tr>\n",
       "  </thead>\n",
       "  <tbody>\n",
       "    <tr>\n",
       "      <th>396291</th>\n",
       "      <td>582677007</td>\n",
       "      <td>0</td>\n",
       "      <td>2014-10-24 00:00:00</td>\n",
       "      <td>1002</td>\n",
       "      <td>0</td>\n",
       "      <td>a187a464</td>\n",
       "      <td>b53723be</td>\n",
       "      <td>50e219e0</td>\n",
       "      <td>ecad2386</td>\n",
       "      <td>7801e8d9</td>\n",
       "      <td>...</td>\n",
       "      <td>0</td>\n",
       "      <td>21789</td>\n",
       "      <td>320</td>\n",
       "      <td>50</td>\n",
       "      <td>2512</td>\n",
       "      <td>2</td>\n",
       "      <td>303</td>\n",
       "      <td>-1</td>\n",
       "      <td>52</td>\n",
       "      <td>0</td>\n",
       "    </tr>\n",
       "    <tr>\n",
       "      <th>1143727</th>\n",
       "      <td>686134269</td>\n",
       "      <td>0</td>\n",
       "      <td>2014-10-30 12:00:00</td>\n",
       "      <td>1005</td>\n",
       "      <td>0</td>\n",
       "      <td>4e7614cf</td>\n",
       "      <td>c1aa3c04</td>\n",
       "      <td>f028772b</td>\n",
       "      <td>ecad2386</td>\n",
       "      <td>7801e8d9</td>\n",
       "      <td>...</td>\n",
       "      <td>0</td>\n",
       "      <td>23990</td>\n",
       "      <td>320</td>\n",
       "      <td>50</td>\n",
       "      <td>2747</td>\n",
       "      <td>0</td>\n",
       "      <td>35</td>\n",
       "      <td>100076</td>\n",
       "      <td>76</td>\n",
       "      <td>12</td>\n",
       "    </tr>\n",
       "    <tr>\n",
       "      <th>267445</th>\n",
       "      <td>-1071594879</td>\n",
       "      <td>0</td>\n",
       "      <td>2014-10-22 20:00:00</td>\n",
       "      <td>1005</td>\n",
       "      <td>1</td>\n",
       "      <td>a7853007</td>\n",
       "      <td>7e091613</td>\n",
       "      <td>f028772b</td>\n",
       "      <td>ecad2386</td>\n",
       "      <td>7801e8d9</td>\n",
       "      <td>...</td>\n",
       "      <td>0</td>\n",
       "      <td>9478</td>\n",
       "      <td>320</td>\n",
       "      <td>50</td>\n",
       "      <td>906</td>\n",
       "      <td>3</td>\n",
       "      <td>1451</td>\n",
       "      <td>100156</td>\n",
       "      <td>61</td>\n",
       "      <td>20</td>\n",
       "    </tr>\n",
       "    <tr>\n",
       "      <th>1199479</th>\n",
       "      <td>-349287938</td>\n",
       "      <td>0</td>\n",
       "      <td>2014-10-30 23:00:00</td>\n",
       "      <td>1005</td>\n",
       "      <td>0</td>\n",
       "      <td>85f751fd</td>\n",
       "      <td>c4e18dd6</td>\n",
       "      <td>50e219e0</td>\n",
       "      <td>98fed791</td>\n",
       "      <td>d9b5648e</td>\n",
       "      <td>...</td>\n",
       "      <td>0</td>\n",
       "      <td>19743</td>\n",
       "      <td>320</td>\n",
       "      <td>50</td>\n",
       "      <td>2264</td>\n",
       "      <td>3</td>\n",
       "      <td>425</td>\n",
       "      <td>100000</td>\n",
       "      <td>61</td>\n",
       "      <td>23</td>\n",
       "    </tr>\n",
       "    <tr>\n",
       "      <th>924724</th>\n",
       "      <td>-1853978925</td>\n",
       "      <td>0</td>\n",
       "      <td>2014-10-28 17:00:00</td>\n",
       "      <td>1005</td>\n",
       "      <td>0</td>\n",
       "      <td>6c5b482c</td>\n",
       "      <td>7687a86e</td>\n",
       "      <td>3e814130</td>\n",
       "      <td>ecad2386</td>\n",
       "      <td>7801e8d9</td>\n",
       "      <td>...</td>\n",
       "      <td>0</td>\n",
       "      <td>17654</td>\n",
       "      <td>300</td>\n",
       "      <td>250</td>\n",
       "      <td>1994</td>\n",
       "      <td>2</td>\n",
       "      <td>39</td>\n",
       "      <td>-1</td>\n",
       "      <td>33</td>\n",
       "      <td>17</td>\n",
       "    </tr>\n",
       "    <tr>\n",
       "      <th>1191338</th>\n",
       "      <td>-1468880556</td>\n",
       "      <td>0</td>\n",
       "      <td>2014-10-30 21:00:00</td>\n",
       "      <td>1005</td>\n",
       "      <td>1</td>\n",
       "      <td>d9750ee7</td>\n",
       "      <td>98572c79</td>\n",
       "      <td>f028772b</td>\n",
       "      <td>ecad2386</td>\n",
       "      <td>7801e8d9</td>\n",
       "      <td>...</td>\n",
       "      <td>0</td>\n",
       "      <td>6393</td>\n",
       "      <td>320</td>\n",
       "      <td>50</td>\n",
       "      <td>547</td>\n",
       "      <td>3</td>\n",
       "      <td>47</td>\n",
       "      <td>-1</td>\n",
       "      <td>23</td>\n",
       "      <td>21</td>\n",
       "    </tr>\n",
       "    <tr>\n",
       "      <th>46024</th>\n",
       "      <td>2128228734</td>\n",
       "      <td>0</td>\n",
       "      <td>2014-10-21 07:00:00</td>\n",
       "      <td>1005</td>\n",
       "      <td>0</td>\n",
       "      <td>1fbe01fe</td>\n",
       "      <td>f3845767</td>\n",
       "      <td>28905ebd</td>\n",
       "      <td>ecad2386</td>\n",
       "      <td>7801e8d9</td>\n",
       "      <td>...</td>\n",
       "      <td>0</td>\n",
       "      <td>15707</td>\n",
       "      <td>320</td>\n",
       "      <td>50</td>\n",
       "      <td>1722</td>\n",
       "      <td>0</td>\n",
       "      <td>35</td>\n",
       "      <td>-1</td>\n",
       "      <td>79</td>\n",
       "      <td>7</td>\n",
       "    </tr>\n",
       "    <tr>\n",
       "      <th>337412</th>\n",
       "      <td>1681506377</td>\n",
       "      <td>0</td>\n",
       "      <td>2014-10-23 11:00:00</td>\n",
       "      <td>1005</td>\n",
       "      <td>0</td>\n",
       "      <td>85f751fd</td>\n",
       "      <td>c4e18dd6</td>\n",
       "      <td>50e219e0</td>\n",
       "      <td>2d925c20</td>\n",
       "      <td>d9b5648e</td>\n",
       "      <td>...</td>\n",
       "      <td>0</td>\n",
       "      <td>18648</td>\n",
       "      <td>320</td>\n",
       "      <td>50</td>\n",
       "      <td>1092</td>\n",
       "      <td>3</td>\n",
       "      <td>811</td>\n",
       "      <td>100156</td>\n",
       "      <td>61</td>\n",
       "      <td>11</td>\n",
       "    </tr>\n",
       "    <tr>\n",
       "      <th>1110480</th>\n",
       "      <td>1165363612</td>\n",
       "      <td>0</td>\n",
       "      <td>2014-10-30 07:00:00</td>\n",
       "      <td>1005</td>\n",
       "      <td>0</td>\n",
       "      <td>6256f5b4</td>\n",
       "      <td>28f93029</td>\n",
       "      <td>f028772b</td>\n",
       "      <td>ecad2386</td>\n",
       "      <td>7801e8d9</td>\n",
       "      <td>...</td>\n",
       "      <td>0</td>\n",
       "      <td>6563</td>\n",
       "      <td>320</td>\n",
       "      <td>50</td>\n",
       "      <td>572</td>\n",
       "      <td>2</td>\n",
       "      <td>39</td>\n",
       "      <td>-1</td>\n",
       "      <td>32</td>\n",
       "      <td>7</td>\n",
       "    </tr>\n",
       "    <tr>\n",
       "      <th>428403</th>\n",
       "      <td>939128403</td>\n",
       "      <td>0</td>\n",
       "      <td>2014-10-24 08:00:00</td>\n",
       "      <td>1005</td>\n",
       "      <td>0</td>\n",
       "      <td>1fbe01fe</td>\n",
       "      <td>f3845767</td>\n",
       "      <td>28905ebd</td>\n",
       "      <td>ecad2386</td>\n",
       "      <td>7801e8d9</td>\n",
       "      <td>...</td>\n",
       "      <td>0</td>\n",
       "      <td>22259</td>\n",
       "      <td>320</td>\n",
       "      <td>50</td>\n",
       "      <td>2545</td>\n",
       "      <td>0</td>\n",
       "      <td>39</td>\n",
       "      <td>100083</td>\n",
       "      <td>221</td>\n",
       "      <td>8</td>\n",
       "    </tr>\n",
       "  </tbody>\n",
       "</table>\n",
       "<p>10 rows × 25 columns</p>\n",
       "</div>"
      ],
      "text/plain": [
       "                 id  click                hour    C1  banner_pos   site_id  \\\n",
       "396291    582677007      0 2014-10-24 00:00:00  1002           0  a187a464   \n",
       "1143727   686134269      0 2014-10-30 12:00:00  1005           0  4e7614cf   \n",
       "267445  -1071594879      0 2014-10-22 20:00:00  1005           1  a7853007   \n",
       "1199479  -349287938      0 2014-10-30 23:00:00  1005           0  85f751fd   \n",
       "924724  -1853978925      0 2014-10-28 17:00:00  1005           0  6c5b482c   \n",
       "1191338 -1468880556      0 2014-10-30 21:00:00  1005           1  d9750ee7   \n",
       "46024    2128228734      0 2014-10-21 07:00:00  1005           0  1fbe01fe   \n",
       "337412   1681506377      0 2014-10-23 11:00:00  1005           0  85f751fd   \n",
       "1110480  1165363612      0 2014-10-30 07:00:00  1005           0  6256f5b4   \n",
       "428403    939128403      0 2014-10-24 08:00:00  1005           0  1fbe01fe   \n",
       "\n",
       "        site_domain site_category    app_id app_domain  ... device_conn_type  \\\n",
       "396291     b53723be      50e219e0  ecad2386   7801e8d9  ...                0   \n",
       "1143727    c1aa3c04      f028772b  ecad2386   7801e8d9  ...                0   \n",
       "267445     7e091613      f028772b  ecad2386   7801e8d9  ...                0   \n",
       "1199479    c4e18dd6      50e219e0  98fed791   d9b5648e  ...                0   \n",
       "924724     7687a86e      3e814130  ecad2386   7801e8d9  ...                0   \n",
       "1191338    98572c79      f028772b  ecad2386   7801e8d9  ...                0   \n",
       "46024      f3845767      28905ebd  ecad2386   7801e8d9  ...                0   \n",
       "337412     c4e18dd6      50e219e0  2d925c20   d9b5648e  ...                0   \n",
       "1110480    28f93029      f028772b  ecad2386   7801e8d9  ...                0   \n",
       "428403     f3845767      28905ebd  ecad2386   7801e8d9  ...                0   \n",
       "\n",
       "           C14  C15  C16   C17  C18   C19     C20  C21  time  \n",
       "396291   21789  320   50  2512    2   303      -1   52     0  \n",
       "1143727  23990  320   50  2747    0    35  100076   76    12  \n",
       "267445    9478  320   50   906    3  1451  100156   61    20  \n",
       "1199479  19743  320   50  2264    3   425  100000   61    23  \n",
       "924724   17654  300  250  1994    2    39      -1   33    17  \n",
       "1191338   6393  320   50   547    3    47      -1   23    21  \n",
       "46024    15707  320   50  1722    0    35      -1   79     7  \n",
       "337412   18648  320   50  1092    3   811  100156   61    11  \n",
       "1110480   6563  320   50   572    2    39      -1   32     7  \n",
       "428403   22259  320   50  2545    0    39  100083  221     8  \n",
       "\n",
       "[10 rows x 25 columns]"
      ]
     },
     "execution_count": 11,
     "metadata": {},
     "output_type": "execute_result"
    }
   ],
   "source": [
    "df['time'] = df.hour.apply(lambda x : x.hour)\n",
    "df.sample(10)"
   ]
  },
  {
   "cell_type": "code",
   "execution_count": 12,
   "metadata": {},
   "outputs": [
    {
     "data": {
      "text/plain": [
       "Text(0, 0.5, 'click_num')"
      ]
     },
     "execution_count": 12,
     "metadata": {},
     "output_type": "execute_result"
    },
    {
     "data": {
      "image/png": "[encoded data removed]",
      "text/plain": [
       "<Figure size 864x576 with 1 Axes>"
      ]
     },
     "metadata": {
      "needs_background": "light"
     },
     "output_type": "display_data"
    }
   ],
   "source": [
    "df.groupby('time').agg({'click':'sum'}).plot(figsize=(12,8))\n",
    "\n",
    "plt.title('time and click_num')\n",
    "plt.ylabel('click_num')"
   ]
  },
  {
   "cell_type": "code",
   "execution_count": 13,
   "metadata": {},
   "outputs": [
    {
     "data": {
      "text/plain": [
       "Text(0.5, 1.0, 'Impression and click')"
      ]
     },
     "execution_count": 13,
     "metadata": {},
     "output_type": "execute_result"
    },
    {
     "data": {
      "image/png": "[encoded data removed]",
      "text/plain": [
       "<Figure size 864x576 with 1 Axes>"
      ]
     },
     "metadata": {
      "needs_background": "light"
     },
     "output_type": "display_data"
    }
   ],
   "source": [
    "df.groupby(['time','click']).size().unstack().plot(kind='bar',figsize=(12,8))\n",
    "plt.ylabel('click of num')\n",
    "plt.title('Impression and click')"
   ]
  },
  {
   "cell_type": "code",
   "execution_count": 14,
   "metadata": {},
   "outputs": [
    {
     "data": {
      "text/html": [
       "<div>\n",
       "<style scoped>\n",
       "    .dataframe tbody tr th:only-of-type {\n",
       "        vertical-align: middle;\n",
       "    }\n",
       "\n",
       "    .dataframe tbody tr th {\n",
       "        vertical-align: top;\n",
       "    }\n",
       "\n",
       "    .dataframe thead th {\n",
       "        text-align: right;\n",
       "    }\n",
       "</style>\n",
       "<table border=\"1\" class=\"dataframe\">\n",
       "  <thead>\n",
       "    <tr style=\"text-align: right;\">\n",
       "      <th></th>\n",
       "      <th>time</th>\n",
       "      <th>impression</th>\n",
       "      <th>click</th>\n",
       "      <th>ctr</th>\n",
       "    </tr>\n",
       "  </thead>\n",
       "  <tbody>\n",
       "    <tr>\n",
       "      <th>0</th>\n",
       "      <td>0</td>\n",
       "      <td>25533</td>\n",
       "      <td>4731</td>\n",
       "      <td>18.528963</td>\n",
       "    </tr>\n",
       "    <tr>\n",
       "      <th>1</th>\n",
       "      <td>1</td>\n",
       "      <td>29492</td>\n",
       "      <td>5604</td>\n",
       "      <td>19.001763</td>\n",
       "    </tr>\n",
       "    <tr>\n",
       "      <th>2</th>\n",
       "      <td>2</td>\n",
       "      <td>36372</td>\n",
       "      <td>6400</td>\n",
       "      <td>17.595953</td>\n",
       "    </tr>\n",
       "    <tr>\n",
       "      <th>3</th>\n",
       "      <td>3</td>\n",
       "      <td>41545</td>\n",
       "      <td>7080</td>\n",
       "      <td>17.041762</td>\n",
       "    </tr>\n",
       "    <tr>\n",
       "      <th>4</th>\n",
       "      <td>4</td>\n",
       "      <td>56883</td>\n",
       "      <td>9237</td>\n",
       "      <td>16.238595</td>\n",
       "    </tr>\n",
       "  </tbody>\n",
       "</table>\n",
       "</div>"
      ],
      "text/plain": [
       "   time  impression  click        ctr\n",
       "0     0       25533   4731  18.528963\n",
       "1     1       29492   5604  19.001763\n",
       "2     2       36372   6400  17.595953\n",
       "3     3       41545   7080  17.041762\n",
       "4     4       56883   9237  16.238595"
      ]
     },
     "execution_count": 14,
     "metadata": {},
     "output_type": "execute_result"
    }
   ],
   "source": [
    "df_click_1 = df[df['click'] == 1]\n",
    "df_hour = df[['time','click']].groupby(['time']).count().reset_index()\n",
    "df_hour = df_hour.rename(columns={'click':'impression'})\n",
    "df_hour['click'] = df_click_1[['time','click']].groupby(['time']).count().reset_index()['click']\n",
    "df_hour['ctr'] = df_hour['click'] / df_hour['impression'] * 100\n",
    "\n",
    "df_hour.head()"
   ]
  },
  {
   "cell_type": "code",
   "execution_count": 15,
   "metadata": {},
   "outputs": [
    {
     "data": {
      "text/plain": [
       "Text(0.5, 1.0, 'ctr and time')"
      ]
     },
     "execution_count": 15,
     "metadata": {},
     "output_type": "execute_result"
    },
    {
     "data": {
      "image/png": "[encoded data removed]",
      "text/plain": [
       "<Figure size 432x288 with 1 Axes>"
      ]
     },
     "metadata": {
      "needs_background": "light"
     },
     "output_type": "display_data"
    }
   ],
   "source": [
    "sns.barplot(y='ctr',x='time',data=df_hour)\n",
    "plt.title('ctr and time')"
   ]
  },
  {
   "cell_type": "code",
   "execution_count": 16,
   "metadata": {},
   "outputs": [
    {
     "data": {
      "text/plain": [
       "Text(0, 0.5, 'click of num')"
      ]
     },
     "execution_count": 16,
     "metadata": {},
     "output_type": "execute_result"
    },
    {
     "data": {
      "image/png": "[encoded data removed]",
      "text/plain": [
       "<Figure size 864x576 with 1 Axes>"
      ]
     },
     "metadata": {
      "needs_background": "light"
     },
     "output_type": "display_data"
    }
   ],
   "source": [
    "df['day_of_week'] = df.hour.apply(lambda x : x.weekday())\n",
    "df['day_of_week'] = df['day_of_week'] + 1\n",
    "df.groupby('day_of_week').agg({'click':'sum'}).plot(figsize=(12,8))\n",
    "plt.title('week of click')\n",
    "plt.ylabel('click of num')"
   ]
  },
  {
   "cell_type": "code",
   "execution_count": 17,
   "metadata": {},
   "outputs": [
    {
     "data": {
      "text/plain": [
       "Text(0.5, 1.0, 'Impression and click')"
      ]
     },
     "execution_count": 17,
     "metadata": {},
     "output_type": "execute_result"
    },
    {
     "data": {
      "image/png": "[encoded data removed]",
      "text/plain": [
       "<Figure size 864x576 with 1 Axes>"
      ]
     },
     "metadata": {
      "needs_background": "light"
     },
     "output_type": "display_data"
    }
   ],
   "source": [
    "df.groupby(['day_of_week','click']).size().unstack().plot(kind='bar',figsize=(12,8))\n",
    "plt.ylabel('click of num')\n",
    "plt.title('Impression and click')"
   ]
  },
  {
   "cell_type": "code",
   "execution_count": 18,
   "metadata": {},
   "outputs": [
    {
     "data": {
      "text/plain": [
       "Text(0.5, 1.0, 'week of ctr')"
      ]
     },
     "execution_count": 18,
     "metadata": {},
     "output_type": "execute_result"
    },
    {
     "data": {
      "image/png": "[encoded data removed]",
      "text/plain": [
       "<Figure size 432x288 with 1 Axes>"
      ]
     },
     "metadata": {
      "needs_background": "light"
     },
     "output_type": "display_data"
    }
   ],
   "source": [
    "df_click_1 = df[df['click'] == 1]\n",
    "df_dayweek = df[['day_of_week','click']].groupby('day_of_week').count().reset_index()\n",
    "df_dayweek = df_dayweek.rename(columns={'click':'impression'})\n",
    "df_dayweek['click'] = df_click_1[['day_of_week','click']].groupby('day_of_week').count().reset_index()['click']\n",
    "df_dayweek['ctr'] = df_dayweek['click'] / df_dayweek['impression']*100\n",
    "sns.barplot(x='day_of_week',y='ctr',data=df_dayweek)\n",
    "plt.title('week of ctr')"
   ]
  },
  {
   "cell_type": "code",
   "execution_count": 19,
   "metadata": {},
   "outputs": [
    {
     "data": {
      "text/plain": [
       "1005    0.918578\n",
       "1002    0.055067\n",
       "1010    0.022375\n",
       "1012    0.002753\n",
       "1007    0.000858\n",
       "1001    0.000236\n",
       "1008    0.000132\n",
       "Name: C1, dtype: float64"
      ]
     },
     "execution_count": 19,
     "metadata": {},
     "output_type": "execute_result"
    }
   ],
   "source": [
    "df.C1.value_counts() / len(df)"
   ]
  },
  {
   "cell_type": "code",
   "execution_count": 20,
   "metadata": {},
   "outputs": [
    {
     "name": "stdout",
     "output_type": "stream",
     "text": [
      "C1 values:1001,click_rate:0.03180212014134275\n",
      "C1 values:1002,click_rate:0.21037817224315614\n",
      "C1 values:1005,click_rate:0.16989841185745364\n",
      "C1 values:1007,click_rate:0.04466019417475728\n",
      "C1 values:1008,click_rate:0.11392405063291139\n",
      "C1 values:1010,click_rate:0.09683426443202979\n",
      "C1 values:1012,click_rate:0.16979418886198547\n"
     ]
    }
   ],
   "source": [
    "c1_values = df.C1.unique()\n",
    "c1_values.sort()\n",
    "ctr_list = []\n",
    "for j in c1_values:\n",
    "    ctr = df.loc[np.where((df.C1 == j))].click.mean()\n",
    "    ctr_list.append(ctr)\n",
    "    print('C1 values:{},click_rate:{}'.format(j,ctr))"
   ]
  },
  {
   "cell_type": "code",
   "execution_count": 21,
   "metadata": {},
   "outputs": [
    {
     "data": {
      "text/plain": [
       "Text(0, 0.5, 'click of num')"
      ]
     },
     "execution_count": 21,
     "metadata": {},
     "output_type": "execute_result"
    },
    {
     "data": {
      "image/png": "[encoded data removed]",
      "text/plain": [
       "<Figure size 864x576 with 1 Axes>"
      ]
     },
     "metadata": {
      "needs_background": "light"
     },
     "output_type": "display_data"
    }
   ],
   "source": [
    "df.groupby(['C1','click']).size().unstack().plot(kind='bar',figsize=(12,8))\n",
    "plt.title('C1 of click')\n",
    "plt.ylabel('click of num')"
   ]
  },
  {
   "cell_type": "code",
   "execution_count": 22,
   "metadata": {},
   "outputs": [
    {
     "data": {
      "text/plain": [
       "Text(0.5, 1.0, 'C1 of ctr')"
      ]
     },
     "execution_count": 22,
     "metadata": {},
     "output_type": "execute_result"
    },
    {
     "data": {
      "image/png": "[encoded data removed]",
      "text/plain": [
       "<Figure size 432x288 with 1 Axes>"
      ]
     },
     "metadata": {
      "needs_background": "light"
     },
     "output_type": "display_data"
    }
   ],
   "source": [
    "df_c1 = df[['C1','click']].groupby(['C1']).count().reset_index()\n",
    "df_c1 = df_c1.rename(columns={'click':'impression'})\n",
    "df_c1['click'] = df_click_1[['C1','click']].groupby('C1').count().reset_index()['click']\n",
    "df_c1['ctr'] = df_c1['click'] / df_c1['impression'] * 100\n",
    "sns.barplot(x='C1',y='ctr',data=df_c1)\n",
    "plt.title('C1 of ctr')"
   ]
  },
  {
   "cell_type": "code",
   "execution_count": 23,
   "metadata": {},
   "outputs": [
    {
     "data": {
      "text/plain": [
       "320     0.932600\n",
       "300     0.058002\n",
       "216     0.007322\n",
       "728     0.001828\n",
       "120     0.000084\n",
       "1024    0.000074\n",
       "480     0.000053\n",
       "768     0.000037\n",
       "Name: C15, dtype: float64"
      ]
     },
     "execution_count": 23,
     "metadata": {},
     "output_type": "execute_result"
    }
   ],
   "source": [
    "df.C15.value_counts() / len(df)"
   ]
  },
  {
   "cell_type": "code",
   "execution_count": 24,
   "metadata": {},
   "outputs": [
    {
     "name": "stdout",
     "output_type": "stream",
     "text": [
      "C15 values:120, click rate:0.009900990099009901\n",
      "C15 values:216, click rate:0.12315046665149101\n",
      "C15 values:300, click rate:0.35869658917847186\n",
      "C15 values:320, click rate:0.1592304667953392\n",
      "C15 values:480, click rate:0.265625\n",
      "C15 values:728, click rate:0.05241567912488605\n",
      "C15 values:768, click rate:0.4318181818181818\n",
      "C15 values:1024, click rate:0.1797752808988764\n"
     ]
    }
   ],
   "source": [
    "c15_value = df.C15.unique()\n",
    "c15_value.sort()\n",
    "\n",
    "ctr_list = []\n",
    "for k in c15_value:\n",
    "    ctr = df.loc[np.where((df.C15 == k))].click.mean()\n",
    "    ctr_list.append(ctr)\n",
    "    print('C15 values:{}, click rate:{}'.format(k,ctr))\n"
   ]
  },
  {
   "cell_type": "code",
   "execution_count": 25,
   "metadata": {},
   "outputs": [
    {
     "data": {
      "text/plain": [
       "Text(0.5, 1.0, 'c15 of click')"
      ]
     },
     "execution_count": 25,
     "metadata": {},
     "output_type": "execute_result"
    },
    {
     "data": {
      "image/png": "[encoded data removed]",
      "text/plain": [
       "<Figure size 864x576 with 1 Axes>"
      ]
     },
     "metadata": {
      "needs_background": "light"
     },
     "output_type": "display_data"
    }
   ],
   "source": [
    "df.groupby(['C15','click']).size().unstack().plot(kind='bar',figsize=(12,8))\n",
    "plt.ylabel('click of num')\n",
    "plt.title('c15 of click')"
   ]
  },
  {
   "cell_type": "code",
   "execution_count": 26,
   "metadata": {},
   "outputs": [
    {
     "data": {
      "text/plain": [
       "<AxesSubplot:xlabel='C15', ylabel='ctr'>"
      ]
     },
     "execution_count": 26,
     "metadata": {},
     "output_type": "execute_result"
    },
    {
     "data": {
      "image/png": "[encoded data removed]",
      "text/plain": [
       "<Figure size 432x288 with 1 Axes>"
      ]
     },
     "metadata": {
      "needs_background": "light"
     },
     "output_type": "display_data"
    }
   ],
   "source": [
    "df_c15 = df[['C15','click']].groupby('C15').count().reset_index()\n",
    "df_c15 = df_c15.rename(columns={'click':'impression'})\n",
    "df_c15['click'] = df_click_1[['C15','click']].groupby('C15').count().reset_index()['click']\n",
    "df_c15['ctr'] = df_c15['click'] / df_c15['impression'] * 100\n",
    "sns.barplot(x='C15',y='ctr',data=df_c15)"
   ]
  },
  {
   "cell_type": "code",
   "execution_count": 27,
   "metadata": {},
   "outputs": [
    {
     "data": {
      "text/plain": [
       "0    0.720002\n",
       "1    0.278281\n",
       "7    0.001059\n",
       "2    0.000302\n",
       "4    0.000172\n",
       "5    0.000132\n",
       "3    0.000053\n",
       "Name: banner_pos, dtype: float64"
      ]
     },
     "execution_count": 27,
     "metadata": {},
     "output_type": "execute_result"
    }
   ],
   "source": [
    "df.banner_pos.value_counts() / len(df)"
   ]
  },
  {
   "cell_type": "code",
   "execution_count": 28,
   "metadata": {},
   "outputs": [
    {
     "name": "stdout",
     "output_type": "stream",
     "text": [
      "banner_pos:0 , click:0.1649681771938292\n",
      "banner_pos:1 , click:0.18369932053051924\n",
      "banner_pos:2 , click:0.13259668508287292\n",
      "banner_pos:3 , click:0.20634920634920634\n",
      "banner_pos:4 , click:0.17475728155339806\n",
      "banner_pos:5 , click:0.11392405063291139\n",
      "banner_pos:7 , click:0.33202202989771834\n"
     ]
    }
   ],
   "source": [
    "banner_pos = df.banner_pos.unique()\n",
    "banner_pos.sort()\n",
    "ctr_list = []\n",
    "\n",
    "for i in banner_pos:\n",
    "    ctr = df.loc[np.where((df.banner_pos == i))].click.mean()\n",
    "    ctr_list.append(ctr)\n",
    "    print('banner_pos:{} , click:{}'.format(i,ctr))"
   ]
  },
  {
   "cell_type": "code",
   "execution_count": 29,
   "metadata": {},
   "outputs": [
    {
     "data": {
      "text/plain": [
       "Text(0, 0.5, 'click of num')"
      ]
     },
     "execution_count": 29,
     "metadata": {},
     "output_type": "execute_result"
    },
    {
     "data": {
      "image/png": "[encoded data removed]",
      "text/plain": [
       "<Figure size 864x576 with 1 Axes>"
      ]
     },
     "metadata": {
      "needs_background": "light"
     },
     "output_type": "display_data"
    }
   ],
   "source": [
    "df.groupby(['banner_pos','click']).size().unstack().plot(kind='bar',figsize=(12,8))\n",
    "plt.title('banner_pos of click')\n",
    "plt.ylabel('click of num')"
   ]
  },
  {
   "cell_type": "code",
   "execution_count": 30,
   "metadata": {},
   "outputs": [
    {
     "data": {
      "text/plain": [
       "Text(0.5, 1.0, 'banner_pos of ctr')"
      ]
     },
     "execution_count": 30,
     "metadata": {},
     "output_type": "execute_result"
    },
    {
     "data": {
      "image/png": "[encoded data removed]",
      "text/plain": [
       "<Figure size 432x288 with 1 Axes>"
      ]
     },
     "metadata": {
      "needs_background": "light"
     },
     "output_type": "display_data"
    }
   ],
   "source": [
    "df_banner = df[['banner_pos','click']].groupby(['banner_pos']).count().reset_index()\n",
    "df_banner = df_banner.rename(columns={'click':'impression'})\n",
    "df_banner['click'] = df_click_1[['banner_pos','click']].groupby(['banner_pos']).count().reset_index()['click']\n",
    "df_banner['ctr'] = df_banner['click'] / df_banner['impression'] * 100\n",
    "\n",
    "sort_banner = df_banner.sort_values(by='ctr',ascending=False)['banner_pos'].tolist()\n",
    "sns.barplot(x='banner_pos',y='ctr',data=df_banner,order=sort_banner)\n",
    "plt.title('banner_pos of ctr')"
   ]
  },
  {
   "cell_type": "code",
   "execution_count": 31,
   "metadata": {},
   "outputs": [
    {
     "data": {
      "text/plain": [
       "1    0.922556\n",
       "0    0.055067\n",
       "4    0.019187\n",
       "5    0.003187\n",
       "2    0.000002\n",
       "Name: device_type, dtype: float64"
      ]
     },
     "execution_count": 31,
     "metadata": {},
     "output_type": "execute_result"
    }
   ],
   "source": [
    "df.device_type.value_counts() / len(df)"
   ]
  },
  {
   "cell_type": "code",
   "execution_count": 32,
   "metadata": {},
   "outputs": [
    {
     "data": {
      "text/plain": [
       "Text(0.5, 1.0, 'device_type of click')"
      ]
     },
     "execution_count": 32,
     "metadata": {},
     "output_type": "execute_result"
    },
    {
     "data": {
      "image/png": "[encoded data removed]",
      "text/plain": [
       "<Figure size 864x576 with 1 Axes>"
      ]
     },
     "metadata": {
      "needs_background": "light"
     },
     "output_type": "display_data"
    }
   ],
   "source": [
    "df[['device_type','click']].groupby(['device_type','click']).size().unstack().plot(kind='bar',figsize=(12,8))\n",
    "plt.ylabel('click of num')\n",
    "plt.title('device_type of click')"
   ]
  },
  {
   "cell_type": "code",
   "execution_count": 33,
   "metadata": {},
   "outputs": [
    {
     "data": {
      "text/plain": [
       "Text(0.5, 1.0, 'device_type of click')"
      ]
     },
     "execution_count": 33,
     "metadata": {},
     "output_type": "execute_result"
    },
    {
     "data": {
      "image/png": "[encoded data removed]",
      "text/plain": [
       "<Figure size 864x576 with 1 Axes>"
      ]
     },
     "metadata": {
      "needs_background": "light"
     },
     "output_type": "display_data"
    }
   ],
   "source": [
    "df_click_1[df_click_1['device_type'] == 1].groupby(['time','click']).size().unstack().plot(kind='bar',figsize=(12,8))\n",
    "plt.ylabel('click of num')\n",
    "plt.title('device_type of click')"
   ]
  },
  {
   "cell_type": "code",
   "execution_count": 34,
   "metadata": {},
   "outputs": [
    {
     "data": {
      "text/html": [
       "<div>\n",
       "<style scoped>\n",
       "    .dataframe tbody tr th:only-of-type {\n",
       "        vertical-align: middle;\n",
       "    }\n",
       "\n",
       "    .dataframe tbody tr th {\n",
       "        vertical-align: top;\n",
       "    }\n",
       "\n",
       "    .dataframe thead th {\n",
       "        text-align: right;\n",
       "    }\n",
       "</style>\n",
       "<table border=\"1\" class=\"dataframe\">\n",
       "  <thead>\n",
       "    <tr style=\"text-align: right;\">\n",
       "      <th></th>\n",
       "      <th>device_type</th>\n",
       "      <th>click</th>\n",
       "      <th>impression</th>\n",
       "      <th>ctr</th>\n",
       "    </tr>\n",
       "  </thead>\n",
       "  <tbody>\n",
       "    <tr>\n",
       "      <th>0</th>\n",
       "      <td>0</td>\n",
       "      <td>13902</td>\n",
       "      <td>66081</td>\n",
       "      <td>21.037817</td>\n",
       "    </tr>\n",
       "    <tr>\n",
       "      <th>1</th>\n",
       "      <td>1</td>\n",
       "      <td>187912</td>\n",
       "      <td>1107067</td>\n",
       "      <td>16.973860</td>\n",
       "    </tr>\n",
       "    <tr>\n",
       "      <th>2</th>\n",
       "      <td>4</td>\n",
       "      <td>2234</td>\n",
       "      <td>23025</td>\n",
       "      <td>9.702497</td>\n",
       "    </tr>\n",
       "    <tr>\n",
       "      <th>3</th>\n",
       "      <td>5</td>\n",
       "      <td>366</td>\n",
       "      <td>3825</td>\n",
       "      <td>9.568627</td>\n",
       "    </tr>\n",
       "  </tbody>\n",
       "</table>\n",
       "</div>"
      ],
      "text/plain": [
       "   device_type   click  impression        ctr\n",
       "0            0   13902       66081  21.037817\n",
       "1            1  187912     1107067  16.973860\n",
       "2            4    2234       23025   9.702497\n",
       "3            5     366        3825   9.568627"
      ]
     },
     "execution_count": 34,
     "metadata": {},
     "output_type": "execute_result"
    }
   ],
   "source": [
    "device_click = df_click_1.groupby(['device_type']).agg({'click':'sum'}).reset_index()\n",
    "device_impression = df.groupby(['device_type']).agg({'click':'count'}).rename(columns={'click':'impression'}).reset_index()\n",
    "df_merge = pd.merge(left=device_click,right=device_impression,how='inner',on='device_type')\n",
    "df_merge['ctr'] = df_merge['click'] / df_merge['impression'] * 100\n",
    "df_merge"
   ]
  },
  {
   "cell_type": "code",
   "execution_count": 35,
   "metadata": {},
   "outputs": [
    {
     "data": {
      "text/plain": [
       "Text(0.5, 1.0, 'device_type of ctr')"
      ]
     },
     "execution_count": 35,
     "metadata": {},
     "output_type": "execute_result"
    },
    {
     "data": {
      "image/png": "[encoded data removed]",
      "text/plain": [
       "<Figure size 432x288 with 1 Axes>"
      ]
     },
     "metadata": {
      "needs_background": "light"
     },
     "output_type": "display_data"
    }
   ],
   "source": [
    "sns.barplot(x='device_type',y='ctr',data=df_merge)\n",
    "plt.title('device_type of ctr')"
   ]
  },
  {
   "cell_type": "markdown",
   "metadata": {},
   "source": [
    "## Build Model 1(LGB)"
   ]
  },
  {
   "cell_type": "code",
   "execution_count": 36,
   "metadata": {},
   "outputs": [
    {
     "data": {
      "text/html": [
       "<div>\n",
       "<style scoped>\n",
       "    .dataframe tbody tr th:only-of-type {\n",
       "        vertical-align: middle;\n",
       "    }\n",
       "\n",
       "    .dataframe tbody tr th {\n",
       "        vertical-align: top;\n",
       "    }\n",
       "\n",
       "    .dataframe thead th {\n",
       "        text-align: right;\n",
       "    }\n",
       "</style>\n",
       "<table border=\"1\" class=\"dataframe\">\n",
       "  <thead>\n",
       "    <tr style=\"text-align: right;\">\n",
       "      <th></th>\n",
       "      <th>id</th>\n",
       "      <th>click</th>\n",
       "      <th>hour</th>\n",
       "      <th>C1</th>\n",
       "      <th>banner_pos</th>\n",
       "      <th>site_id</th>\n",
       "      <th>site_domain</th>\n",
       "      <th>site_category</th>\n",
       "      <th>app_id</th>\n",
       "      <th>app_domain</th>\n",
       "      <th>...</th>\n",
       "      <th>C14</th>\n",
       "      <th>C15</th>\n",
       "      <th>C16</th>\n",
       "      <th>C17</th>\n",
       "      <th>C18</th>\n",
       "      <th>C19</th>\n",
       "      <th>C20</th>\n",
       "      <th>C21</th>\n",
       "      <th>time</th>\n",
       "      <th>day_of_week</th>\n",
       "    </tr>\n",
       "  </thead>\n",
       "  <tbody>\n",
       "    <tr>\n",
       "      <th>0</th>\n",
       "      <td>-1808458043</td>\n",
       "      <td>0</td>\n",
       "      <td>2014-10-21</td>\n",
       "      <td>1005</td>\n",
       "      <td>0</td>\n",
       "      <td>543a539e</td>\n",
       "      <td>c7ca3108</td>\n",
       "      <td>3e814130</td>\n",
       "      <td>ecad2386</td>\n",
       "      <td>7801e8d9</td>\n",
       "      <td>...</td>\n",
       "      <td>20352</td>\n",
       "      <td>320</td>\n",
       "      <td>50</td>\n",
       "      <td>2333</td>\n",
       "      <td>0</td>\n",
       "      <td>39</td>\n",
       "      <td>-1</td>\n",
       "      <td>157</td>\n",
       "      <td>0</td>\n",
       "      <td>2</td>\n",
       "    </tr>\n",
       "    <tr>\n",
       "      <th>1</th>\n",
       "      <td>1467854271</td>\n",
       "      <td>0</td>\n",
       "      <td>2014-10-21</td>\n",
       "      <td>1005</td>\n",
       "      <td>0</td>\n",
       "      <td>1fbe01fe</td>\n",
       "      <td>f3845767</td>\n",
       "      <td>28905ebd</td>\n",
       "      <td>ecad2386</td>\n",
       "      <td>7801e8d9</td>\n",
       "      <td>...</td>\n",
       "      <td>15699</td>\n",
       "      <td>320</td>\n",
       "      <td>50</td>\n",
       "      <td>1722</td>\n",
       "      <td>0</td>\n",
       "      <td>35</td>\n",
       "      <td>-1</td>\n",
       "      <td>79</td>\n",
       "      <td>0</td>\n",
       "      <td>2</td>\n",
       "    </tr>\n",
       "    <tr>\n",
       "      <th>2</th>\n",
       "      <td>39309467</td>\n",
       "      <td>0</td>\n",
       "      <td>2014-10-21</td>\n",
       "      <td>1005</td>\n",
       "      <td>0</td>\n",
       "      <td>1fbe01fe</td>\n",
       "      <td>f3845767</td>\n",
       "      <td>28905ebd</td>\n",
       "      <td>ecad2386</td>\n",
       "      <td>7801e8d9</td>\n",
       "      <td>...</td>\n",
       "      <td>15705</td>\n",
       "      <td>320</td>\n",
       "      <td>50</td>\n",
       "      <td>1722</td>\n",
       "      <td>0</td>\n",
       "      <td>35</td>\n",
       "      <td>100084</td>\n",
       "      <td>79</td>\n",
       "      <td>0</td>\n",
       "      <td>2</td>\n",
       "    </tr>\n",
       "    <tr>\n",
       "      <th>3</th>\n",
       "      <td>-1036648431</td>\n",
       "      <td>1</td>\n",
       "      <td>2014-10-21</td>\n",
       "      <td>1005</td>\n",
       "      <td>1</td>\n",
       "      <td>e151e245</td>\n",
       "      <td>7e091613</td>\n",
       "      <td>f028772b</td>\n",
       "      <td>ecad2386</td>\n",
       "      <td>7801e8d9</td>\n",
       "      <td>...</td>\n",
       "      <td>20362</td>\n",
       "      <td>320</td>\n",
       "      <td>50</td>\n",
       "      <td>2333</td>\n",
       "      <td>0</td>\n",
       "      <td>39</td>\n",
       "      <td>-1</td>\n",
       "      <td>157</td>\n",
       "      <td>0</td>\n",
       "      <td>2</td>\n",
       "    </tr>\n",
       "    <tr>\n",
       "      <th>4</th>\n",
       "      <td>1948241392</td>\n",
       "      <td>1</td>\n",
       "      <td>2014-10-21</td>\n",
       "      <td>1002</td>\n",
       "      <td>0</td>\n",
       "      <td>84c7ba46</td>\n",
       "      <td>c4e18dd6</td>\n",
       "      <td>50e219e0</td>\n",
       "      <td>ecad2386</td>\n",
       "      <td>7801e8d9</td>\n",
       "      <td>...</td>\n",
       "      <td>21300</td>\n",
       "      <td>320</td>\n",
       "      <td>50</td>\n",
       "      <td>2446</td>\n",
       "      <td>3</td>\n",
       "      <td>171</td>\n",
       "      <td>100228</td>\n",
       "      <td>156</td>\n",
       "      <td>0</td>\n",
       "      <td>2</td>\n",
       "    </tr>\n",
       "  </tbody>\n",
       "</table>\n",
       "<p>5 rows × 26 columns</p>\n",
       "</div>"
      ],
      "text/plain": [
       "           id  click       hour    C1  banner_pos   site_id site_domain  \\\n",
       "0 -1808458043      0 2014-10-21  1005           0  543a539e    c7ca3108   \n",
       "1  1467854271      0 2014-10-21  1005           0  1fbe01fe    f3845767   \n",
       "2    39309467      0 2014-10-21  1005           0  1fbe01fe    f3845767   \n",
       "3 -1036648431      1 2014-10-21  1005           1  e151e245    7e091613   \n",
       "4  1948241392      1 2014-10-21  1002           0  84c7ba46    c4e18dd6   \n",
       "\n",
       "  site_category    app_id app_domain  ...    C14  C15 C16   C17  C18  C19  \\\n",
       "0      3e814130  ecad2386   7801e8d9  ...  20352  320  50  2333    0   39   \n",
       "1      28905ebd  ecad2386   7801e8d9  ...  15699  320  50  1722    0   35   \n",
       "2      28905ebd  ecad2386   7801e8d9  ...  15705  320  50  1722    0   35   \n",
       "3      f028772b  ecad2386   7801e8d9  ...  20362  320  50  2333    0   39   \n",
       "4      50e219e0  ecad2386   7801e8d9  ...  21300  320  50  2446    3  171   \n",
       "\n",
       "      C20  C21  time  day_of_week  \n",
       "0      -1  157     0            2  \n",
       "1      -1   79     0            2  \n",
       "2  100084   79     0            2  \n",
       "3      -1  157     0            2  \n",
       "4  100228  156     0            2  \n",
       "\n",
       "[5 rows x 26 columns]"
      ]
     },
     "execution_count": 36,
     "metadata": {},
     "output_type": "execute_result"
    }
   ],
   "source": [
    "df.head()"
   ]
  },
  {
   "cell_type": "code",
   "execution_count": 37,
   "metadata": {},
   "outputs": [
    {
     "data": {
      "text/html": [
       "<div>\n",
       "<style scoped>\n",
       "    .dataframe tbody tr th:only-of-type {\n",
       "        vertical-align: middle;\n",
       "    }\n",
       "\n",
       "    .dataframe tbody tr th {\n",
       "        vertical-align: top;\n",
       "    }\n",
       "\n",
       "    .dataframe thead th {\n",
       "        text-align: right;\n",
       "    }\n",
       "</style>\n",
       "<table border=\"1\" class=\"dataframe\">\n",
       "  <thead>\n",
       "    <tr style=\"text-align: right;\">\n",
       "      <th></th>\n",
       "      <th>id</th>\n",
       "      <th>click</th>\n",
       "      <th>hour</th>\n",
       "      <th>C1</th>\n",
       "      <th>banner_pos</th>\n",
       "      <th>device_type</th>\n",
       "      <th>device_conn_type</th>\n",
       "      <th>C14</th>\n",
       "      <th>C15</th>\n",
       "      <th>C16</th>\n",
       "      <th>...</th>\n",
       "      <th>day_of_week</th>\n",
       "      <th>site_id_int</th>\n",
       "      <th>site_domain_int</th>\n",
       "      <th>site_category_int</th>\n",
       "      <th>app_id_int</th>\n",
       "      <th>app_domain_int</th>\n",
       "      <th>app_category_int</th>\n",
       "      <th>device_id_int</th>\n",
       "      <th>device_ip_int</th>\n",
       "      <th>device_model_int</th>\n",
       "    </tr>\n",
       "  </thead>\n",
       "  <tbody>\n",
       "    <tr>\n",
       "      <th>0</th>\n",
       "      <td>-1808458043</td>\n",
       "      <td>0</td>\n",
       "      <td>2014-10-21</td>\n",
       "      <td>1005</td>\n",
       "      <td>0</td>\n",
       "      <td>1</td>\n",
       "      <td>0</td>\n",
       "      <td>20352</td>\n",
       "      <td>320</td>\n",
       "      <td>50</td>\n",
       "      <td>...</td>\n",
       "      <td>2</td>\n",
       "      <td>-6606017080401197447</td>\n",
       "      <td>8645162827110364172</td>\n",
       "      <td>7637456116182298739</td>\n",
       "      <td>-719213742880471738</td>\n",
       "      <td>2909065883530345092</td>\n",
       "      <td>985959180450664055</td>\n",
       "      <td>-359805342213849902</td>\n",
       "      <td>-2194077224786136589</td>\n",
       "      <td>5490736090241540507</td>\n",
       "    </tr>\n",
       "    <tr>\n",
       "      <th>1</th>\n",
       "      <td>1467854271</td>\n",
       "      <td>0</td>\n",
       "      <td>2014-10-21</td>\n",
       "      <td>1005</td>\n",
       "      <td>0</td>\n",
       "      <td>1</td>\n",
       "      <td>0</td>\n",
       "      <td>15699</td>\n",
       "      <td>320</td>\n",
       "      <td>50</td>\n",
       "      <td>...</td>\n",
       "      <td>2</td>\n",
       "      <td>2310678620001891426</td>\n",
       "      <td>-5299941486463766932</td>\n",
       "      <td>5981601736110382644</td>\n",
       "      <td>-719213742880471738</td>\n",
       "      <td>2909065883530345092</td>\n",
       "      <td>985959180450664055</td>\n",
       "      <td>-359805342213849902</td>\n",
       "      <td>2710969359384509029</td>\n",
       "      <td>6868720524459905352</td>\n",
       "    </tr>\n",
       "    <tr>\n",
       "      <th>2</th>\n",
       "      <td>39309467</td>\n",
       "      <td>0</td>\n",
       "      <td>2014-10-21</td>\n",
       "      <td>1005</td>\n",
       "      <td>0</td>\n",
       "      <td>1</td>\n",
       "      <td>0</td>\n",
       "      <td>15705</td>\n",
       "      <td>320</td>\n",
       "      <td>50</td>\n",
       "      <td>...</td>\n",
       "      <td>2</td>\n",
       "      <td>2310678620001891426</td>\n",
       "      <td>-5299941486463766932</td>\n",
       "      <td>5981601736110382644</td>\n",
       "      <td>-719213742880471738</td>\n",
       "      <td>2909065883530345092</td>\n",
       "      <td>985959180450664055</td>\n",
       "      <td>-359805342213849902</td>\n",
       "      <td>-2996366213556662264</td>\n",
       "      <td>6868720524459905352</td>\n",
       "    </tr>\n",
       "    <tr>\n",
       "      <th>3</th>\n",
       "      <td>-1036648431</td>\n",
       "      <td>1</td>\n",
       "      <td>2014-10-21</td>\n",
       "      <td>1005</td>\n",
       "      <td>1</td>\n",
       "      <td>1</td>\n",
       "      <td>0</td>\n",
       "      <td>20362</td>\n",
       "      <td>320</td>\n",
       "      <td>50</td>\n",
       "      <td>...</td>\n",
       "      <td>2</td>\n",
       "      <td>-4199591138609296733</td>\n",
       "      <td>1239613346522956733</td>\n",
       "      <td>5174727347899999544</td>\n",
       "      <td>-719213742880471738</td>\n",
       "      <td>2909065883530345092</td>\n",
       "      <td>985959180450664055</td>\n",
       "      <td>-359805342213849902</td>\n",
       "      <td>897534989095975519</td>\n",
       "      <td>6987774222338283026</td>\n",
       "    </tr>\n",
       "    <tr>\n",
       "      <th>4</th>\n",
       "      <td>1948241392</td>\n",
       "      <td>1</td>\n",
       "      <td>2014-10-21</td>\n",
       "      <td>1002</td>\n",
       "      <td>0</td>\n",
       "      <td>0</td>\n",
       "      <td>0</td>\n",
       "      <td>21300</td>\n",
       "      <td>320</td>\n",
       "      <td>50</td>\n",
       "      <td>...</td>\n",
       "      <td>2</td>\n",
       "      <td>6186954484963515309</td>\n",
       "      <td>-7585035939953316489</td>\n",
       "      <td>5523590078052332245</td>\n",
       "      <td>-719213742880471738</td>\n",
       "      <td>2909065883530345092</td>\n",
       "      <td>985959180450664055</td>\n",
       "      <td>6197211013177658036</td>\n",
       "      <td>7042658278597505178</td>\n",
       "      <td>-7474860607704807197</td>\n",
       "    </tr>\n",
       "  </tbody>\n",
       "</table>\n",
       "<p>5 rows × 26 columns</p>\n",
       "</div>"
      ],
      "text/plain": [
       "           id  click       hour    C1  banner_pos  device_type  \\\n",
       "0 -1808458043      0 2014-10-21  1005           0            1   \n",
       "1  1467854271      0 2014-10-21  1005           0            1   \n",
       "2    39309467      0 2014-10-21  1005           0            1   \n",
       "3 -1036648431      1 2014-10-21  1005           1            1   \n",
       "4  1948241392      1 2014-10-21  1002           0            0   \n",
       "\n",
       "   device_conn_type    C14  C15  C16  ...  day_of_week          site_id_int  \\\n",
       "0                 0  20352  320   50  ...            2 -6606017080401197447   \n",
       "1                 0  15699  320   50  ...            2  2310678620001891426   \n",
       "2                 0  15705  320   50  ...            2  2310678620001891426   \n",
       "3                 0  20362  320   50  ...            2 -4199591138609296733   \n",
       "4                 0  21300  320   50  ...            2  6186954484963515309   \n",
       "\n",
       "       site_domain_int    site_category_int          app_id_int  \\\n",
       "0  8645162827110364172  7637456116182298739 -719213742880471738   \n",
       "1 -5299941486463766932  5981601736110382644 -719213742880471738   \n",
       "2 -5299941486463766932  5981601736110382644 -719213742880471738   \n",
       "3  1239613346522956733  5174727347899999544 -719213742880471738   \n",
       "4 -7585035939953316489  5523590078052332245 -719213742880471738   \n",
       "\n",
       "        app_domain_int    app_category_int        device_id_int  \\\n",
       "0  2909065883530345092  985959180450664055  -359805342213849902   \n",
       "1  2909065883530345092  985959180450664055  -359805342213849902   \n",
       "2  2909065883530345092  985959180450664055  -359805342213849902   \n",
       "3  2909065883530345092  985959180450664055  -359805342213849902   \n",
       "4  2909065883530345092  985959180450664055  6197211013177658036   \n",
       "\n",
       "         device_ip_int     device_model_int  \n",
       "0 -2194077224786136589  5490736090241540507  \n",
       "1  2710969359384509029  6868720524459905352  \n",
       "2 -2996366213556662264  6868720524459905352  \n",
       "3   897534989095975519  6987774222338283026  \n",
       "4  7042658278597505178 -7474860607704807197  \n",
       "\n",
       "[5 rows x 26 columns]"
      ]
     },
     "execution_count": 37,
     "metadata": {},
     "output_type": "execute_result"
    }
   ],
   "source": [
    "obj_columns = df.columns\n",
    "obj_list_type = df.dtypes\n",
    "new_col = '_int'\n",
    "\n",
    "for i in range(0,len(obj_columns)):\n",
    "    if obj_list_type[i] == object:\n",
    "        df[obj_columns[i]+new_col] = df[obj_columns[i]].map(lambda a :hash(a))\n",
    "        df.drop([obj_columns[i]],axis=1,inplace=True)\n",
    "df.head()\n",
    "    "
   ]
  },
  {
   "cell_type": "code",
   "execution_count": 38,
   "metadata": {},
   "outputs": [],
   "source": [
    "df = df.drop(['hour'],axis=1)"
   ]
  },
  {
   "cell_type": "code",
   "execution_count": 43,
   "metadata": {},
   "outputs": [
    {
     "name": "stderr",
     "output_type": "stream",
     "text": [
      "C:\\Users\\David\\Anaconda3\\lib\\site-packages\\sklearn\\model_selection\\_validation.py:552: FitFailedWarning: Estimator fit failed. The score on this train-test partition for these parameters will be set to nan. Details: \n",
      "Traceback (most recent call last):\n",
      "  File \"C:\\Users\\David\\Anaconda3\\lib\\site-packages\\lightgbm\\engine.py\", line 228, in train\n",
      "    booster = Booster(params=params, train_set=train_set)\n",
      "  File \"C:\\Users\\David\\Anaconda3\\lib\\site-packages\\lightgbm\\basic.py\", line 1714, in __init__\n",
      "    train_set.construct().handle,\n",
      "  File \"C:\\Users\\David\\Anaconda3\\lib\\site-packages\\lightgbm\\basic.py\", line 1085, in construct\n",
      "    categorical_feature=self.categorical_feature, params=self.params)\n",
      "  File \"C:\\Users\\David\\Anaconda3\\lib\\site-packages\\lightgbm\\basic.py\", line 887, in _lazy_init\n",
      "    self.__init_from_np2d(data, params_str, ref_dataset)\n",
      "  File \"C:\\Users\\David\\Anaconda3\\lib\\site-packages\\lightgbm\\basic.py\", line 937, in __init_from_np2d\n",
      "    ctypes.byref(self.handle)))\n",
      "  File \"C:\\Users\\David\\Anaconda3\\lib\\site-packages\\lightgbm\\basic.py\", line 45, in _safe_call\n",
      "    raise LightGBMError(decode_string(_LIB.LGBM_GetLastError()))\n",
      "lightgbm.basic.LightGBMError: Check failed: bagging_fraction <=1.0 at D:\\a\\1\\s\\python-package\\compile\\src\\io\\config_auto.cpp, line 319 .\n",
      "\n",
      "\n",
      "During handling of the above exception, another exception occurred:\n",
      "\n",
      "Traceback (most recent call last):\n",
      "  File \"C:\\Users\\David\\Anaconda3\\lib\\site-packages\\sklearn\\model_selection\\_validation.py\", line 531, in _fit_and_score\n",
      "    estimator.fit(X_train, y_train, **fit_params)\n",
      "  File \"C:\\Users\\David\\Anaconda3\\lib\\site-packages\\lightgbm\\sklearn.py\", line 743, in fit\n",
      "    callbacks=callbacks)\n",
      "  File \"C:\\Users\\David\\Anaconda3\\lib\\site-packages\\lightgbm\\sklearn.py\", line 600, in fit\n",
      "    callbacks=callbacks)\n",
      "  File \"C:\\Users\\David\\Anaconda3\\lib\\site-packages\\lightgbm\\engine.py\", line 234, in train\n",
      "    train_set._reverse_update_params()\n",
      "  File \"C:\\Users\\David\\Anaconda3\\lib\\site-packages\\lightgbm\\basic.py\", line 1181, in _reverse_update_params\n",
      "    _safe_call(_LIB.LGBM_DatasetUpdateParam(self.handle, c_str(param_dict_to_str(self.params))))\n",
      "  File \"C:\\Users\\David\\Anaconda3\\lib\\site-packages\\lightgbm\\basic.py\", line 45, in _safe_call\n",
      "    raise LightGBMError(decode_string(_LIB.LGBM_GetLastError()))\n",
      "lightgbm.basic.LightGBMError: Check failed: bagging_fraction <=1.0 at D:\\a\\1\\s\\python-package\\compile\\src\\io\\config_auto.cpp, line 319 .\n",
      "\n",
      "\n",
      "  FitFailedWarning)\n"
     ]
    },
    {
     "data": {
      "text/plain": [
       "GridSearchCV(cv=2, estimator=LGBMRegressor(),\n",
       "             param_grid={'bagging_fraction': [1, 2, 3],\n",
       "                         'bagging_freq': [1, 2, 3],\n",
       "                         'feature_fraction': [0.5, 0.6, 0.7],\n",
       "                         'learning_rate': [0.1, 0.2, 0.3],\n",
       "                         'max_depth': [5, 10, 15]},\n",
       "             scoring='neg_mean_squared_error')"
      ]
     },
     "execution_count": 43,
     "metadata": {},
     "output_type": "execute_result"
    }
   ],
   "source": [
    "from sklearn.model_selection import train_test_split \n",
    "from sklearn.model_selection import GridSearchCV\n",
    "import lightgbm as lgb\n",
    "\n",
    "\n",
    "#df.drop(['hour'],axis=1,inplace=True)\n",
    "\n",
    "\n",
    "x = df.loc[:,df.columns != 'click']\n",
    "y = df.click.values\n",
    "\n",
    "x_train,x_test,y_train,y_test = train_test_split(x,y,test_size=0.2)\n",
    "\n",
    "lgb_t = lgb.Dataset(x_train,y_train)\n",
    "lgb_ev = lgb.Dataset(x_test,y_test)\n",
    "\n",
    "'''\n",
    "params = {\n",
    "    'task': 'train',\n",
    "    'boosting_type': 'gbdt',\n",
    "    'objective': 'binary',\n",
    "    'metric': { 'binary_logloss'},\n",
    "    'num_iterations':100,\n",
    "    'num_leaves': 31,\n",
    "    'max_depth': 10,\n",
    "    'learning_rate': 0.1,\n",
    "    'feature_fraction': 0.7,\n",
    "    'bagging_fraction': 1, \n",
    "    'bagging_freq': 3, \n",
    "    'verbose': 0\n",
    "}\n",
    "'''\n",
    "\n",
    "params = {'max_depth':[5,10,15],\n",
    "         'learning_rate':[0.1,0.2,0.3],\n",
    "         'feature_fraction':[0.5,0.6,0.7],\n",
    "         'bagging_fraction':[1,2,3],\n",
    "         'bagging_freq':[1,2,3]\n",
    "         #'lambda_l1':[0.1,0.3,0.5],\n",
    "         #'lambda_l2':[0,5,10] \n",
    "         }\n",
    "\n",
    "\n",
    "\n",
    "\n",
    "gbm = lgb.LGBMRegressor(boosting_type='gbdt',learning_rate=0.1)\n",
    " \n",
    "gr_gbm = GridSearchCV(gbm,param_grid=params,cv=2,scoring='neg_mean_squared_error')\n",
    "\n",
    "gr_gbm.fit(x_train,y_train)\n"
   ]
  },
  {
   "cell_type": "code",
   "execution_count": 44,
   "metadata": {},
   "outputs": [
    {
     "data": {
      "text/plain": [
       "{'bagging_fraction': 1,\n",
       " 'bagging_freq': 1,\n",
       " 'feature_fraction': 0.5,\n",
       " 'learning_rate': 0.3,\n",
       " 'max_depth': 15}"
      ]
     },
     "execution_count": 44,
     "metadata": {},
     "output_type": "execute_result"
    }
   ],
   "source": [
    "gr_gbm.best_params_"
   ]
  },
  {
   "cell_type": "code",
   "execution_count": 45,
   "metadata": {},
   "outputs": [
    {
     "name": "stdout",
     "output_type": "stream",
     "text": [
      "[0.04338183 0.08385629 0.36773234 ... 0.13318253 0.21671003 0.25129412]\n"
     ]
    }
   ],
   "source": [
    "pred = gr_gbm.predict(x_test)\n",
    "print(pred)\n"
   ]
  },
  {
   "cell_type": "code",
   "execution_count": 46,
   "metadata": {},
   "outputs": [
    {
     "name": "stdout",
     "output_type": "stream",
     "text": [
      "mse: 0.12609510455288048\n"
     ]
    }
   ],
   "source": [
    "from sklearn.metrics import mean_squared_error\n",
    "\n",
    "print('mse:',mean_squared_error(y_test,pred))"
   ]
  },
  {
   "cell_type": "code",
   "execution_count": null,
   "metadata": {},
   "outputs": [],
   "source": []
  },
  {
   "cell_type": "markdown",
   "metadata": {},
   "source": [
    "## Build Model 2(XGB)"
   ]
  },
  {
   "cell_type": "code",
   "execution_count": 47,
   "metadata": {},
   "outputs": [
    {
     "name": "stdout",
     "output_type": "stream",
     "text": [
      "[17:06:09] WARNING: C:\\Users\\Administrator\\workspace\\xgboost-win64_release_1.1.0\\src\\learner.cc:480: \n",
      "Parameters: { silent } might not be used.\n",
      "\n",
      "  This may not be accurate due to some parameters are only used in language bindings but\n",
      "  passed down to XGBoost core.  Or some parameters are not used but slip through this\n",
      "  verification. Please open an issue if you find above cases.\n",
      "\n",
      "\n",
      "[0]\teval-logloss:0.57208\ttrain-logloss:0.57239\n",
      "Multiple eval metrics have been passed: 'train-logloss' will be used for early stopping.\n",
      "\n",
      "Will train until train-logloss hasn't improved in 500 rounds.\n",
      "[1]\teval-logloss:0.50787\ttrain-logloss:0.50879\n",
      "[2]\teval-logloss:0.47112\ttrain-logloss:0.47234\n",
      "[3]\teval-logloss:0.44943\ttrain-logloss:0.45112\n",
      "[4]\teval-logloss:0.43620\ttrain-logloss:0.43809\n",
      "[5]\teval-logloss:0.42760\ttrain-logloss:0.42966\n",
      "[6]\teval-logloss:0.42280\ttrain-logloss:0.42503\n",
      "[7]\teval-logloss:0.41905\ttrain-logloss:0.42138\n",
      "[8]\teval-logloss:0.41660\ttrain-logloss:0.41905\n",
      "[9]\teval-logloss:0.41500\ttrain-logloss:0.41755\n",
      "[10]\teval-logloss:0.41394\ttrain-logloss:0.41657\n",
      "[11]\teval-logloss:0.41280\ttrain-logloss:0.41561\n",
      "[12]\teval-logloss:0.41163\ttrain-logloss:0.41459\n",
      "[13]\teval-logloss:0.41120\ttrain-logloss:0.41421\n",
      "[14]\teval-logloss:0.41082\ttrain-logloss:0.41395\n",
      "[15]\teval-logloss:0.41017\ttrain-logloss:0.41338\n",
      "[16]\teval-logloss:0.40988\ttrain-logloss:0.41310\n",
      "[17]\teval-logloss:0.40958\ttrain-logloss:0.41286\n",
      "[18]\teval-logloss:0.40888\ttrain-logloss:0.41231\n",
      "[19]\teval-logloss:0.40785\ttrain-logloss:0.41143\n",
      "[20]\teval-logloss:0.40720\ttrain-logloss:0.41081\n",
      "[21]\teval-logloss:0.40674\ttrain-logloss:0.41043\n",
      "[22]\teval-logloss:0.40629\ttrain-logloss:0.41004\n",
      "[23]\teval-logloss:0.40607\ttrain-logloss:0.40993\n",
      "[24]\teval-logloss:0.40590\ttrain-logloss:0.40980\n",
      "[25]\teval-logloss:0.40543\ttrain-logloss:0.40939\n",
      "[26]\teval-logloss:0.40505\ttrain-logloss:0.40909\n",
      "[27]\teval-logloss:0.40490\ttrain-logloss:0.40898\n",
      "[28]\teval-logloss:0.40457\ttrain-logloss:0.40869\n",
      "[29]\teval-logloss:0.40435\ttrain-logloss:0.40857\n",
      "[30]\teval-logloss:0.40403\ttrain-logloss:0.40832\n",
      "[31]\teval-logloss:0.40375\ttrain-logloss:0.40811\n",
      "[32]\teval-logloss:0.40354\ttrain-logloss:0.40803\n",
      "[33]\teval-logloss:0.40338\ttrain-logloss:0.40797\n",
      "[34]\teval-logloss:0.40322\ttrain-logloss:0.40789\n",
      "[35]\teval-logloss:0.40312\ttrain-logloss:0.40784\n",
      "[36]\teval-logloss:0.40290\ttrain-logloss:0.40766\n",
      "[37]\teval-logloss:0.40258\ttrain-logloss:0.40746\n",
      "[38]\teval-logloss:0.40251\ttrain-logloss:0.40743\n",
      "[39]\teval-logloss:0.40224\ttrain-logloss:0.40724\n",
      "[40]\teval-logloss:0.40207\ttrain-logloss:0.40711\n",
      "[41]\teval-logloss:0.40187\ttrain-logloss:0.40699\n",
      "[42]\teval-logloss:0.40172\ttrain-logloss:0.40690\n",
      "[43]\teval-logloss:0.40162\ttrain-logloss:0.40687\n",
      "[44]\teval-logloss:0.40120\ttrain-logloss:0.40648\n",
      "[45]\teval-logloss:0.40083\ttrain-logloss:0.40615\n",
      "[46]\teval-logloss:0.40070\ttrain-logloss:0.40607\n",
      "[47]\teval-logloss:0.40066\ttrain-logloss:0.40605\n",
      "[48]\teval-logloss:0.40058\ttrain-logloss:0.40602\n",
      "[49]\teval-logloss:0.40037\ttrain-logloss:0.40590\n",
      "[50]\teval-logloss:0.40032\ttrain-logloss:0.40588\n",
      "[51]\teval-logloss:0.40012\ttrain-logloss:0.40575\n",
      "[52]\teval-logloss:0.39987\ttrain-logloss:0.40556\n",
      "[53]\teval-logloss:0.39976\ttrain-logloss:0.40548\n",
      "[54]\teval-logloss:0.39963\ttrain-logloss:0.40542\n",
      "[55]\teval-logloss:0.39938\ttrain-logloss:0.40528\n",
      "[56]\teval-logloss:0.39932\ttrain-logloss:0.40527\n",
      "[57]\teval-logloss:0.39928\ttrain-logloss:0.40526\n",
      "[58]\teval-logloss:0.39924\ttrain-logloss:0.40524\n",
      "[59]\teval-logloss:0.39913\ttrain-logloss:0.40521\n",
      "[60]\teval-logloss:0.39900\ttrain-logloss:0.40517\n",
      "[61]\teval-logloss:0.39889\ttrain-logloss:0.40511\n",
      "[62]\teval-logloss:0.39877\ttrain-logloss:0.40503\n",
      "[63]\teval-logloss:0.39848\ttrain-logloss:0.40484\n",
      "[64]\teval-logloss:0.39824\ttrain-logloss:0.40467\n",
      "[65]\teval-logloss:0.39817\ttrain-logloss:0.40462\n",
      "[66]\teval-logloss:0.39801\ttrain-logloss:0.40456\n",
      "[67]\teval-logloss:0.39782\ttrain-logloss:0.40447\n",
      "[68]\teval-logloss:0.39776\ttrain-logloss:0.40443\n",
      "[69]\teval-logloss:0.39772\ttrain-logloss:0.40442\n",
      "[70]\teval-logloss:0.39766\ttrain-logloss:0.40441\n",
      "[71]\teval-logloss:0.39757\ttrain-logloss:0.40441\n",
      "[72]\teval-logloss:0.39746\ttrain-logloss:0.40437\n",
      "[73]\teval-logloss:0.39736\ttrain-logloss:0.40433\n",
      "[74]\teval-logloss:0.39728\ttrain-logloss:0.40431\n",
      "[75]\teval-logloss:0.39718\ttrain-logloss:0.40428\n",
      "[76]\teval-logloss:0.39711\ttrain-logloss:0.40428\n",
      "[77]\teval-logloss:0.39709\ttrain-logloss:0.40428\n",
      "[78]\teval-logloss:0.39699\ttrain-logloss:0.40425\n",
      "[79]\teval-logloss:0.39693\ttrain-logloss:0.40425\n",
      "[80]\teval-logloss:0.39690\ttrain-logloss:0.40424\n",
      "[81]\teval-logloss:0.39688\ttrain-logloss:0.40424\n",
      "[82]\teval-logloss:0.39682\ttrain-logloss:0.40420\n",
      "[83]\teval-logloss:0.39675\ttrain-logloss:0.40419\n",
      "[84]\teval-logloss:0.39667\ttrain-logloss:0.40414\n",
      "[85]\teval-logloss:0.39658\ttrain-logloss:0.40415\n",
      "[86]\teval-logloss:0.39633\ttrain-logloss:0.40397\n",
      "[87]\teval-logloss:0.39627\ttrain-logloss:0.40395\n",
      "[88]\teval-logloss:0.39614\ttrain-logloss:0.40392\n",
      "[89]\teval-logloss:0.39610\ttrain-logloss:0.40392\n",
      "[90]\teval-logloss:0.39592\ttrain-logloss:0.40386\n",
      "[91]\teval-logloss:0.39576\ttrain-logloss:0.40382\n",
      "[92]\teval-logloss:0.39566\ttrain-logloss:0.40378\n",
      "[93]\teval-logloss:0.39558\ttrain-logloss:0.40379\n",
      "[94]\teval-logloss:0.39555\ttrain-logloss:0.40377\n",
      "[95]\teval-logloss:0.39549\ttrain-logloss:0.40375\n",
      "[96]\teval-logloss:0.39543\ttrain-logloss:0.40375\n",
      "[97]\teval-logloss:0.39539\ttrain-logloss:0.40375\n",
      "[98]\teval-logloss:0.39533\ttrain-logloss:0.40376\n",
      "[99]\teval-logloss:0.39531\ttrain-logloss:0.40375\n",
      "[100]\teval-logloss:0.39527\ttrain-logloss:0.40377\n",
      "[101]\teval-logloss:0.39509\ttrain-logloss:0.40369\n",
      "[102]\teval-logloss:0.39497\ttrain-logloss:0.40366\n",
      "[103]\teval-logloss:0.39485\ttrain-logloss:0.40363\n",
      "[104]\teval-logloss:0.39476\ttrain-logloss:0.40361\n",
      "[105]\teval-logloss:0.39468\ttrain-logloss:0.40360\n",
      "[106]\teval-logloss:0.39457\ttrain-logloss:0.40353\n",
      "[107]\teval-logloss:0.39451\ttrain-logloss:0.40354\n",
      "[108]\teval-logloss:0.39439\ttrain-logloss:0.40351\n",
      "[109]\teval-logloss:0.39420\ttrain-logloss:0.40338\n",
      "[110]\teval-logloss:0.39416\ttrain-logloss:0.40338\n",
      "[111]\teval-logloss:0.39407\ttrain-logloss:0.40333\n",
      "[112]\teval-logloss:0.39399\ttrain-logloss:0.40336\n",
      "[113]\teval-logloss:0.39392\ttrain-logloss:0.40339\n",
      "[114]\teval-logloss:0.39382\ttrain-logloss:0.40339\n",
      "[115]\teval-logloss:0.39379\ttrain-logloss:0.40339\n",
      "[116]\teval-logloss:0.39369\ttrain-logloss:0.40336\n",
      "[117]\teval-logloss:0.39363\ttrain-logloss:0.40336\n",
      "[118]\teval-logloss:0.39357\ttrain-logloss:0.40335\n",
      "[119]\teval-logloss:0.39346\ttrain-logloss:0.40332\n",
      "[120]\teval-logloss:0.39338\ttrain-logloss:0.40329\n",
      "[121]\teval-logloss:0.39328\ttrain-logloss:0.40325\n",
      "[122]\teval-logloss:0.39323\ttrain-logloss:0.40325\n",
      "[123]\teval-logloss:0.39313\ttrain-logloss:0.40320\n",
      "[124]\teval-logloss:0.39298\ttrain-logloss:0.40308\n",
      "[125]\teval-logloss:0.39282\ttrain-logloss:0.40299\n",
      "[126]\teval-logloss:0.39273\ttrain-logloss:0.40298\n",
      "[127]\teval-logloss:0.39264\ttrain-logloss:0.40296\n",
      "[128]\teval-logloss:0.39258\ttrain-logloss:0.40296\n",
      "[129]\teval-logloss:0.39250\ttrain-logloss:0.40294\n",
      "[130]\teval-logloss:0.39246\ttrain-logloss:0.40293\n",
      "[131]\teval-logloss:0.39240\ttrain-logloss:0.40292\n",
      "[132]\teval-logloss:0.39238\ttrain-logloss:0.40292\n",
      "[133]\teval-logloss:0.39231\ttrain-logloss:0.40290\n",
      "[134]\teval-logloss:0.39220\ttrain-logloss:0.40287\n",
      "[135]\teval-logloss:0.39210\ttrain-logloss:0.40283\n",
      "[136]\teval-logloss:0.39203\ttrain-logloss:0.40283\n",
      "[137]\teval-logloss:0.39197\ttrain-logloss:0.40284\n",
      "[138]\teval-logloss:0.39193\ttrain-logloss:0.40284\n",
      "[139]\teval-logloss:0.39188\ttrain-logloss:0.40285\n",
      "[140]\teval-logloss:0.39181\ttrain-logloss:0.40285\n",
      "[141]\teval-logloss:0.39177\ttrain-logloss:0.40284\n",
      "[142]\teval-logloss:0.39173\ttrain-logloss:0.40283\n",
      "[143]\teval-logloss:0.39164\ttrain-logloss:0.40281\n",
      "[144]\teval-logloss:0.39159\ttrain-logloss:0.40278\n",
      "[145]\teval-logloss:0.39153\ttrain-logloss:0.40277\n",
      "[146]\teval-logloss:0.39148\ttrain-logloss:0.40281\n",
      "[147]\teval-logloss:0.39139\ttrain-logloss:0.40282\n",
      "[148]\teval-logloss:0.39130\ttrain-logloss:0.40282\n",
      "[149]\teval-logloss:0.39122\ttrain-logloss:0.40284\n",
      "[150]\teval-logloss:0.39117\ttrain-logloss:0.40284\n",
      "[151]\teval-logloss:0.39115\ttrain-logloss:0.40284\n",
      "[152]\teval-logloss:0.39109\ttrain-logloss:0.40283\n",
      "[153]\teval-logloss:0.39096\ttrain-logloss:0.40277\n",
      "[154]\teval-logloss:0.39093\ttrain-logloss:0.40276\n",
      "[155]\teval-logloss:0.39088\ttrain-logloss:0.40274\n",
      "[156]\teval-logloss:0.39085\ttrain-logloss:0.40275\n",
      "[157]\teval-logloss:0.39083\ttrain-logloss:0.40275\n",
      "[158]\teval-logloss:0.39071\ttrain-logloss:0.40275\n"
     ]
    },
    {
     "name": "stdout",
     "output_type": "stream",
     "text": [
      "[159]\teval-logloss:0.39062\ttrain-logloss:0.40277\n",
      "[160]\teval-logloss:0.39056\ttrain-logloss:0.40277\n",
      "[161]\teval-logloss:0.39048\ttrain-logloss:0.40276\n",
      "[162]\teval-logloss:0.39038\ttrain-logloss:0.40275\n",
      "[163]\teval-logloss:0.39034\ttrain-logloss:0.40275\n",
      "[164]\teval-logloss:0.39023\ttrain-logloss:0.40269\n",
      "[165]\teval-logloss:0.39013\ttrain-logloss:0.40265\n",
      "[166]\teval-logloss:0.39007\ttrain-logloss:0.40267\n",
      "[167]\teval-logloss:0.39002\ttrain-logloss:0.40265\n",
      "[168]\teval-logloss:0.38998\ttrain-logloss:0.40265\n",
      "[169]\teval-logloss:0.38988\ttrain-logloss:0.40263\n",
      "[170]\teval-logloss:0.38980\ttrain-logloss:0.40260\n",
      "[171]\teval-logloss:0.38964\ttrain-logloss:0.40252\n",
      "[172]\teval-logloss:0.38955\ttrain-logloss:0.40249\n",
      "[173]\teval-logloss:0.38948\ttrain-logloss:0.40251\n",
      "[174]\teval-logloss:0.38943\ttrain-logloss:0.40250\n",
      "[175]\teval-logloss:0.38934\ttrain-logloss:0.40250\n",
      "[176]\teval-logloss:0.38928\ttrain-logloss:0.40249\n",
      "[177]\teval-logloss:0.38926\ttrain-logloss:0.40249\n",
      "[178]\teval-logloss:0.38920\ttrain-logloss:0.40250\n",
      "[179]\teval-logloss:0.38907\ttrain-logloss:0.40246\n",
      "[180]\teval-logloss:0.38903\ttrain-logloss:0.40245\n",
      "[181]\teval-logloss:0.38893\ttrain-logloss:0.40242\n",
      "[182]\teval-logloss:0.38889\ttrain-logloss:0.40243\n",
      "[183]\teval-logloss:0.38888\ttrain-logloss:0.40244\n",
      "[184]\teval-logloss:0.38885\ttrain-logloss:0.40244\n",
      "[185]\teval-logloss:0.38880\ttrain-logloss:0.40242\n",
      "[186]\teval-logloss:0.38876\ttrain-logloss:0.40244\n",
      "[187]\teval-logloss:0.38868\ttrain-logloss:0.40244\n",
      "[188]\teval-logloss:0.38856\ttrain-logloss:0.40240\n",
      "[189]\teval-logloss:0.38850\ttrain-logloss:0.40240\n",
      "[190]\teval-logloss:0.38843\ttrain-logloss:0.40241\n",
      "[191]\teval-logloss:0.38841\ttrain-logloss:0.40240\n",
      "[192]\teval-logloss:0.38837\ttrain-logloss:0.40239\n",
      "[193]\teval-logloss:0.38830\ttrain-logloss:0.40242\n",
      "[194]\teval-logloss:0.38823\ttrain-logloss:0.40238\n",
      "[195]\teval-logloss:0.38813\ttrain-logloss:0.40237\n",
      "[196]\teval-logloss:0.38808\ttrain-logloss:0.40237\n",
      "[197]\teval-logloss:0.38803\ttrain-logloss:0.40237\n",
      "[198]\teval-logloss:0.38794\ttrain-logloss:0.40239\n",
      "[199]\teval-logloss:0.38784\ttrain-logloss:0.40235\n",
      "[200]\teval-logloss:0.38779\ttrain-logloss:0.40234\n",
      "[201]\teval-logloss:0.38770\ttrain-logloss:0.40229\n",
      "[202]\teval-logloss:0.38761\ttrain-logloss:0.40229\n",
      "[203]\teval-logloss:0.38755\ttrain-logloss:0.40230\n",
      "[204]\teval-logloss:0.38752\ttrain-logloss:0.40231\n",
      "[205]\teval-logloss:0.38748\ttrain-logloss:0.40231\n",
      "[206]\teval-logloss:0.38742\ttrain-logloss:0.40231\n",
      "[207]\teval-logloss:0.38730\ttrain-logloss:0.40229\n",
      "[208]\teval-logloss:0.38720\ttrain-logloss:0.40230\n",
      "[209]\teval-logloss:0.38717\ttrain-logloss:0.40230\n",
      "[210]\teval-logloss:0.38716\ttrain-logloss:0.40230\n",
      "[211]\teval-logloss:0.38711\ttrain-logloss:0.40230\n",
      "[212]\teval-logloss:0.38705\ttrain-logloss:0.40231\n",
      "[213]\teval-logloss:0.38702\ttrain-logloss:0.40232\n",
      "[214]\teval-logloss:0.38694\ttrain-logloss:0.40229\n",
      "[215]\teval-logloss:0.38686\ttrain-logloss:0.40229\n",
      "[216]\teval-logloss:0.38682\ttrain-logloss:0.40231\n",
      "[217]\teval-logloss:0.38673\ttrain-logloss:0.40229\n",
      "[218]\teval-logloss:0.38669\ttrain-logloss:0.40229\n",
      "[219]\teval-logloss:0.38665\ttrain-logloss:0.40228\n",
      "[220]\teval-logloss:0.38660\ttrain-logloss:0.40228\n",
      "[221]\teval-logloss:0.38646\ttrain-logloss:0.40223\n",
      "[222]\teval-logloss:0.38640\ttrain-logloss:0.40223\n",
      "[223]\teval-logloss:0.38632\ttrain-logloss:0.40221\n",
      "[224]\teval-logloss:0.38625\ttrain-logloss:0.40217\n",
      "[225]\teval-logloss:0.38623\ttrain-logloss:0.40217\n",
      "[226]\teval-logloss:0.38618\ttrain-logloss:0.40218\n",
      "[227]\teval-logloss:0.38611\ttrain-logloss:0.40218\n",
      "[228]\teval-logloss:0.38607\ttrain-logloss:0.40219\n",
      "[229]\teval-logloss:0.38601\ttrain-logloss:0.40221\n",
      "[230]\teval-logloss:0.38592\ttrain-logloss:0.40220\n",
      "[231]\teval-logloss:0.38582\ttrain-logloss:0.40216\n",
      "[232]\teval-logloss:0.38568\ttrain-logloss:0.40212\n",
      "[233]\teval-logloss:0.38556\ttrain-logloss:0.40207\n",
      "[234]\teval-logloss:0.38550\ttrain-logloss:0.40208\n",
      "[235]\teval-logloss:0.38547\ttrain-logloss:0.40208\n",
      "[236]\teval-logloss:0.38544\ttrain-logloss:0.40207\n",
      "[237]\teval-logloss:0.38535\ttrain-logloss:0.40209\n",
      "[238]\teval-logloss:0.38528\ttrain-logloss:0.40209\n",
      "[239]\teval-logloss:0.38526\ttrain-logloss:0.40209\n",
      "[240]\teval-logloss:0.38520\ttrain-logloss:0.40208\n",
      "[241]\teval-logloss:0.38515\ttrain-logloss:0.40209\n",
      "[242]\teval-logloss:0.38510\ttrain-logloss:0.40209\n",
      "[243]\teval-logloss:0.38506\ttrain-logloss:0.40210\n",
      "[244]\teval-logloss:0.38502\ttrain-logloss:0.40209\n",
      "[245]\teval-logloss:0.38500\ttrain-logloss:0.40209\n",
      "[246]\teval-logloss:0.38494\ttrain-logloss:0.40210\n",
      "[247]\teval-logloss:0.38486\ttrain-logloss:0.40212\n",
      "[248]\teval-logloss:0.38480\ttrain-logloss:0.40213\n",
      "[249]\teval-logloss:0.38475\ttrain-logloss:0.40214\n",
      "[250]\teval-logloss:0.38472\ttrain-logloss:0.40214\n",
      "[251]\teval-logloss:0.38466\ttrain-logloss:0.40215\n",
      "[252]\teval-logloss:0.38458\ttrain-logloss:0.40216\n",
      "[253]\teval-logloss:0.38453\ttrain-logloss:0.40216\n",
      "[254]\teval-logloss:0.38450\ttrain-logloss:0.40217\n",
      "[255]\teval-logloss:0.38443\ttrain-logloss:0.40219\n",
      "[256]\teval-logloss:0.38437\ttrain-logloss:0.40219\n",
      "[257]\teval-logloss:0.38436\ttrain-logloss:0.40219\n",
      "[258]\teval-logloss:0.38434\ttrain-logloss:0.40220\n",
      "[259]\teval-logloss:0.38428\ttrain-logloss:0.40220\n",
      "[260]\teval-logloss:0.38420\ttrain-logloss:0.40220\n",
      "[261]\teval-logloss:0.38414\ttrain-logloss:0.40220\n",
      "[262]\teval-logloss:0.38405\ttrain-logloss:0.40221\n",
      "[263]\teval-logloss:0.38401\ttrain-logloss:0.40222\n",
      "[264]\teval-logloss:0.38395\ttrain-logloss:0.40224\n",
      "[265]\teval-logloss:0.38391\ttrain-logloss:0.40224\n",
      "[266]\teval-logloss:0.38384\ttrain-logloss:0.40225\n",
      "[267]\teval-logloss:0.38380\ttrain-logloss:0.40224\n",
      "[268]\teval-logloss:0.38371\ttrain-logloss:0.40227\n",
      "[269]\teval-logloss:0.38367\ttrain-logloss:0.40227\n",
      "[270]\teval-logloss:0.38363\ttrain-logloss:0.40228\n",
      "[271]\teval-logloss:0.38356\ttrain-logloss:0.40227\n",
      "[272]\teval-logloss:0.38354\ttrain-logloss:0.40228\n",
      "[273]\teval-logloss:0.38352\ttrain-logloss:0.40228\n",
      "[274]\teval-logloss:0.38346\ttrain-logloss:0.40223\n",
      "[275]\teval-logloss:0.38345\ttrain-logloss:0.40224\n",
      "[276]\teval-logloss:0.38344\ttrain-logloss:0.40224\n",
      "[277]\teval-logloss:0.38339\ttrain-logloss:0.40225\n",
      "[278]\teval-logloss:0.38337\ttrain-logloss:0.40224\n",
      "[279]\teval-logloss:0.38330\ttrain-logloss:0.40224\n",
      "[280]\teval-logloss:0.38321\ttrain-logloss:0.40226\n",
      "[281]\teval-logloss:0.38316\ttrain-logloss:0.40227\n",
      "[282]\teval-logloss:0.38313\ttrain-logloss:0.40228\n",
      "[283]\teval-logloss:0.38304\ttrain-logloss:0.40225\n",
      "[284]\teval-logloss:0.38300\ttrain-logloss:0.40225\n",
      "[285]\teval-logloss:0.38294\ttrain-logloss:0.40226\n",
      "[286]\teval-logloss:0.38289\ttrain-logloss:0.40225\n",
      "[287]\teval-logloss:0.38286\ttrain-logloss:0.40224\n",
      "[288]\teval-logloss:0.38278\ttrain-logloss:0.40222\n",
      "[289]\teval-logloss:0.38269\ttrain-logloss:0.40222\n",
      "[290]\teval-logloss:0.38261\ttrain-logloss:0.40220\n",
      "[291]\teval-logloss:0.38256\ttrain-logloss:0.40219\n",
      "[292]\teval-logloss:0.38247\ttrain-logloss:0.40217\n",
      "[293]\teval-logloss:0.38243\ttrain-logloss:0.40216\n",
      "[294]\teval-logloss:0.38237\ttrain-logloss:0.40216\n",
      "[295]\teval-logloss:0.38232\ttrain-logloss:0.40217\n",
      "[296]\teval-logloss:0.38224\ttrain-logloss:0.40216\n",
      "[297]\teval-logloss:0.38221\ttrain-logloss:0.40217\n",
      "[298]\teval-logloss:0.38215\ttrain-logloss:0.40217\n",
      "[299]\teval-logloss:0.38208\ttrain-logloss:0.40217\n",
      "[300]\teval-logloss:0.38202\ttrain-logloss:0.40219\n",
      "[301]\teval-logloss:0.38194\ttrain-logloss:0.40218\n",
      "[302]\teval-logloss:0.38184\ttrain-logloss:0.40216\n",
      "[303]\teval-logloss:0.38180\ttrain-logloss:0.40214\n",
      "[304]\teval-logloss:0.38179\ttrain-logloss:0.40215\n",
      "[305]\teval-logloss:0.38173\ttrain-logloss:0.40216\n",
      "[306]\teval-logloss:0.38169\ttrain-logloss:0.40217\n",
      "[307]\teval-logloss:0.38160\ttrain-logloss:0.40216\n",
      "[308]\teval-logloss:0.38157\ttrain-logloss:0.40216\n",
      "[309]\teval-logloss:0.38151\ttrain-logloss:0.40215\n",
      "[310]\teval-logloss:0.38148\ttrain-logloss:0.40216\n",
      "[311]\teval-logloss:0.38144\ttrain-logloss:0.40217\n",
      "[312]\teval-logloss:0.38138\ttrain-logloss:0.40216\n",
      "[313]\teval-logloss:0.38131\ttrain-logloss:0.40215\n",
      "[314]\teval-logloss:0.38127\ttrain-logloss:0.40216\n",
      "[315]\teval-logloss:0.38122\ttrain-logloss:0.40218\n",
      "[316]\teval-logloss:0.38117\ttrain-logloss:0.40218\n",
      "[317]\teval-logloss:0.38107\ttrain-logloss:0.40215\n",
      "[318]\teval-logloss:0.38106\ttrain-logloss:0.40215\n",
      "[319]\teval-logloss:0.38101\ttrain-logloss:0.40217\n",
      "[320]\teval-logloss:0.38100\ttrain-logloss:0.40217\n",
      "[321]\teval-logloss:0.38095\ttrain-logloss:0.40217\n",
      "[322]\teval-logloss:0.38091\ttrain-logloss:0.40218\n",
      "[323]\teval-logloss:0.38082\ttrain-logloss:0.40218\n",
      "[324]\teval-logloss:0.38076\ttrain-logloss:0.40218\n",
      "[325]\teval-logloss:0.38072\ttrain-logloss:0.40219\n",
      "[326]\teval-logloss:0.38067\ttrain-logloss:0.40220\n"
     ]
    },
    {
     "name": "stdout",
     "output_type": "stream",
     "text": [
      "[327]\teval-logloss:0.38063\ttrain-logloss:0.40222\n",
      "[328]\teval-logloss:0.38057\ttrain-logloss:0.40221\n",
      "[329]\teval-logloss:0.38050\ttrain-logloss:0.40220\n",
      "[330]\teval-logloss:0.38042\ttrain-logloss:0.40219\n",
      "[331]\teval-logloss:0.38033\ttrain-logloss:0.40219\n",
      "[332]\teval-logloss:0.38028\ttrain-logloss:0.40220\n",
      "[333]\teval-logloss:0.38023\ttrain-logloss:0.40221\n",
      "[334]\teval-logloss:0.38018\ttrain-logloss:0.40221\n",
      "[335]\teval-logloss:0.38014\ttrain-logloss:0.40222\n",
      "[336]\teval-logloss:0.38009\ttrain-logloss:0.40222\n",
      "[337]\teval-logloss:0.38002\ttrain-logloss:0.40225\n",
      "[338]\teval-logloss:0.37997\ttrain-logloss:0.40224\n",
      "[339]\teval-logloss:0.37993\ttrain-logloss:0.40224\n",
      "[340]\teval-logloss:0.37985\ttrain-logloss:0.40225\n",
      "[341]\teval-logloss:0.37979\ttrain-logloss:0.40226\n",
      "[342]\teval-logloss:0.37976\ttrain-logloss:0.40227\n",
      "[343]\teval-logloss:0.37972\ttrain-logloss:0.40227\n",
      "[344]\teval-logloss:0.37967\ttrain-logloss:0.40229\n",
      "[345]\teval-logloss:0.37963\ttrain-logloss:0.40229\n",
      "[346]\teval-logloss:0.37959\ttrain-logloss:0.40230\n",
      "[347]\teval-logloss:0.37956\ttrain-logloss:0.40229\n",
      "[348]\teval-logloss:0.37950\ttrain-logloss:0.40228\n",
      "[349]\teval-logloss:0.37944\ttrain-logloss:0.40228\n",
      "[350]\teval-logloss:0.37941\ttrain-logloss:0.40229\n",
      "[351]\teval-logloss:0.37935\ttrain-logloss:0.40228\n",
      "[352]\teval-logloss:0.37927\ttrain-logloss:0.40227\n",
      "[353]\teval-logloss:0.37922\ttrain-logloss:0.40228\n",
      "[354]\teval-logloss:0.37917\ttrain-logloss:0.40228\n",
      "[355]\teval-logloss:0.37912\ttrain-logloss:0.40229\n",
      "[356]\teval-logloss:0.37908\ttrain-logloss:0.40230\n",
      "[357]\teval-logloss:0.37905\ttrain-logloss:0.40231\n",
      "[358]\teval-logloss:0.37898\ttrain-logloss:0.40232\n",
      "[359]\teval-logloss:0.37896\ttrain-logloss:0.40232\n",
      "[360]\teval-logloss:0.37893\ttrain-logloss:0.40231\n",
      "[361]\teval-logloss:0.37889\ttrain-logloss:0.40232\n",
      "[362]\teval-logloss:0.37883\ttrain-logloss:0.40229\n",
      "[363]\teval-logloss:0.37880\ttrain-logloss:0.40230\n",
      "[364]\teval-logloss:0.37873\ttrain-logloss:0.40231\n",
      "[365]\teval-logloss:0.37867\ttrain-logloss:0.40231\n",
      "[366]\teval-logloss:0.37865\ttrain-logloss:0.40233\n",
      "[367]\teval-logloss:0.37862\ttrain-logloss:0.40234\n",
      "[368]\teval-logloss:0.37860\ttrain-logloss:0.40234\n",
      "[369]\teval-logloss:0.37851\ttrain-logloss:0.40233\n",
      "[370]\teval-logloss:0.37850\ttrain-logloss:0.40233\n",
      "[371]\teval-logloss:0.37849\ttrain-logloss:0.40234\n",
      "[372]\teval-logloss:0.37843\ttrain-logloss:0.40235\n",
      "[373]\teval-logloss:0.37839\ttrain-logloss:0.40235\n",
      "[374]\teval-logloss:0.37833\ttrain-logloss:0.40236\n",
      "[375]\teval-logloss:0.37829\ttrain-logloss:0.40237\n",
      "[376]\teval-logloss:0.37823\ttrain-logloss:0.40237\n",
      "[377]\teval-logloss:0.37815\ttrain-logloss:0.40237\n",
      "[378]\teval-logloss:0.37809\ttrain-logloss:0.40239\n",
      "[379]\teval-logloss:0.37805\ttrain-logloss:0.40238\n",
      "[380]\teval-logloss:0.37798\ttrain-logloss:0.40240\n",
      "[381]\teval-logloss:0.37791\ttrain-logloss:0.40241\n",
      "[382]\teval-logloss:0.37783\ttrain-logloss:0.40239\n",
      "[383]\teval-logloss:0.37778\ttrain-logloss:0.40239\n",
      "[384]\teval-logloss:0.37774\ttrain-logloss:0.40238\n",
      "[385]\teval-logloss:0.37771\ttrain-logloss:0.40239\n",
      "[386]\teval-logloss:0.37769\ttrain-logloss:0.40241\n",
      "[387]\teval-logloss:0.37763\ttrain-logloss:0.40241\n",
      "[388]\teval-logloss:0.37760\ttrain-logloss:0.40242\n",
      "[389]\teval-logloss:0.37753\ttrain-logloss:0.40242\n",
      "[390]\teval-logloss:0.37750\ttrain-logloss:0.40243\n",
      "[391]\teval-logloss:0.37745\ttrain-logloss:0.40243\n",
      "[392]\teval-logloss:0.37738\ttrain-logloss:0.40243\n",
      "[393]\teval-logloss:0.37734\ttrain-logloss:0.40243\n",
      "[394]\teval-logloss:0.37730\ttrain-logloss:0.40242\n",
      "[395]\teval-logloss:0.37723\ttrain-logloss:0.40242\n",
      "[396]\teval-logloss:0.37720\ttrain-logloss:0.40244\n",
      "[397]\teval-logloss:0.37718\ttrain-logloss:0.40244\n",
      "[398]\teval-logloss:0.37715\ttrain-logloss:0.40245\n",
      "[399]\teval-logloss:0.37707\ttrain-logloss:0.40243\n",
      "[400]\teval-logloss:0.37702\ttrain-logloss:0.40243\n",
      "[401]\teval-logloss:0.37694\ttrain-logloss:0.40244\n",
      "[402]\teval-logloss:0.37692\ttrain-logloss:0.40244\n",
      "[403]\teval-logloss:0.37688\ttrain-logloss:0.40244\n",
      "[404]\teval-logloss:0.37682\ttrain-logloss:0.40244\n",
      "[405]\teval-logloss:0.37677\ttrain-logloss:0.40245\n",
      "[406]\teval-logloss:0.37675\ttrain-logloss:0.40245\n",
      "[407]\teval-logloss:0.37673\ttrain-logloss:0.40245\n",
      "[408]\teval-logloss:0.37671\ttrain-logloss:0.40246\n",
      "[409]\teval-logloss:0.37666\ttrain-logloss:0.40246\n",
      "[410]\teval-logloss:0.37661\ttrain-logloss:0.40246\n",
      "[411]\teval-logloss:0.37657\ttrain-logloss:0.40244\n",
      "[412]\teval-logloss:0.37656\ttrain-logloss:0.40244\n",
      "[413]\teval-logloss:0.37653\ttrain-logloss:0.40244\n",
      "[414]\teval-logloss:0.37652\ttrain-logloss:0.40245\n",
      "[415]\teval-logloss:0.37646\ttrain-logloss:0.40246\n",
      "[416]\teval-logloss:0.37642\ttrain-logloss:0.40247\n",
      "[417]\teval-logloss:0.37636\ttrain-logloss:0.40248\n",
      "[418]\teval-logloss:0.37629\ttrain-logloss:0.40248\n",
      "[419]\teval-logloss:0.37628\ttrain-logloss:0.40248\n",
      "[420]\teval-logloss:0.37627\ttrain-logloss:0.40248\n",
      "[421]\teval-logloss:0.37624\ttrain-logloss:0.40248\n",
      "[422]\teval-logloss:0.37620\ttrain-logloss:0.40249\n",
      "[423]\teval-logloss:0.37614\ttrain-logloss:0.40248\n",
      "[424]\teval-logloss:0.37610\ttrain-logloss:0.40248\n",
      "[425]\teval-logloss:0.37606\ttrain-logloss:0.40248\n",
      "[426]\teval-logloss:0.37601\ttrain-logloss:0.40248\n",
      "[427]\teval-logloss:0.37598\ttrain-logloss:0.40250\n",
      "[428]\teval-logloss:0.37593\ttrain-logloss:0.40250\n",
      "[429]\teval-logloss:0.37588\ttrain-logloss:0.40249\n",
      "[430]\teval-logloss:0.37584\ttrain-logloss:0.40249\n",
      "[431]\teval-logloss:0.37583\ttrain-logloss:0.40250\n",
      "[432]\teval-logloss:0.37576\ttrain-logloss:0.40250\n",
      "[433]\teval-logloss:0.37575\ttrain-logloss:0.40250\n",
      "[434]\teval-logloss:0.37570\ttrain-logloss:0.40250\n",
      "[435]\teval-logloss:0.37567\ttrain-logloss:0.40251\n",
      "[436]\teval-logloss:0.37561\ttrain-logloss:0.40251\n",
      "[437]\teval-logloss:0.37555\ttrain-logloss:0.40251\n",
      "[438]\teval-logloss:0.37551\ttrain-logloss:0.40250\n",
      "[439]\teval-logloss:0.37548\ttrain-logloss:0.40250\n",
      "[440]\teval-logloss:0.37542\ttrain-logloss:0.40252\n",
      "[441]\teval-logloss:0.37536\ttrain-logloss:0.40252\n",
      "[442]\teval-logloss:0.37530\ttrain-logloss:0.40253\n",
      "[443]\teval-logloss:0.37524\ttrain-logloss:0.40252\n",
      "[444]\teval-logloss:0.37524\ttrain-logloss:0.40252\n",
      "[445]\teval-logloss:0.37518\ttrain-logloss:0.40251\n",
      "[446]\teval-logloss:0.37517\ttrain-logloss:0.40252\n",
      "[447]\teval-logloss:0.37516\ttrain-logloss:0.40252\n",
      "[448]\teval-logloss:0.37509\ttrain-logloss:0.40251\n",
      "[449]\teval-logloss:0.37506\ttrain-logloss:0.40251\n",
      "[450]\teval-logloss:0.37504\ttrain-logloss:0.40252\n",
      "[451]\teval-logloss:0.37499\ttrain-logloss:0.40252\n",
      "[452]\teval-logloss:0.37494\ttrain-logloss:0.40252\n",
      "[453]\teval-logloss:0.37489\ttrain-logloss:0.40253\n",
      "[454]\teval-logloss:0.37483\ttrain-logloss:0.40255\n",
      "[455]\teval-logloss:0.37477\ttrain-logloss:0.40255\n",
      "[456]\teval-logloss:0.37472\ttrain-logloss:0.40254\n",
      "[457]\teval-logloss:0.37467\ttrain-logloss:0.40255\n",
      "[458]\teval-logloss:0.37463\ttrain-logloss:0.40256\n",
      "[459]\teval-logloss:0.37460\ttrain-logloss:0.40256\n",
      "[460]\teval-logloss:0.37456\ttrain-logloss:0.40258\n",
      "[461]\teval-logloss:0.37454\ttrain-logloss:0.40257\n",
      "[462]\teval-logloss:0.37449\ttrain-logloss:0.40258\n",
      "[463]\teval-logloss:0.37444\ttrain-logloss:0.40258\n",
      "[464]\teval-logloss:0.37440\ttrain-logloss:0.40258\n",
      "[465]\teval-logloss:0.37437\ttrain-logloss:0.40258\n",
      "[466]\teval-logloss:0.37433\ttrain-logloss:0.40259\n",
      "[467]\teval-logloss:0.37424\ttrain-logloss:0.40258\n",
      "[468]\teval-logloss:0.37423\ttrain-logloss:0.40258\n",
      "[469]\teval-logloss:0.37419\ttrain-logloss:0.40257\n",
      "[470]\teval-logloss:0.37415\ttrain-logloss:0.40257\n",
      "[471]\teval-logloss:0.37409\ttrain-logloss:0.40258\n",
      "[472]\teval-logloss:0.37403\ttrain-logloss:0.40259\n",
      "[473]\teval-logloss:0.37396\ttrain-logloss:0.40259\n",
      "[474]\teval-logloss:0.37393\ttrain-logloss:0.40259\n",
      "[475]\teval-logloss:0.37386\ttrain-logloss:0.40259\n",
      "[476]\teval-logloss:0.37384\ttrain-logloss:0.40260\n",
      "[477]\teval-logloss:0.37381\ttrain-logloss:0.40261\n",
      "[478]\teval-logloss:0.37376\ttrain-logloss:0.40260\n",
      "[479]\teval-logloss:0.37371\ttrain-logloss:0.40260\n",
      "[480]\teval-logloss:0.37367\ttrain-logloss:0.40259\n",
      "[481]\teval-logloss:0.37360\ttrain-logloss:0.40258\n",
      "[482]\teval-logloss:0.37354\ttrain-logloss:0.40260\n",
      "[483]\teval-logloss:0.37345\ttrain-logloss:0.40262\n",
      "[484]\teval-logloss:0.37340\ttrain-logloss:0.40262\n",
      "[485]\teval-logloss:0.37335\ttrain-logloss:0.40262\n",
      "[486]\teval-logloss:0.37329\ttrain-logloss:0.40263\n",
      "[487]\teval-logloss:0.37326\ttrain-logloss:0.40263\n",
      "[488]\teval-logloss:0.37321\ttrain-logloss:0.40263\n",
      "[489]\teval-logloss:0.37315\ttrain-logloss:0.40264\n",
      "[490]\teval-logloss:0.37312\ttrain-logloss:0.40264\n",
      "[491]\teval-logloss:0.37306\ttrain-logloss:0.40264\n",
      "[492]\teval-logloss:0.37302\ttrain-logloss:0.40264\n",
      "[493]\teval-logloss:0.37298\ttrain-logloss:0.40263\n",
      "[494]\teval-logloss:0.37291\ttrain-logloss:0.40263\n"
     ]
    },
    {
     "name": "stdout",
     "output_type": "stream",
     "text": [
      "[495]\teval-logloss:0.37285\ttrain-logloss:0.40265\n",
      "[496]\teval-logloss:0.37281\ttrain-logloss:0.40265\n",
      "[497]\teval-logloss:0.37278\ttrain-logloss:0.40266\n",
      "[498]\teval-logloss:0.37272\ttrain-logloss:0.40266\n",
      "[499]\teval-logloss:0.37266\ttrain-logloss:0.40266\n",
      "[500]\teval-logloss:0.37264\ttrain-logloss:0.40267\n",
      "[501]\teval-logloss:0.37255\ttrain-logloss:0.40266\n",
      "[502]\teval-logloss:0.37248\ttrain-logloss:0.40269\n",
      "[503]\teval-logloss:0.37245\ttrain-logloss:0.40269\n",
      "[504]\teval-logloss:0.37240\ttrain-logloss:0.40269\n",
      "[505]\teval-logloss:0.37237\ttrain-logloss:0.40270\n",
      "[506]\teval-logloss:0.37231\ttrain-logloss:0.40270\n",
      "[507]\teval-logloss:0.37226\ttrain-logloss:0.40272\n",
      "[508]\teval-logloss:0.37221\ttrain-logloss:0.40274\n",
      "[509]\teval-logloss:0.37216\ttrain-logloss:0.40274\n",
      "[510]\teval-logloss:0.37208\ttrain-logloss:0.40274\n",
      "[511]\teval-logloss:0.37206\ttrain-logloss:0.40275\n",
      "[512]\teval-logloss:0.37201\ttrain-logloss:0.40275\n",
      "[513]\teval-logloss:0.37200\ttrain-logloss:0.40276\n",
      "[514]\teval-logloss:0.37196\ttrain-logloss:0.40278\n",
      "[515]\teval-logloss:0.37192\ttrain-logloss:0.40278\n",
      "[516]\teval-logloss:0.37191\ttrain-logloss:0.40279\n",
      "[517]\teval-logloss:0.37187\ttrain-logloss:0.40280\n",
      "[518]\teval-logloss:0.37180\ttrain-logloss:0.40281\n",
      "[519]\teval-logloss:0.37173\ttrain-logloss:0.40284\n",
      "[520]\teval-logloss:0.37169\ttrain-logloss:0.40284\n",
      "[521]\teval-logloss:0.37166\ttrain-logloss:0.40286\n",
      "[522]\teval-logloss:0.37161\ttrain-logloss:0.40286\n",
      "[523]\teval-logloss:0.37158\ttrain-logloss:0.40287\n",
      "[524]\teval-logloss:0.37156\ttrain-logloss:0.40287\n",
      "[525]\teval-logloss:0.37149\ttrain-logloss:0.40288\n",
      "[526]\teval-logloss:0.37144\ttrain-logloss:0.40287\n",
      "[527]\teval-logloss:0.37142\ttrain-logloss:0.40286\n",
      "[528]\teval-logloss:0.37137\ttrain-logloss:0.40287\n",
      "[529]\teval-logloss:0.37134\ttrain-logloss:0.40288\n",
      "[530]\teval-logloss:0.37131\ttrain-logloss:0.40289\n",
      "[531]\teval-logloss:0.37127\ttrain-logloss:0.40289\n",
      "[532]\teval-logloss:0.37121\ttrain-logloss:0.40289\n",
      "[533]\teval-logloss:0.37118\ttrain-logloss:0.40289\n",
      "[534]\teval-logloss:0.37114\ttrain-logloss:0.40289\n",
      "[535]\teval-logloss:0.37111\ttrain-logloss:0.40288\n",
      "[536]\teval-logloss:0.37108\ttrain-logloss:0.40288\n",
      "[537]\teval-logloss:0.37103\ttrain-logloss:0.40287\n",
      "[538]\teval-logloss:0.37098\ttrain-logloss:0.40287\n",
      "[539]\teval-logloss:0.37095\ttrain-logloss:0.40288\n",
      "[540]\teval-logloss:0.37090\ttrain-logloss:0.40288\n",
      "[541]\teval-logloss:0.37083\ttrain-logloss:0.40289\n",
      "[542]\teval-logloss:0.37082\ttrain-logloss:0.40290\n",
      "[543]\teval-logloss:0.37080\ttrain-logloss:0.40290\n",
      "[544]\teval-logloss:0.37077\ttrain-logloss:0.40291\n",
      "[545]\teval-logloss:0.37076\ttrain-logloss:0.40291\n",
      "[546]\teval-logloss:0.37075\ttrain-logloss:0.40292\n",
      "[547]\teval-logloss:0.37072\ttrain-logloss:0.40292\n",
      "[548]\teval-logloss:0.37071\ttrain-logloss:0.40292\n",
      "[549]\teval-logloss:0.37070\ttrain-logloss:0.40292\n",
      "[550]\teval-logloss:0.37067\ttrain-logloss:0.40293\n",
      "[551]\teval-logloss:0.37064\ttrain-logloss:0.40293\n",
      "[552]\teval-logloss:0.37064\ttrain-logloss:0.40293\n",
      "[553]\teval-logloss:0.37063\ttrain-logloss:0.40293\n",
      "[554]\teval-logloss:0.37057\ttrain-logloss:0.40293\n",
      "[555]\teval-logloss:0.37050\ttrain-logloss:0.40296\n",
      "[556]\teval-logloss:0.37048\ttrain-logloss:0.40296\n",
      "[557]\teval-logloss:0.37040\ttrain-logloss:0.40297\n",
      "[558]\teval-logloss:0.37035\ttrain-logloss:0.40298\n",
      "[559]\teval-logloss:0.37030\ttrain-logloss:0.40299\n",
      "[560]\teval-logloss:0.37026\ttrain-logloss:0.40299\n",
      "[561]\teval-logloss:0.37024\ttrain-logloss:0.40299\n",
      "[562]\teval-logloss:0.37018\ttrain-logloss:0.40297\n",
      "[563]\teval-logloss:0.37015\ttrain-logloss:0.40298\n",
      "[564]\teval-logloss:0.37011\ttrain-logloss:0.40297\n",
      "[565]\teval-logloss:0.37009\ttrain-logloss:0.40298\n",
      "[566]\teval-logloss:0.37006\ttrain-logloss:0.40299\n",
      "[567]\teval-logloss:0.37001\ttrain-logloss:0.40299\n",
      "[568]\teval-logloss:0.36996\ttrain-logloss:0.40297\n",
      "[569]\teval-logloss:0.36990\ttrain-logloss:0.40297\n",
      "[570]\teval-logloss:0.36988\ttrain-logloss:0.40297\n",
      "[571]\teval-logloss:0.36985\ttrain-logloss:0.40298\n",
      "[572]\teval-logloss:0.36984\ttrain-logloss:0.40299\n",
      "[573]\teval-logloss:0.36977\ttrain-logloss:0.40302\n",
      "[574]\teval-logloss:0.36976\ttrain-logloss:0.40302\n",
      "[575]\teval-logloss:0.36974\ttrain-logloss:0.40302\n",
      "[576]\teval-logloss:0.36974\ttrain-logloss:0.40303\n",
      "[577]\teval-logloss:0.36971\ttrain-logloss:0.40303\n",
      "[578]\teval-logloss:0.36970\ttrain-logloss:0.40303\n",
      "[579]\teval-logloss:0.36969\ttrain-logloss:0.40303\n",
      "[580]\teval-logloss:0.36967\ttrain-logloss:0.40304\n",
      "[581]\teval-logloss:0.36965\ttrain-logloss:0.40304\n",
      "[582]\teval-logloss:0.36962\ttrain-logloss:0.40304\n",
      "[583]\teval-logloss:0.36957\ttrain-logloss:0.40305\n",
      "[584]\teval-logloss:0.36955\ttrain-logloss:0.40306\n",
      "[585]\teval-logloss:0.36951\ttrain-logloss:0.40307\n",
      "[586]\teval-logloss:0.36948\ttrain-logloss:0.40309\n",
      "[587]\teval-logloss:0.36945\ttrain-logloss:0.40310\n",
      "[588]\teval-logloss:0.36938\ttrain-logloss:0.40309\n",
      "[589]\teval-logloss:0.36934\ttrain-logloss:0.40310\n",
      "[590]\teval-logloss:0.36929\ttrain-logloss:0.40311\n",
      "[591]\teval-logloss:0.36927\ttrain-logloss:0.40311\n",
      "[592]\teval-logloss:0.36924\ttrain-logloss:0.40310\n",
      "[593]\teval-logloss:0.36919\ttrain-logloss:0.40311\n",
      "[594]\teval-logloss:0.36912\ttrain-logloss:0.40312\n",
      "[595]\teval-logloss:0.36907\ttrain-logloss:0.40313\n",
      "[596]\teval-logloss:0.36902\ttrain-logloss:0.40313\n",
      "[597]\teval-logloss:0.36899\ttrain-logloss:0.40313\n",
      "[598]\teval-logloss:0.36895\ttrain-logloss:0.40313\n",
      "[599]\teval-logloss:0.36891\ttrain-logloss:0.40312\n",
      "[600]\teval-logloss:0.36890\ttrain-logloss:0.40312\n",
      "[601]\teval-logloss:0.36884\ttrain-logloss:0.40313\n",
      "[602]\teval-logloss:0.36879\ttrain-logloss:0.40313\n",
      "[603]\teval-logloss:0.36873\ttrain-logloss:0.40315\n",
      "[604]\teval-logloss:0.36869\ttrain-logloss:0.40314\n",
      "[605]\teval-logloss:0.36866\ttrain-logloss:0.40314\n",
      "[606]\teval-logloss:0.36860\ttrain-logloss:0.40315\n",
      "[607]\teval-logloss:0.36856\ttrain-logloss:0.40316\n",
      "[608]\teval-logloss:0.36853\ttrain-logloss:0.40316\n",
      "[609]\teval-logloss:0.36849\ttrain-logloss:0.40316\n",
      "[610]\teval-logloss:0.36849\ttrain-logloss:0.40316\n",
      "[611]\teval-logloss:0.36847\ttrain-logloss:0.40317\n",
      "[612]\teval-logloss:0.36844\ttrain-logloss:0.40317\n",
      "[613]\teval-logloss:0.36841\ttrain-logloss:0.40318\n",
      "[614]\teval-logloss:0.36838\ttrain-logloss:0.40320\n",
      "[615]\teval-logloss:0.36836\ttrain-logloss:0.40319\n",
      "[616]\teval-logloss:0.36836\ttrain-logloss:0.40320\n",
      "[617]\teval-logloss:0.36835\ttrain-logloss:0.40320\n",
      "[618]\teval-logloss:0.36829\ttrain-logloss:0.40321\n",
      "[619]\teval-logloss:0.36827\ttrain-logloss:0.40321\n",
      "[620]\teval-logloss:0.36823\ttrain-logloss:0.40322\n",
      "[621]\teval-logloss:0.36817\ttrain-logloss:0.40322\n",
      "[622]\teval-logloss:0.36813\ttrain-logloss:0.40323\n",
      "[623]\teval-logloss:0.36812\ttrain-logloss:0.40324\n",
      "[624]\teval-logloss:0.36807\ttrain-logloss:0.40324\n",
      "[625]\teval-logloss:0.36802\ttrain-logloss:0.40323\n",
      "[626]\teval-logloss:0.36797\ttrain-logloss:0.40324\n",
      "[627]\teval-logloss:0.36791\ttrain-logloss:0.40325\n",
      "[628]\teval-logloss:0.36785\ttrain-logloss:0.40327\n",
      "[629]\teval-logloss:0.36779\ttrain-logloss:0.40328\n",
      "[630]\teval-logloss:0.36772\ttrain-logloss:0.40329\n",
      "[631]\teval-logloss:0.36767\ttrain-logloss:0.40330\n",
      "[632]\teval-logloss:0.36760\ttrain-logloss:0.40328\n",
      "[633]\teval-logloss:0.36754\ttrain-logloss:0.40329\n",
      "[634]\teval-logloss:0.36747\ttrain-logloss:0.40330\n",
      "[635]\teval-logloss:0.36741\ttrain-logloss:0.40330\n",
      "[636]\teval-logloss:0.36732\ttrain-logloss:0.40329\n",
      "[637]\teval-logloss:0.36728\ttrain-logloss:0.40329\n",
      "[638]\teval-logloss:0.36723\ttrain-logloss:0.40330\n",
      "[639]\teval-logloss:0.36717\ttrain-logloss:0.40329\n",
      "[640]\teval-logloss:0.36713\ttrain-logloss:0.40329\n",
      "[641]\teval-logloss:0.36705\ttrain-logloss:0.40329\n",
      "[642]\teval-logloss:0.36699\ttrain-logloss:0.40329\n",
      "[643]\teval-logloss:0.36698\ttrain-logloss:0.40330\n",
      "[644]\teval-logloss:0.36696\ttrain-logloss:0.40330\n",
      "[645]\teval-logloss:0.36690\ttrain-logloss:0.40331\n",
      "[646]\teval-logloss:0.36685\ttrain-logloss:0.40333\n",
      "[647]\teval-logloss:0.36679\ttrain-logloss:0.40329\n",
      "[648]\teval-logloss:0.36672\ttrain-logloss:0.40330\n",
      "[649]\teval-logloss:0.36666\ttrain-logloss:0.40329\n",
      "[650]\teval-logloss:0.36662\ttrain-logloss:0.40331\n",
      "[651]\teval-logloss:0.36656\ttrain-logloss:0.40331\n",
      "[652]\teval-logloss:0.36653\ttrain-logloss:0.40332\n",
      "[653]\teval-logloss:0.36649\ttrain-logloss:0.40332\n",
      "[654]\teval-logloss:0.36646\ttrain-logloss:0.40331\n",
      "[655]\teval-logloss:0.36644\ttrain-logloss:0.40331\n",
      "[656]\teval-logloss:0.36640\ttrain-logloss:0.40332\n",
      "[657]\teval-logloss:0.36636\ttrain-logloss:0.40334\n",
      "[658]\teval-logloss:0.36632\ttrain-logloss:0.40336\n",
      "[659]\teval-logloss:0.36632\ttrain-logloss:0.40336\n",
      "[660]\teval-logloss:0.36626\ttrain-logloss:0.40337\n",
      "[661]\teval-logloss:0.36619\ttrain-logloss:0.40338\n",
      "[662]\teval-logloss:0.36616\ttrain-logloss:0.40339\n"
     ]
    },
    {
     "name": "stdout",
     "output_type": "stream",
     "text": [
      "[663]\teval-logloss:0.36614\ttrain-logloss:0.40339\n",
      "[664]\teval-logloss:0.36607\ttrain-logloss:0.40342\n",
      "[665]\teval-logloss:0.36603\ttrain-logloss:0.40343\n",
      "[666]\teval-logloss:0.36598\ttrain-logloss:0.40345\n",
      "[667]\teval-logloss:0.36595\ttrain-logloss:0.40347\n",
      "[668]\teval-logloss:0.36588\ttrain-logloss:0.40346\n",
      "[669]\teval-logloss:0.36586\ttrain-logloss:0.40347\n",
      "[670]\teval-logloss:0.36583\ttrain-logloss:0.40349\n",
      "[671]\teval-logloss:0.36579\ttrain-logloss:0.40349\n",
      "[672]\teval-logloss:0.36576\ttrain-logloss:0.40350\n",
      "[673]\teval-logloss:0.36569\ttrain-logloss:0.40352\n",
      "[674]\teval-logloss:0.36564\ttrain-logloss:0.40351\n",
      "[675]\teval-logloss:0.36562\ttrain-logloss:0.40352\n",
      "[676]\teval-logloss:0.36559\ttrain-logloss:0.40353\n",
      "[677]\teval-logloss:0.36557\ttrain-logloss:0.40354\n",
      "[678]\teval-logloss:0.36556\ttrain-logloss:0.40354\n",
      "[679]\teval-logloss:0.36555\ttrain-logloss:0.40355\n",
      "[680]\teval-logloss:0.36552\ttrain-logloss:0.40355\n",
      "[681]\teval-logloss:0.36552\ttrain-logloss:0.40357\n",
      "[682]\teval-logloss:0.36547\ttrain-logloss:0.40357\n",
      "[683]\teval-logloss:0.36545\ttrain-logloss:0.40358\n",
      "[684]\teval-logloss:0.36542\ttrain-logloss:0.40359\n",
      "[685]\teval-logloss:0.36539\ttrain-logloss:0.40358\n",
      "[686]\teval-logloss:0.36534\ttrain-logloss:0.40359\n",
      "[687]\teval-logloss:0.36528\ttrain-logloss:0.40360\n",
      "[688]\teval-logloss:0.36521\ttrain-logloss:0.40360\n",
      "[689]\teval-logloss:0.36516\ttrain-logloss:0.40362\n",
      "[690]\teval-logloss:0.36509\ttrain-logloss:0.40363\n",
      "[691]\teval-logloss:0.36505\ttrain-logloss:0.40363\n",
      "[692]\teval-logloss:0.36503\ttrain-logloss:0.40363\n",
      "[693]\teval-logloss:0.36501\ttrain-logloss:0.40364\n",
      "[694]\teval-logloss:0.36497\ttrain-logloss:0.40364\n",
      "[695]\teval-logloss:0.36494\ttrain-logloss:0.40364\n",
      "[696]\teval-logloss:0.36487\ttrain-logloss:0.40364\n",
      "[697]\teval-logloss:0.36483\ttrain-logloss:0.40365\n",
      "[698]\teval-logloss:0.36479\ttrain-logloss:0.40365\n",
      "[699]\teval-logloss:0.36475\ttrain-logloss:0.40365\n",
      "[700]\teval-logloss:0.36468\ttrain-logloss:0.40366\n",
      "[701]\teval-logloss:0.36462\ttrain-logloss:0.40366\n",
      "[702]\teval-logloss:0.36461\ttrain-logloss:0.40367\n",
      "[703]\teval-logloss:0.36460\ttrain-logloss:0.40368\n",
      "[704]\teval-logloss:0.36458\ttrain-logloss:0.40368\n",
      "[705]\teval-logloss:0.36454\ttrain-logloss:0.40369\n",
      "[706]\teval-logloss:0.36452\ttrain-logloss:0.40369\n",
      "[707]\teval-logloss:0.36448\ttrain-logloss:0.40369\n",
      "[708]\teval-logloss:0.36442\ttrain-logloss:0.40368\n",
      "[709]\teval-logloss:0.36442\ttrain-logloss:0.40369\n",
      "[710]\teval-logloss:0.36439\ttrain-logloss:0.40369\n",
      "[711]\teval-logloss:0.36434\ttrain-logloss:0.40369\n",
      "[712]\teval-logloss:0.36431\ttrain-logloss:0.40371\n",
      "[713]\teval-logloss:0.36427\ttrain-logloss:0.40371\n",
      "[714]\teval-logloss:0.36425\ttrain-logloss:0.40372\n",
      "[715]\teval-logloss:0.36422\ttrain-logloss:0.40372\n",
      "[716]\teval-logloss:0.36417\ttrain-logloss:0.40372\n",
      "[717]\teval-logloss:0.36413\ttrain-logloss:0.40372\n",
      "[718]\teval-logloss:0.36412\ttrain-logloss:0.40372\n",
      "[719]\teval-logloss:0.36411\ttrain-logloss:0.40372\n",
      "[720]\teval-logloss:0.36409\ttrain-logloss:0.40372\n",
      "[721]\teval-logloss:0.36408\ttrain-logloss:0.40372\n",
      "[722]\teval-logloss:0.36408\ttrain-logloss:0.40373\n",
      "[723]\teval-logloss:0.36404\ttrain-logloss:0.40373\n",
      "[724]\teval-logloss:0.36397\ttrain-logloss:0.40373\n",
      "[725]\teval-logloss:0.36390\ttrain-logloss:0.40374\n",
      "[726]\teval-logloss:0.36387\ttrain-logloss:0.40374\n",
      "[727]\teval-logloss:0.36384\ttrain-logloss:0.40375\n",
      "[728]\teval-logloss:0.36379\ttrain-logloss:0.40377\n",
      "[729]\teval-logloss:0.36373\ttrain-logloss:0.40377\n",
      "[730]\teval-logloss:0.36370\ttrain-logloss:0.40378\n",
      "[731]\teval-logloss:0.36367\ttrain-logloss:0.40379\n",
      "[732]\teval-logloss:0.36364\ttrain-logloss:0.40379\n",
      "[733]\teval-logloss:0.36363\ttrain-logloss:0.40380\n",
      "Stopping. Best iteration:\n",
      "[233]\teval-logloss:0.38556\ttrain-logloss:0.40207\n",
      "\n"
     ]
    }
   ],
   "source": [
    "import xgboost as xgb\n",
    "\n",
    "x_train,x_test,y_train,y_test = train_test_split(x,y,test_size=0.2)\n",
    "\n",
    "\n",
    "\n",
    "params = {\n",
    "        \"objective\": \"binary:logistic\",\n",
    "        \"booster\" : \"gbtree\",\n",
    "        \"eval_metric\": \"logloss\",        \n",
    "        \"silent\": 1,\n",
    "}\n",
    "\n",
    "xtrain  = xgb.DMatrix(x_train,y_train)\n",
    "xtest = xgb.DMatrix(x_test,y_test)\n",
    "eval_list = [(xtrain,'eval'),(xtest,'train')]\n",
    "\n",
    "\n",
    "xgboost = xgb.train(params,xtrain,num_boost_round=4000,evals=eval_list,early_stopping_rounds=500,verbose_eval=True)"
   ]
  },
  {
   "cell_type": "code",
   "execution_count": 48,
   "metadata": {},
   "outputs": [
    {
     "data": {
      "text/plain": [
       "array([0.09585989, 0.03077817, 0.07625188, ..., 0.2401694 , 0.04278368,\n",
       "       0.14415145], dtype=float32)"
      ]
     },
     "execution_count": 48,
     "metadata": {},
     "output_type": "execute_result"
    }
   ],
   "source": [
    "dtest = xgb.DMatrix(x_test)\n",
    "pred = xgboost.predict(dtest)\n",
    "pred"
   ]
  },
  {
   "cell_type": "code",
   "execution_count": 49,
   "metadata": {},
   "outputs": [
    {
     "name": "stdout",
     "output_type": "stream",
     "text": [
      "mae: 0.12656774070483462\n"
     ]
    }
   ],
   "source": [
    "print('mae:',mean_squared_error(y_test,pred))"
   ]
  },
  {
   "cell_type": "markdown",
   "metadata": {},
   "source": [
    "## Test Parser"
   ]
  },
  {
   "cell_type": "code",
   "execution_count": 52,
   "metadata": {},
   "outputs": [
    {
     "name": "stderr",
     "output_type": "stream",
     "text": [
      "C:\\Users\\David\\Anaconda3\\lib\\site-packages\\ipykernel_launcher.py:1: FutureWarning: The pandas.datetime class is deprecated and will be removed from pandas in a future version. Import from datetime module instead.\n",
      "  \"\"\"Entry point for launching an IPython kernel.\n"
     ]
    }
   ],
   "source": [
    "parser = lambda a : pd.datetime.strptime(a,'%y%m%d%H')\n",
    "test_df = pd.read_csv('./test.csv',parse_dates=['hour'],date_parser = parser)"
   ]
  },
  {
   "cell_type": "code",
   "execution_count": 53,
   "metadata": {},
   "outputs": [],
   "source": [
    "test_df['time'] = test_df.hour.apply(lambda a : a.hour)"
   ]
  },
  {
   "cell_type": "code",
   "execution_count": 54,
   "metadata": {},
   "outputs": [],
   "source": [
    "test_df['day_of_week'] = test_df.hour.apply(lambda x : x.weekday())\n",
    "test_df['day_of_week'] = test_df['day_of_week'] + 1"
   ]
  },
  {
   "cell_type": "code",
   "execution_count": 55,
   "metadata": {},
   "outputs": [
    {
     "data": {
      "text/html": [
       "<div>\n",
       "<style scoped>\n",
       "    .dataframe tbody tr th:only-of-type {\n",
       "        vertical-align: middle;\n",
       "    }\n",
       "\n",
       "    .dataframe tbody tr th {\n",
       "        vertical-align: top;\n",
       "    }\n",
       "\n",
       "    .dataframe thead th {\n",
       "        text-align: right;\n",
       "    }\n",
       "</style>\n",
       "<table border=\"1\" class=\"dataframe\">\n",
       "  <thead>\n",
       "    <tr style=\"text-align: right;\">\n",
       "      <th></th>\n",
       "      <th>id</th>\n",
       "      <th>hour</th>\n",
       "      <th>C1</th>\n",
       "      <th>banner_pos</th>\n",
       "      <th>site_id</th>\n",
       "      <th>site_domain</th>\n",
       "      <th>site_category</th>\n",
       "      <th>app_id</th>\n",
       "      <th>app_domain</th>\n",
       "      <th>app_category</th>\n",
       "      <th>...</th>\n",
       "      <th>C14</th>\n",
       "      <th>C15</th>\n",
       "      <th>C16</th>\n",
       "      <th>C17</th>\n",
       "      <th>C18</th>\n",
       "      <th>C19</th>\n",
       "      <th>C20</th>\n",
       "      <th>C21</th>\n",
       "      <th>time</th>\n",
       "      <th>day_of_week</th>\n",
       "    </tr>\n",
       "  </thead>\n",
       "  <tbody>\n",
       "    <tr>\n",
       "      <th>0</th>\n",
       "      <td>1.000017e+19</td>\n",
       "      <td>2014-10-31</td>\n",
       "      <td>1005</td>\n",
       "      <td>0</td>\n",
       "      <td>235ba823</td>\n",
       "      <td>f6ebf28e</td>\n",
       "      <td>f028772b</td>\n",
       "      <td>ecad2386</td>\n",
       "      <td>7801e8d9</td>\n",
       "      <td>07d7df22</td>\n",
       "      <td>...</td>\n",
       "      <td>8330</td>\n",
       "      <td>320</td>\n",
       "      <td>50</td>\n",
       "      <td>761</td>\n",
       "      <td>3</td>\n",
       "      <td>175</td>\n",
       "      <td>100075</td>\n",
       "      <td>23</td>\n",
       "      <td>0</td>\n",
       "      <td>5</td>\n",
       "    </tr>\n",
       "    <tr>\n",
       "      <th>1</th>\n",
       "      <td>1.000018e+19</td>\n",
       "      <td>2014-10-31</td>\n",
       "      <td>1005</td>\n",
       "      <td>0</td>\n",
       "      <td>1fbe01fe</td>\n",
       "      <td>f3845767</td>\n",
       "      <td>28905ebd</td>\n",
       "      <td>ecad2386</td>\n",
       "      <td>7801e8d9</td>\n",
       "      <td>07d7df22</td>\n",
       "      <td>...</td>\n",
       "      <td>22676</td>\n",
       "      <td>320</td>\n",
       "      <td>50</td>\n",
       "      <td>2616</td>\n",
       "      <td>0</td>\n",
       "      <td>35</td>\n",
       "      <td>100083</td>\n",
       "      <td>51</td>\n",
       "      <td>0</td>\n",
       "      <td>5</td>\n",
       "    </tr>\n",
       "    <tr>\n",
       "      <th>2</th>\n",
       "      <td>1.000055e+19</td>\n",
       "      <td>2014-10-31</td>\n",
       "      <td>1005</td>\n",
       "      <td>0</td>\n",
       "      <td>1fbe01fe</td>\n",
       "      <td>f3845767</td>\n",
       "      <td>28905ebd</td>\n",
       "      <td>ecad2386</td>\n",
       "      <td>7801e8d9</td>\n",
       "      <td>07d7df22</td>\n",
       "      <td>...</td>\n",
       "      <td>22676</td>\n",
       "      <td>320</td>\n",
       "      <td>50</td>\n",
       "      <td>2616</td>\n",
       "      <td>0</td>\n",
       "      <td>35</td>\n",
       "      <td>100083</td>\n",
       "      <td>51</td>\n",
       "      <td>0</td>\n",
       "      <td>5</td>\n",
       "    </tr>\n",
       "    <tr>\n",
       "      <th>3</th>\n",
       "      <td>1.000109e+19</td>\n",
       "      <td>2014-10-31</td>\n",
       "      <td>1005</td>\n",
       "      <td>0</td>\n",
       "      <td>85f751fd</td>\n",
       "      <td>c4e18dd6</td>\n",
       "      <td>50e219e0</td>\n",
       "      <td>51cedd4e</td>\n",
       "      <td>aefc06bd</td>\n",
       "      <td>0f2161f8</td>\n",
       "      <td>...</td>\n",
       "      <td>18648</td>\n",
       "      <td>320</td>\n",
       "      <td>50</td>\n",
       "      <td>1092</td>\n",
       "      <td>3</td>\n",
       "      <td>809</td>\n",
       "      <td>100156</td>\n",
       "      <td>61</td>\n",
       "      <td>0</td>\n",
       "      <td>5</td>\n",
       "    </tr>\n",
       "    <tr>\n",
       "      <th>4</th>\n",
       "      <td>1.000138e+19</td>\n",
       "      <td>2014-10-31</td>\n",
       "      <td>1005</td>\n",
       "      <td>0</td>\n",
       "      <td>85f751fd</td>\n",
       "      <td>c4e18dd6</td>\n",
       "      <td>50e219e0</td>\n",
       "      <td>9c13b419</td>\n",
       "      <td>2347f47a</td>\n",
       "      <td>f95efa07</td>\n",
       "      <td>...</td>\n",
       "      <td>23160</td>\n",
       "      <td>320</td>\n",
       "      <td>50</td>\n",
       "      <td>2667</td>\n",
       "      <td>0</td>\n",
       "      <td>47</td>\n",
       "      <td>-1</td>\n",
       "      <td>221</td>\n",
       "      <td>0</td>\n",
       "      <td>5</td>\n",
       "    </tr>\n",
       "  </tbody>\n",
       "</table>\n",
       "<p>5 rows × 25 columns</p>\n",
       "</div>"
      ],
      "text/plain": [
       "             id       hour    C1  banner_pos   site_id site_domain  \\\n",
       "0  1.000017e+19 2014-10-31  1005           0  235ba823    f6ebf28e   \n",
       "1  1.000018e+19 2014-10-31  1005           0  1fbe01fe    f3845767   \n",
       "2  1.000055e+19 2014-10-31  1005           0  1fbe01fe    f3845767   \n",
       "3  1.000109e+19 2014-10-31  1005           0  85f751fd    c4e18dd6   \n",
       "4  1.000138e+19 2014-10-31  1005           0  85f751fd    c4e18dd6   \n",
       "\n",
       "  site_category    app_id app_domain app_category  ...    C14  C15 C16   C17  \\\n",
       "0      f028772b  ecad2386   7801e8d9     07d7df22  ...   8330  320  50   761   \n",
       "1      28905ebd  ecad2386   7801e8d9     07d7df22  ...  22676  320  50  2616   \n",
       "2      28905ebd  ecad2386   7801e8d9     07d7df22  ...  22676  320  50  2616   \n",
       "3      50e219e0  51cedd4e   aefc06bd     0f2161f8  ...  18648  320  50  1092   \n",
       "4      50e219e0  9c13b419   2347f47a     f95efa07  ...  23160  320  50  2667   \n",
       "\n",
       "   C18  C19     C20  C21  time  day_of_week  \n",
       "0    3  175  100075   23     0            5  \n",
       "1    0   35  100083   51     0            5  \n",
       "2    0   35  100083   51     0            5  \n",
       "3    3  809  100156   61     0            5  \n",
       "4    0   47      -1  221     0            5  \n",
       "\n",
       "[5 rows x 25 columns]"
      ]
     },
     "execution_count": 55,
     "metadata": {},
     "output_type": "execute_result"
    }
   ],
   "source": [
    "test_df.head()"
   ]
  },
  {
   "cell_type": "code",
   "execution_count": 56,
   "metadata": {},
   "outputs": [],
   "source": [
    "\n",
    "test_columns = test_df.columns\n",
    "test_dtypes = test_df.dtypes\n",
    "new_type = '_int'\n",
    "\n",
    "for i in range(0,len(test_columns)):\n",
    "    if test_dtypes[i] == object:\n",
    "        test_df[test_columns[i]+new_type] = test_df[test_columns[i]].map(lambda a : hash(a))\n",
    "        test_df.drop([test_columns[i]],axis=1,inplace=True)\n",
    "        "
   ]
  },
  {
   "cell_type": "code",
   "execution_count": 57,
   "metadata": {},
   "outputs": [],
   "source": [
    "test_df = test_df.drop(['hour'],axis=1)"
   ]
  },
  {
   "cell_type": "code",
   "execution_count": 58,
   "metadata": {},
   "outputs": [
    {
     "data": {
      "text/plain": [
       "Index(['id', 'C1', 'banner_pos', 'device_type', 'device_conn_type', 'C14',\n",
       "       'C15', 'C16', 'C17', 'C18', 'C19', 'C20', 'C21', 'time', 'day_of_week',\n",
       "       'site_id_int', 'site_domain_int', 'site_category_int', 'app_id_int',\n",
       "       'app_domain_int', 'app_category_int', 'device_id_int', 'device_ip_int',\n",
       "       'device_model_int'],\n",
       "      dtype='object')"
      ]
     },
     "execution_count": 58,
     "metadata": {},
     "output_type": "execute_result"
    }
   ],
   "source": [
    "test_df.columns"
   ]
  },
  {
   "cell_type": "code",
   "execution_count": 59,
   "metadata": {},
   "outputs": [],
   "source": [
    "#test_df = test_df.drop(['time'],axis=1)\n",
    "dtest = xgb.DMatrix(test_df)\n",
    "test_pred = xgboost.predict(dtest)\n"
   ]
  },
  {
   "cell_type": "code",
   "execution_count": 60,
   "metadata": {},
   "outputs": [
    {
     "data": {
      "text/plain": [
       "array([0.12300629, 0.21186498, 0.2323472 , ..., 0.32918768, 0.02706269,\n",
       "       0.11382167])"
      ]
     },
     "execution_count": 60,
     "metadata": {},
     "output_type": "execute_result"
    }
   ],
   "source": [
    "gr_gbm_pred = gr_gbm.predict(test_df)\n",
    "gr_gbm_pred"
   ]
  },
  {
   "cell_type": "code",
   "execution_count": null,
   "metadata": {},
   "outputs": [],
   "source": [
    "submit_df = pd.read_csv('./sampleSubmission.csv')\n",
    "submit_df['click'] = gr_gbm_pred\n",
    "submit_df.to_csv('./submit_4.csv',index=False)"
   ]
  },
  {
   "cell_type": "code",
   "execution_count": 62,
   "metadata": {},
   "outputs": [],
   "source": [
    "#dtest = lgb.Dataset(test_df)\n",
    "test1_pred = gr_gbm.predict(test_df)\n"
   ]
  },
  {
   "cell_type": "code",
   "execution_count": null,
   "metadata": {},
   "outputs": [],
   "source": [
    "submit_df['click'] = test1_pred\n",
    "submit_df.to_csv('./submit_2.csv',index=False)"
   ]
  },
  {
   "cell_type": "code",
   "execution_count": null,
   "metadata": {},
   "outputs": [],
   "source": [
    "from mlxtend.regressor import StackingRegressor\n",
    "from sklearn.linear_model import Ridge\n",
    "from sklearn.svm import SVR\n",
    "from sklearn.ensemble import RandomForestRegressor\n",
    "from sklearn.model_selection import GridSearchCV\n",
    "\n",
    "lr = LinearRegression(normalize=True)\n",
    "svr = SVR(kernel='rbf')\n",
    "ridge = Ridge(random_state=1)\n",
    "\n",
    "sr = StackingRegressor(regressors=[lr,svr],meta_regressor=ridge)\n",
    "\n",
    "params = {'svr__C': [0.1, 1.0, 10.0],'svr__gamma': [0.1, 1.0, 10.0]}\n",
    "\n",
    "sr_gr = GridSearchCV(estimator=sr,param_grid=params)\n",
    "sr_gr.fit(x,y)"
   ]
  },
  {
   "cell_type": "code",
   "execution_count": null,
   "metadata": {},
   "outputs": [],
   "source": [
    "sr_pred = sr.predict(test_df)"
   ]
  },
  {
   "cell_type": "code",
   "execution_count": null,
   "metadata": {},
   "outputs": [],
   "source": [
    "submit_df['click'] = sr_pred"
   ]
  },
  {
   "cell_type": "code",
   "execution_count": null,
   "metadata": {},
   "outputs": [],
   "source": [
    "submit_df.to_csv('./submit_3.csv',index=False)"
   ]
  }
 ],
 "metadata": {
  "kernelspec": {
   "display_name": "Python 3",
   "language": "python",
   "name": "python3"
  },
  "language_info": {
   "codemirror_mode": {
    "name": "ipython",
    "version": 3
   },
   "file_extension": ".py",
   "mimetype": "text/x-python",
   "name": "python",
   "nbconvert_exporter": "python",
   "pygments_lexer": "ipython3",
   "version": "3.7.7"
  }
 },
 "nbformat": 4,
 "nbformat_minor": 4
}
